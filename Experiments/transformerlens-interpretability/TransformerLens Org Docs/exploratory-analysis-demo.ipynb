{
 "cells": [
  {
   "cell_type": "markdown",
   "id": "98ae625a",
   "metadata": {},
   "source": [
    "# TransformerLens: Exploratory Analysis Demo\n",
    "\n",
    "### Resources\n",
    "\n",
    "* Working through the tutorial: [Exploratory Analysis Demo](https://transformerlensorg.github.io/TransformerLens/generated/demos/Exploratory_Analysis_Demo.html)\n",
    "* Based on the demo notebook: [Exploratory_Analysis_Demo.ipynb](https://github.com/TransformerLensOrg/TransformerLens/blob/main/demos/Exploratory_Analysis_Demo.ipynb)\n",
    "* [Mechanistic interpretability terms glossary](https://dynalist.io/d/n2ZWtnoYHrU1s4vnFSAQ519J#z=_Jzi6YHRHKP1JziwdE02qdYZ)\n",
    "* [TransformerLens supported model list](https://github.com/TransformerLensOrg/TransformerLens/blob/a634e5757cd2ae43add9beb492be7a2dfb443a30/transformer_lens/loading_from_pretrained.py#L49)\n",
    "\n",
    "### Setup steps"
   ]
  },
  {
   "cell_type": "code",
   "execution_count": 2,
   "id": "041a2c9f",
   "metadata": {},
   "outputs": [],
   "source": [
    "IN_COLAB = False\n",
    "\n",
    "from IPython import get_ipython\n",
    "ip = get_ipython()\n",
    "if not ip.extension_manager.loaded:\n",
    "    ip.extension_manager.load('autoreload')\n",
    "    %autoreload 2"
   ]
  },
  {
   "cell_type": "markdown",
   "id": "e6d47f9f",
   "metadata": {},
   "source": [
    "### Imports"
   ]
  },
  {
   "cell_type": "code",
   "execution_count": 3,
   "id": "284e25d0",
   "metadata": {},
   "outputs": [],
   "source": [
    "\n",
    "from plotting_helpers import imshow, plot_line, plot_scatter\n",
    "\n",
    "from functools import partial\n",
    "from typing import List, Optional, Union\n",
    "\n",
    "import einops\n",
    "import random\n",
    "import numpy as np\n",
    "import plotly.express as px\n",
    "import plotly.io as pio\n",
    "import torch\n",
    "from circuitsvis.attention import attention_heads as plot_attention_heads\n",
    "from fancy_einsum import einsum\n",
    "from IPython.display import HTML, IFrame\n",
    "from jaxtyping import Float\n",
    "\n",
    "import transformer_lens.utils as utils\n",
    "from transformer_lens import ActivationCache, HookedTransformer\n",
    "\n",
    "# Configure torch and determinism\n",
    "torch.set_grad_enabled(False)\n",
    "torch.manual_seed(42)\n",
    "np.random.seed(42)\n",
    "random.seed(42)\n",
    "torch.use_deterministic_algorithms(True)"
   ]
  },
  {
   "cell_type": "markdown",
   "id": "4c8c848c",
   "metadata": {},
   "source": [
    "### Task: Indirect Object Identification\n",
    "\n",
    "* **Indirect Object Identification**: identifying the object of a sentence to generate the next token (e.g. generate \"Mary\" given the sentence \"After John and Mary went to the shops, John gave a bottle of milk to\").\n",
    "* *Hypothesis:* to perform this task, a network must circuits that can:\n",
    "    1. Recognise names.\n",
    "    2. Identify which name is already duplicated.\n",
    "    3. Predict the name that has not been duplicated.\n",
    "\n",
    "#### Model setup"
   ]
  },
  {
   "cell_type": "code",
   "execution_count": 4,
   "id": "0aa0fe60",
   "metadata": {},
   "outputs": [
    {
     "name": "stdout",
     "output_type": "stream",
     "text": [
      "Loaded pretrained model gpt2-small into HookedTransformer\n"
     ]
    }
   ],
   "source": [
    "# Input model & hyperparameters\n",
    "model_name = \"gpt2-small\"\n",
    "\n",
    "# Get current device type\n",
    "device = utils.get_device()\n",
    "\n",
    "# Flags that preserve the model's output but simplify its internals.\n",
    "hyperparams = {\n",
    "    \"device\": device,\n",
    "    \"center_unembed\": True,\n",
    "    \"center_writing_weights\": True,\n",
    "    \"fold_ln\": True,\n",
    "    \"refactor_factored_attn_matrices\": True\n",
    "}\n",
    "\n",
    "# Instantiate model\n",
    "model = HookedTransformer.from_pretrained(\n",
    "    model_name,\n",
    "    **hyperparams\n",
    ")"
   ]
  },
  {
   "cell_type": "code",
   "execution_count": 5,
   "id": "eecf51f0",
   "metadata": {},
   "outputs": [
    {
     "name": "stdout",
     "output_type": "stream",
     "text": [
      "Tokenized prompt: ['<|endoftext|>', 'After', ' John', ' and', ' Mary', ' went', ' to', ' the', ' shops', ',', ' John', ' gave', ' a', ' bottle', ' of', ' milk', ' to']\n",
      "Tokenized answer: [' Mary']\n"
     ]
    },
    {
     "data": {
      "text/html": [
       "<pre style=\"white-space:pre;overflow-x:auto;line-height:normal;font-family:Menlo,'DejaVu Sans Mono',consolas,'Courier New',monospace\">Performance on answer token:\n",
       "<span style=\"font-weight: bold\">Rank: </span><span style=\"color: #008080; text-decoration-color: #008080; font-weight: bold\">0</span><span style=\"font-weight: bold\">        Logit: </span><span style=\"color: #008080; text-decoration-color: #008080; font-weight: bold\">18.19</span><span style=\"font-weight: bold\"> Prob: </span><span style=\"color: #008080; text-decoration-color: #008080; font-weight: bold\">72.20</span><span style=\"font-weight: bold\">% Token: | Mary|</span>\n",
       "</pre>\n"
      ],
      "text/plain": [
       "Performance on answer token:\n",
       "\u001b[1mRank: \u001b[0m\u001b[1;36m0\u001b[0m\u001b[1m        Logit: \u001b[0m\u001b[1;36m18.19\u001b[0m\u001b[1m Prob: \u001b[0m\u001b[1;36m72.20\u001b[0m\u001b[1m% Token: | Mary|\u001b[0m\n"
      ]
     },
     "metadata": {},
     "output_type": "display_data"
    },
    {
     "name": "stdout",
     "output_type": "stream",
     "text": [
      "Top 0th token. Logit: 18.19 Prob: 72.20% Token: | Mary|\n",
      "Top 1th token. Logit: 15.43 Prob:  4.57% Token: | John|\n",
      "Top 2th token. Logit: 15.31 Prob:  4.04% Token: | the|\n",
      "Top 3th token. Logit: 15.16 Prob:  3.49% Token: | them|\n",
      "Top 4th token. Logit: 14.89 Prob:  2.65% Token: | his|\n",
      "Top 5th token. Logit: 13.74 Prob:  0.84% Token: | her|\n",
      "Top 6th token. Logit: 13.56 Prob:  0.70% Token: | a|\n",
      "Top 7th token. Logit: 13.52 Prob:  0.67% Token: | their|\n",
      "Top 8th token. Logit: 13.06 Prob:  0.42% Token: | Mrs|\n",
      "Top 9th token. Logit: 13.04 Prob:  0.42% Token: | Jesus|\n"
     ]
    },
    {
     "data": {
      "text/html": [
       "<pre style=\"white-space:pre;overflow-x:auto;line-height:normal;font-family:Menlo,'DejaVu Sans Mono',consolas,'Courier New',monospace\"><span style=\"font-weight: bold\">Ranks of the answer tokens:</span> <span style=\"font-weight: bold\">[(</span><span style=\"color: #008000; text-decoration-color: #008000\">' Mary'</span>, <span style=\"color: #008080; text-decoration-color: #008080; font-weight: bold\">0</span><span style=\"font-weight: bold\">)]</span>\n",
       "</pre>\n"
      ],
      "text/plain": [
       "\u001b[1mRanks of the answer tokens:\u001b[0m \u001b[1m[\u001b[0m\u001b[1m(\u001b[0m\u001b[32m' Mary'\u001b[0m, \u001b[1;36m0\u001b[0m\u001b[1m)\u001b[0m\u001b[1m]\u001b[0m\n"
      ]
     },
     "metadata": {},
     "output_type": "display_data"
    }
   ],
   "source": [
    "# Test model can perform Indirect Object Identification task\n",
    "test_prompt = \"After John and Mary went to the shops, John gave a bottle of milk to\"\n",
    "test_completion = \" Mary\"\n",
    "\n",
    "utils.test_prompt(test_prompt, test_completion, model, prepend_bos=True)"
   ]
  },
  {
   "cell_type": "code",
   "execution_count": 6,
   "id": "74b310b5",
   "metadata": {},
   "outputs": [],
   "source": [
    "def format_prompt_for_analysis(prompt, correct_completion, incorrect_completion):\n",
    "    \"\"\"\n",
    "    Formats a prompt by inserting the incorrect completion choice,\n",
    "    along with the token ids for the correct and incorrect completions.\n",
    "\n",
    "    Args:\n",
    "        prompt (str): The prompt string with a '{}' placeholder for completion.\n",
    "        correct_completion (str): The correct completion string (e.g., \" Mary\").\n",
    "        incorrect_completion (str): The incorrect completion string (e.g., \" John\").\n",
    "\n",
    "    Returns:\n",
    "        formatted_prompt (str): The prompt with the incorrect completion inserted.\n",
    "        completions_tok (tuple): Tuple of token ids for (correct_completion, incorrect_completion).\n",
    "    \"\"\"\n",
    "\n",
    "    # Tokenise given correct and incorrect completions to prompt\n",
    "    correct_completion_tok = model.to_single_token(correct_completion)\n",
    "    incorrect_completion_tok = model.to_single_token(incorrect_completion)\n",
    "\n",
    "    completions_tok = (correct_completion_tok, incorrect_completion_tok)\n",
    "\n",
    "    # Add one of the completions (correct/incorrect) to the prompt\n",
    "    # This allows us to inspect logits over the vocabulary when the completion is generated\n",
    "    formatted_prompt = prompt.format(incorrect_completion)\n",
    "\n",
    "    return formatted_prompt, completions_tok"
   ]
  },
  {
   "cell_type": "code",
   "execution_count": 7,
   "id": "1ed33246",
   "metadata": {},
   "outputs": [],
   "source": [
    "# Define metric \"logit difference\" to score correct vs incorrect completion\n",
    "def compute_logit_difference(generation_logits, completion_choice_tokens, per_prompt=False):\n",
    "    \"\"\"\n",
    "    Logit Difference metric for Indirect Object Identification task.\n",
    "    Scores the difference in logit between the indirect object's name and the subject's name.\n",
    "\n",
    "    Args:\n",
    "        generation_logits (Tensor): Logits output from the model of shape (batch, seq_len, vocab_size).\n",
    "        completion_choice_tokens (Tensor): Tensor of shape (batch, 2) or (2,) with token ids for correct and incorrect completions.\n",
    "        per_prompt (bool): If True, return logit difference per prompt; if False, return mean over batch.\n",
    "\n",
    "    Returns:\n",
    "        logit_differences (Tensor): Logit difference(s) between correct and incorrect completions. Shape is (batch,) if per_prompt is True, else float.\n",
    "    \"\"\"\n",
    "\n",
    "    # Get logits corresponding to the last token (i.e. our completion)\n",
    "    logits_last_token = generation_logits[:, -1, :]\n",
    "\n",
    "    # Get logits corresponding to the correct and incorrect completion tokens\n",
    "    if generation_logits.shape[0] > 1:\n",
    "        # Compute over batch of prompts/completions\n",
    "        logits_completion_choices = logits_last_token.gather(dim=-1, index=completion_choice_tokens)\n",
    "        logit_differences = logits_completion_choices[:, 0] - logits_completion_choices[:, 1]\n",
    "    else:\n",
    "        # Compute on single prompt and completion choice pair\n",
    "        completion_choice_tokens = completion_choice_tokens[0]\n",
    "        logit_differences = logits_last_token[0, completion_choice_tokens[0]] - logits_last_token[0, completion_choice_tokens[1]]\n",
    "\n",
    "    # Average results over batch\n",
    "    if not per_prompt and generation_logits.shape[0] > 1:\n",
    "        logit_differences = logit_differences.mean()\n",
    "\n",
    "    return logit_differences"
   ]
  },
  {
   "cell_type": "code",
   "execution_count": 8,
   "id": "fafdfc00",
   "metadata": {},
   "outputs": [
    {
     "name": "stdout",
     "output_type": "stream",
     "text": [
      "When John and Mary went to the shops, John gave the bag to (5335, 1757)\n"
     ]
    }
   ],
   "source": [
    "# Multiple prompts for fuller analysis\n",
    "# prompts_to_format = [\n",
    "#     \"When John and Mary went to the shops,{} gave the bag to\",\n",
    "#     \"When Tom and James went to the park,{} gave the ball to\",\n",
    "#     \"When Dan and Sid went to the shops,{} gave an apple to\",\n",
    "#     \"After Martin and Amy went to the park,{} gave a drink to\",\n",
    "# ]\n",
    "\n",
    "# completion_choices = [\n",
    "#     (\" Mary\", \" John\"),\n",
    "#     (\" Tom\", \" James\"),\n",
    "#     (\" Dan\", \" Sid\"),\n",
    "#     (\" Martin\", \" Amy\"),\n",
    "# ]\n",
    "\n",
    "prompts_to_format = [\n",
    "    \"When John and Mary went to the shops,{} gave the bag to\",\n",
    "]\n",
    "\n",
    "completion_choices = [\n",
    "    (\" Mary\", \" John\"),\n",
    "]\n",
    "\n",
    "# List of prompts and completions, in the format (correct_token, incorrect_token)\n",
    "prompts_strs = []\n",
    "completions_toks = []\n",
    "\n",
    "# Create list of the token ids corresponding to each answer\n",
    "for prompt, completion in zip(prompts_to_format, completion_choices):\n",
    "    formatted_prompt, completion_toks = format_prompt_for_analysis(\n",
    "        prompt,\n",
    "        completion[0],\n",
    "        completion[1],\n",
    "    )\n",
    "\n",
    "    prompts_strs.append(formatted_prompt)\n",
    "    completions_toks.append(completion_toks)\n",
    "    print(formatted_prompt, completion_toks)\n",
    "\n",
    "    # formatted_prompt, completion_toks = format_prompt_for_analysis(\n",
    "    #     prompt,\n",
    "    #     completion[1],\n",
    "    #     completion[0],\n",
    "    # )\n",
    "\n",
    "    # prompts_strs.append(formatted_prompt)\n",
    "    # completions_toks.append(completion_toks)\n",
    "    # print(formatted_prompt, completion_toks)\n",
    "\n",
    "prompts_toks = model.to_tokens(prompts_strs, prepend_bos=True).to(device)\n",
    "completions_toks = torch.tensor(completions_toks).to(device)"
   ]
  },
  {
   "cell_type": "code",
   "execution_count": 9,
   "id": "96135552",
   "metadata": {},
   "outputs": [
    {
     "name": "stdout",
     "output_type": "stream",
     "text": [
      "torch.Size([1, 15, 50257])\n"
     ]
    }
   ],
   "source": [
    "# Generate completion and cache activation values\n",
    "model_output_logits, activation_cache = model.run_with_cache(prompts_toks)\n",
    "\n",
    "print(model_output_logits.shape)"
   ]
  },
  {
   "cell_type": "code",
   "execution_count": 10,
   "id": "0ce9e766",
   "metadata": {},
   "outputs": [
    {
     "name": "stdout",
     "output_type": "stream",
     "text": [
      "Per prompt logit difference: 3.337\n"
     ]
    }
   ],
   "source": [
    "logit_differences = compute_logit_difference(\n",
    "    model_output_logits,\n",
    "    completions_toks,\n",
    "    per_prompt=True\n",
    ")\n",
    "\n",
    "if len(logit_differences.shape) == 0:\n",
    "    print(f\"Per prompt logit difference: {logit_differences:.3f}\")\n",
    "else:\n",
    "    print(f\"Per prompt logit difference: {logit_differences}\")\n",
    "    mean_logit_difference = logit_differences.mean()\n",
    "    print(f\"Average logit difference: {mean_logit_difference:.3f}\")"
   ]
  },
  {
   "cell_type": "markdown",
   "id": "61ea33f7",
   "metadata": {},
   "source": [
    "Result:\n",
    "* Average logit difference is $3.5$.\n",
    "* This represents putting a $e^{3.5}$ or approx. $33 \\times$ higher probability on the correct answer.\n",
    "  \n",
    "Hypothesis:\n",
    "* We might expect there to be a head which detects duplicate tokens on the second \" John\" token, and then another head which moves that information from the second \" John\" token to the \" to\" token.\n",
    "* The model then needs to learn to predict \" Mary\" and not \" John\". There are potentially two ways to do this:\n",
    "  * Detect all preceding names and move this information to \" to\" point. Then delete any names corresponding to the duplicate token feature, e.g. by an MLP layer that deletes the \" John\" direction of the residual stream.\n",
    "  * Have a head which attends to all previous names, but where the duplicate token features inhibit it from attending to specific names.\n",
    "\n",
    "A test that could distinguish these two is to look at which components of the model add directly to the logits. If it’s mostly attention heads that attend to \" Mary\" and not to \" John\" it’s probably hypothesis 2, if it’s mostly MLPs it’s probably hypothesis 1. We should be able to identify duplicate token heads by finding ones which attend from \" John\" to \" John\", and whose outputs are then moved to the \" to\" token by V-Composition with another head. \n",
    "\n",
    "(Note: the above reasoning is simplistic and could easily break in a larger model)"
   ]
  },
  {
   "cell_type": "code",
   "execution_count": 11,
   "id": "815f193b",
   "metadata": {},
   "outputs": [
    {
     "data": {
      "application/vnd.plotly.v1+json": {
       "config": {
        "plotlyServerURL": "https://plot.ly"
       },
       "data": [
        {
         "coloraxis": "coloraxis",
         "hovertemplate": "Token from vocabulary: %{x}<br>y: %{y}<br>color: %{z}<extra></extra>",
         "name": "0",
         "type": "heatmap",
         "x": [
          " Mary",
          " them",
          " the",
          " his",
          " John",
          " her",
          " their",
          " a",
          " him",
          " Mrs",
          " Jesus",
          " Joseph",
          " me",
          " one",
          " Martha",
          " us",
          " Peter",
          " Sarah",
          " Mr",
          " James",
          " each",
          " some",
          " Luke",
          " my",
          " everyone"
         ],
         "xaxis": "x",
         "y": [
          "Logit value  "
         ],
         "yaxis": "y",
         "z": {
          "bdata": "AAAA4HUxMkAAAADACaIvQAAAAKCt9y5AAAAAwLPZLUAAAABggrYtQAAAAGCAPixAAAAAAGP4K0AAAADAiGQrQAAAAKB+DytAAAAAoFvFKkAAAABAhkIqQAAAACAePSpAAAAAQPWKKUAAAADALUUpQAAAAECVgShAAAAAYN5QKEAAAACgzr4nQAAAAKCKcydAAAAAAG5wJ0AAAADAp1MnQAAAAMBeOCdAAAAAwOgAJ0AAAACAZ/EmQAAAAIBg7CZAAAAA4PXoJkA=",
          "dtype": "f8",
          "shape": "1, 25"
         }
        }
       ],
       "layout": {
        "coloraxis": {
         "cmid": 0,
         "colorscale": [
          [
           0,
           "#30123b"
          ],
          [
           0.07142857142857142,
           "#4145ab"
          ],
          [
           0.14285714285714285,
           "#4675ed"
          ],
          [
           0.21428571428571427,
           "#39a2fc"
          ],
          [
           0.2857142857142857,
           "#1bcfd4"
          ],
          [
           0.35714285714285715,
           "#24eca6"
          ],
          [
           0.42857142857142855,
           "#61fc6c"
          ],
          [
           0.5,
           "#a4fc3b"
          ],
          [
           0.5714285714285714,
           "#d1e834"
          ],
          [
           0.6428571428571429,
           "#f3c63a"
          ],
          [
           0.7142857142857143,
           "#fe9b2d"
          ],
          [
           0.7857142857142857,
           "#f36315"
          ],
          [
           0.8571428571428571,
           "#d93806"
          ],
          [
           0.9285714285714286,
           "#b11901"
          ],
          [
           1,
           "#7a0402"
          ]
         ]
        },
        "template": {
         "data": {
          "bar": [
           {
            "error_x": {
             "color": "#2a3f5f"
            },
            "error_y": {
             "color": "#2a3f5f"
            },
            "marker": {
             "line": {
              "color": "#E5ECF6",
              "width": 0.5
             },
             "pattern": {
              "fillmode": "overlay",
              "size": 10,
              "solidity": 0.2
             }
            },
            "type": "bar"
           }
          ],
          "barpolar": [
           {
            "marker": {
             "line": {
              "color": "#E5ECF6",
              "width": 0.5
             },
             "pattern": {
              "fillmode": "overlay",
              "size": 10,
              "solidity": 0.2
             }
            },
            "type": "barpolar"
           }
          ],
          "carpet": [
           {
            "aaxis": {
             "endlinecolor": "#2a3f5f",
             "gridcolor": "white",
             "linecolor": "white",
             "minorgridcolor": "white",
             "startlinecolor": "#2a3f5f"
            },
            "baxis": {
             "endlinecolor": "#2a3f5f",
             "gridcolor": "white",
             "linecolor": "white",
             "minorgridcolor": "white",
             "startlinecolor": "#2a3f5f"
            },
            "type": "carpet"
           }
          ],
          "choropleth": [
           {
            "colorbar": {
             "outlinewidth": 0,
             "ticks": ""
            },
            "type": "choropleth"
           }
          ],
          "contour": [
           {
            "colorbar": {
             "outlinewidth": 0,
             "ticks": ""
            },
            "colorscale": [
             [
              0,
              "#0d0887"
             ],
             [
              0.1111111111111111,
              "#46039f"
             ],
             [
              0.2222222222222222,
              "#7201a8"
             ],
             [
              0.3333333333333333,
              "#9c179e"
             ],
             [
              0.4444444444444444,
              "#bd3786"
             ],
             [
              0.5555555555555556,
              "#d8576b"
             ],
             [
              0.6666666666666666,
              "#ed7953"
             ],
             [
              0.7777777777777778,
              "#fb9f3a"
             ],
             [
              0.8888888888888888,
              "#fdca26"
             ],
             [
              1,
              "#f0f921"
             ]
            ],
            "type": "contour"
           }
          ],
          "contourcarpet": [
           {
            "colorbar": {
             "outlinewidth": 0,
             "ticks": ""
            },
            "type": "contourcarpet"
           }
          ],
          "heatmap": [
           {
            "colorbar": {
             "outlinewidth": 0,
             "ticks": ""
            },
            "colorscale": [
             [
              0,
              "#0d0887"
             ],
             [
              0.1111111111111111,
              "#46039f"
             ],
             [
              0.2222222222222222,
              "#7201a8"
             ],
             [
              0.3333333333333333,
              "#9c179e"
             ],
             [
              0.4444444444444444,
              "#bd3786"
             ],
             [
              0.5555555555555556,
              "#d8576b"
             ],
             [
              0.6666666666666666,
              "#ed7953"
             ],
             [
              0.7777777777777778,
              "#fb9f3a"
             ],
             [
              0.8888888888888888,
              "#fdca26"
             ],
             [
              1,
              "#f0f921"
             ]
            ],
            "type": "heatmap"
           }
          ],
          "histogram": [
           {
            "marker": {
             "pattern": {
              "fillmode": "overlay",
              "size": 10,
              "solidity": 0.2
             }
            },
            "type": "histogram"
           }
          ],
          "histogram2d": [
           {
            "colorbar": {
             "outlinewidth": 0,
             "ticks": ""
            },
            "colorscale": [
             [
              0,
              "#0d0887"
             ],
             [
              0.1111111111111111,
              "#46039f"
             ],
             [
              0.2222222222222222,
              "#7201a8"
             ],
             [
              0.3333333333333333,
              "#9c179e"
             ],
             [
              0.4444444444444444,
              "#bd3786"
             ],
             [
              0.5555555555555556,
              "#d8576b"
             ],
             [
              0.6666666666666666,
              "#ed7953"
             ],
             [
              0.7777777777777778,
              "#fb9f3a"
             ],
             [
              0.8888888888888888,
              "#fdca26"
             ],
             [
              1,
              "#f0f921"
             ]
            ],
            "type": "histogram2d"
           }
          ],
          "histogram2dcontour": [
           {
            "colorbar": {
             "outlinewidth": 0,
             "ticks": ""
            },
            "colorscale": [
             [
              0,
              "#0d0887"
             ],
             [
              0.1111111111111111,
              "#46039f"
             ],
             [
              0.2222222222222222,
              "#7201a8"
             ],
             [
              0.3333333333333333,
              "#9c179e"
             ],
             [
              0.4444444444444444,
              "#bd3786"
             ],
             [
              0.5555555555555556,
              "#d8576b"
             ],
             [
              0.6666666666666666,
              "#ed7953"
             ],
             [
              0.7777777777777778,
              "#fb9f3a"
             ],
             [
              0.8888888888888888,
              "#fdca26"
             ],
             [
              1,
              "#f0f921"
             ]
            ],
            "type": "histogram2dcontour"
           }
          ],
          "mesh3d": [
           {
            "colorbar": {
             "outlinewidth": 0,
             "ticks": ""
            },
            "type": "mesh3d"
           }
          ],
          "parcoords": [
           {
            "line": {
             "colorbar": {
              "outlinewidth": 0,
              "ticks": ""
             }
            },
            "type": "parcoords"
           }
          ],
          "pie": [
           {
            "automargin": true,
            "type": "pie"
           }
          ],
          "scatter": [
           {
            "fillpattern": {
             "fillmode": "overlay",
             "size": 10,
             "solidity": 0.2
            },
            "type": "scatter"
           }
          ],
          "scatter3d": [
           {
            "line": {
             "colorbar": {
              "outlinewidth": 0,
              "ticks": ""
             }
            },
            "marker": {
             "colorbar": {
              "outlinewidth": 0,
              "ticks": ""
             }
            },
            "type": "scatter3d"
           }
          ],
          "scattercarpet": [
           {
            "marker": {
             "colorbar": {
              "outlinewidth": 0,
              "ticks": ""
             }
            },
            "type": "scattercarpet"
           }
          ],
          "scattergeo": [
           {
            "marker": {
             "colorbar": {
              "outlinewidth": 0,
              "ticks": ""
             }
            },
            "type": "scattergeo"
           }
          ],
          "scattergl": [
           {
            "marker": {
             "colorbar": {
              "outlinewidth": 0,
              "ticks": ""
             }
            },
            "type": "scattergl"
           }
          ],
          "scattermap": [
           {
            "marker": {
             "colorbar": {
              "outlinewidth": 0,
              "ticks": ""
             }
            },
            "type": "scattermap"
           }
          ],
          "scattermapbox": [
           {
            "marker": {
             "colorbar": {
              "outlinewidth": 0,
              "ticks": ""
             }
            },
            "type": "scattermapbox"
           }
          ],
          "scatterpolar": [
           {
            "marker": {
             "colorbar": {
              "outlinewidth": 0,
              "ticks": ""
             }
            },
            "type": "scatterpolar"
           }
          ],
          "scatterpolargl": [
           {
            "marker": {
             "colorbar": {
              "outlinewidth": 0,
              "ticks": ""
             }
            },
            "type": "scatterpolargl"
           }
          ],
          "scatterternary": [
           {
            "marker": {
             "colorbar": {
              "outlinewidth": 0,
              "ticks": ""
             }
            },
            "type": "scatterternary"
           }
          ],
          "surface": [
           {
            "colorbar": {
             "outlinewidth": 0,
             "ticks": ""
            },
            "colorscale": [
             [
              0,
              "#0d0887"
             ],
             [
              0.1111111111111111,
              "#46039f"
             ],
             [
              0.2222222222222222,
              "#7201a8"
             ],
             [
              0.3333333333333333,
              "#9c179e"
             ],
             [
              0.4444444444444444,
              "#bd3786"
             ],
             [
              0.5555555555555556,
              "#d8576b"
             ],
             [
              0.6666666666666666,
              "#ed7953"
             ],
             [
              0.7777777777777778,
              "#fb9f3a"
             ],
             [
              0.8888888888888888,
              "#fdca26"
             ],
             [
              1,
              "#f0f921"
             ]
            ],
            "type": "surface"
           }
          ],
          "table": [
           {
            "cells": {
             "fill": {
              "color": "#EBF0F8"
             },
             "line": {
              "color": "white"
             }
            },
            "header": {
             "fill": {
              "color": "#C8D4E3"
             },
             "line": {
              "color": "white"
             }
            },
            "type": "table"
           }
          ]
         },
         "layout": {
          "annotationdefaults": {
           "arrowcolor": "#2a3f5f",
           "arrowhead": 0,
           "arrowwidth": 1
          },
          "autotypenumbers": "strict",
          "coloraxis": {
           "colorbar": {
            "outlinewidth": 0,
            "ticks": ""
           }
          },
          "colorscale": {
           "diverging": [
            [
             0,
             "#8e0152"
            ],
            [
             0.1,
             "#c51b7d"
            ],
            [
             0.2,
             "#de77ae"
            ],
            [
             0.3,
             "#f1b6da"
            ],
            [
             0.4,
             "#fde0ef"
            ],
            [
             0.5,
             "#f7f7f7"
            ],
            [
             0.6,
             "#e6f5d0"
            ],
            [
             0.7,
             "#b8e186"
            ],
            [
             0.8,
             "#7fbc41"
            ],
            [
             0.9,
             "#4d9221"
            ],
            [
             1,
             "#276419"
            ]
           ],
           "sequential": [
            [
             0,
             "#0d0887"
            ],
            [
             0.1111111111111111,
             "#46039f"
            ],
            [
             0.2222222222222222,
             "#7201a8"
            ],
            [
             0.3333333333333333,
             "#9c179e"
            ],
            [
             0.4444444444444444,
             "#bd3786"
            ],
            [
             0.5555555555555556,
             "#d8576b"
            ],
            [
             0.6666666666666666,
             "#ed7953"
            ],
            [
             0.7777777777777778,
             "#fb9f3a"
            ],
            [
             0.8888888888888888,
             "#fdca26"
            ],
            [
             1,
             "#f0f921"
            ]
           ],
           "sequentialminus": [
            [
             0,
             "#0d0887"
            ],
            [
             0.1111111111111111,
             "#46039f"
            ],
            [
             0.2222222222222222,
             "#7201a8"
            ],
            [
             0.3333333333333333,
             "#9c179e"
            ],
            [
             0.4444444444444444,
             "#bd3786"
            ],
            [
             0.5555555555555556,
             "#d8576b"
            ],
            [
             0.6666666666666666,
             "#ed7953"
            ],
            [
             0.7777777777777778,
             "#fb9f3a"
            ],
            [
             0.8888888888888888,
             "#fdca26"
            ],
            [
             1,
             "#f0f921"
            ]
           ]
          },
          "colorway": [
           "#636efa",
           "#EF553B",
           "#00cc96",
           "#ab63fa",
           "#FFA15A",
           "#19d3f3",
           "#FF6692",
           "#B6E880",
           "#FF97FF",
           "#FECB52"
          ],
          "font": {
           "color": "#2a3f5f"
          },
          "geo": {
           "bgcolor": "white",
           "lakecolor": "white",
           "landcolor": "#E5ECF6",
           "showlakes": true,
           "showland": true,
           "subunitcolor": "white"
          },
          "hoverlabel": {
           "align": "left"
          },
          "hovermode": "closest",
          "mapbox": {
           "style": "light"
          },
          "paper_bgcolor": "white",
          "plot_bgcolor": "#E5ECF6",
          "polar": {
           "angularaxis": {
            "gridcolor": "white",
            "linecolor": "white",
            "ticks": ""
           },
           "bgcolor": "#E5ECF6",
           "radialaxis": {
            "gridcolor": "white",
            "linecolor": "white",
            "ticks": ""
           }
          },
          "scene": {
           "xaxis": {
            "backgroundcolor": "#E5ECF6",
            "gridcolor": "white",
            "gridwidth": 2,
            "linecolor": "white",
            "showbackground": true,
            "ticks": "",
            "zerolinecolor": "white"
           },
           "yaxis": {
            "backgroundcolor": "#E5ECF6",
            "gridcolor": "white",
            "gridwidth": 2,
            "linecolor": "white",
            "showbackground": true,
            "ticks": "",
            "zerolinecolor": "white"
           },
           "zaxis": {
            "backgroundcolor": "#E5ECF6",
            "gridcolor": "white",
            "gridwidth": 2,
            "linecolor": "white",
            "showbackground": true,
            "ticks": "",
            "zerolinecolor": "white"
           }
          },
          "shapedefaults": {
           "line": {
            "color": "#2a3f5f"
           }
          },
          "ternary": {
           "aaxis": {
            "gridcolor": "white",
            "linecolor": "white",
            "ticks": ""
           },
           "baxis": {
            "gridcolor": "white",
            "linecolor": "white",
            "ticks": ""
           },
           "bgcolor": "#E5ECF6",
           "caxis": {
            "gridcolor": "white",
            "linecolor": "white",
            "ticks": ""
           }
          },
          "title": {
           "x": 0.05
          },
          "xaxis": {
           "automargin": true,
           "gridcolor": "white",
           "linecolor": "white",
           "ticks": "",
           "title": {
            "standoff": 15
           },
           "zerolinecolor": "white",
           "zerolinewidth": 2
          },
          "yaxis": {
           "automargin": true,
           "gridcolor": "white",
           "linecolor": "white",
           "ticks": "",
           "title": {
            "standoff": 15
           },
           "zerolinecolor": "white",
           "zerolinewidth": 2
          }
         }
        },
        "title": {
         "text": "Logit values for final token of generated sequence"
        },
        "xaxis": {
         "anchor": "y",
         "constrain": "domain",
         "domain": [
          0,
          1
         ],
         "scaleanchor": "y",
         "title": {
          "text": "Token from vocabulary"
         }
        },
        "yaxis": {
         "anchor": "x",
         "autorange": "reversed",
         "constrain": "domain",
         "domain": [
          0,
          1
         ]
        }
       }
      }
     },
     "metadata": {},
     "output_type": "display_data"
    }
   ],
   "source": [
    "def plot_top_predicted_tokens(generation_logits: torch.Tensor, k: int = 10) -> None:\n",
    "    \"\"\"\n",
    "    Plot the logits of the top k predicted tokens from a model generation.\n",
    "\n",
    "    Args:\n",
    "        generation_logits (Tensor): Logits output from the model of shape (batch, seq_len, vocab_size).\n",
    "        k (int): Number of tokens from vocab to plot.\n",
    "    \"\"\"\n",
    "\n",
    "    # Get logits corresponding to the last token (i.e. our completion)\n",
    "    logits_last_token = generation_logits[0, -1, :]\n",
    "\n",
    "    logits_by_token = list(enumerate(logits_last_token.tolist()))\n",
    "    logits_by_token = sorted(\n",
    "        logits_by_token,\n",
    "        key=lambda x: x[1],\n",
    "        reverse=True\n",
    "    )\n",
    "\n",
    "    logit_values = np.array([logit for tok, logit in logits_by_token])\n",
    "    # logit_values = (logit_values - min(logit_values))\n",
    "    # logit_values = logit_values / max(logit_values)\n",
    "\n",
    "    highest_predictions = logit_values[:k]\n",
    "    highest_predictions = np.expand_dims(highest_predictions, axis=0)\n",
    "\n",
    "    token_labels = [model.to_single_str_token(tok) for tok, logit in logits_by_token[:k]]\n",
    "\n",
    "    px.imshow(\n",
    "        highest_predictions,\n",
    "        x=token_labels,\n",
    "        y=[\"Logit value  \"],\n",
    "        title=\"Logit values for final token of generated sequence\",\n",
    "        labels=dict(x=\"Token from vocabulary\"),\n",
    "        color_continuous_midpoint=0.0,\n",
    "        color_continuous_scale=\"turbo\",\n",
    "    ).show()\n",
    "\n",
    "\n",
    "plot_top_predicted_tokens(model_output_logits, k=25)"
   ]
  },
  {
   "cell_type": "markdown",
   "id": "f1f7c475",
   "metadata": {},
   "source": [
    "### Direct Logit Attribution\n",
    "\n",
    "* **Direct logit attribution**: An approach to reverse engineering a circuit by understanding how a given model produces its answer (i.e. start at the end) and to then working backwards through the network.\n",
    "* **Residual stream**: The 'central object' of the transformer network architecture to which many layers read from and write to. It is the sum of the outputs of each layer and the original token / positional embedding.\n",
    "* As it is composed of a sum, the residual stream can be decomposed back into the contribution of each attention layer in a transformer model. Additionally, the output of each attention layer can be decomposed into the sum of outputs of each attention head, and each MLP layer into the sum of outputs of each neuron (plus bias).\n",
    "* The output logits are given by: end of residual stream $\\to$ normalisation function (LayerNorm) $\\to$ unembedding layer (Unembed).\n",
    "* As these are (approximately) linear maps, we can work back from the logits to find the network components that contribute most to a given output; this is **direct logit attribution**.\n",
    "* As the model is trained to optimise the cross-entropy loss, the exact values of the logits is not important, instead their relative values to each other (hence the use of the 'logit difference' metric).\n",
    "\n",
    "#### The logit lens\n",
    "\n",
    "Attribution of logits throughout layers in the model. \n",
    "The logit lens looks at the residual stream after each layer and calculates the logit difference from that. This simulates what happens if we delete all subsequence layers.\n"
   ]
  },
  {
   "cell_type": "code",
   "execution_count": 12,
   "id": "3f02c2e5",
   "metadata": {},
   "outputs": [],
   "source": [
    "def residual_stream_to_logit_diff(\n",
    "    residual_stream: torch.Tensor,\n",
    "    activation_cache: ActivationCache,\n",
    "    logit_difference_directions: torch.Tensor,\n",
    ") -> float:\n",
    "    \"\"\"\n",
    "    Computes the mean logit difference for a given residual stream and logit difference directions.\n",
    "\n",
    "    Args:\n",
    "        residual_stream (torch.Tensor): The residual stream tensor from the transformer model, typically of shape (batch, seq_len, d_model) or (batch, d_model).\n",
    "        activation_cache (ActivationCache): The activation cache containing model activations and utility functions, used here for applying LayerNorm.\n",
    "        logit_difference_directions (torch.Tensor): The directions in residual space corresponding to the difference between correct and incorrect completion tokens, shape (batch, d_model) or (d_model,).\n",
    "\n",
    "    Returns:\n",
    "        mean_logit_differences (float): The mean logit difference after projecting the normalized residual stream onto the logit difference directions.\n",
    "    \"\"\"\n",
    "\n",
    "    # Apply the \"LayerNorm\" function (as model would)\n",
    "    scaled_residual_stream = activation_cache.apply_ln_to_stack(\n",
    "        residual_stream,\n",
    "        layer=-1,\n",
    "        pos_slice=-1,  # subset of the positions we use (here the final token)\n",
    "    )\n",
    "\n",
    "    # Compute the logit difference\n",
    "    mean_logit_differences = einsum(\n",
    "        \"... batch d_model, batch d_model -> ...\",\n",
    "        scaled_residual_stream,\n",
    "        logit_difference_directions,\n",
    "    )\n",
    "    mean_logit_differences = mean_logit_differences / residual_stream.shape[0]\n",
    "\n",
    "    return mean_logit_differences"
   ]
  },
  {
   "cell_type": "code",
   "execution_count": 13,
   "id": "1b935b12",
   "metadata": {},
   "outputs": [
    {
     "name": "stdout",
     "output_type": "stream",
     "text": [
      "Final layer residual stream shape: torch.Size([1, 15, 768])\n",
      "Logit difference directions shape: torch.Size([1, 768])\n",
      "Logit difference: 4.633\n"
     ]
    }
   ],
   "source": [
    "# Accessing the network's residual stream\n",
    "# \"resid_post\" is the residual stream at the end of the layer, -1 gets the final layer.\n",
    "# The general syntax is [activation_name, layer_index, sub_layer_type].\n",
    "residual_stream_final_layer = activation_cache[\"resid_post\", -1]\n",
    "print(f\"Final layer residual stream shape: {residual_stream_final_layer.shape}\")\n",
    "\n",
    "residual_stream_final_token = residual_stream_final_layer[:, -1, :]\n",
    "\n",
    "# Getting an output logit is equivalent to projecting onto a direction in the residual stream\n",
    "residual_stream_projection = model.tokens_to_residual_directions(completions_toks)\n",
    "logit_difference_directions = residual_stream_projection[:, 0] - residual_stream_projection[:, 1]\n",
    "print(f\"Logit difference directions shape: {logit_difference_directions.shape}\")\n",
    "\n",
    "mean_logit_difference = residual_stream_to_logit_diff(\n",
    "    residual_stream_final_token,\n",
    "    activation_cache,\n",
    "    logit_difference_directions,\n",
    ")\n",
    "\n",
    "print(f\"Logit difference: {mean_logit_difference:.3f}\")"
   ]
  },
  {
   "cell_type": "code",
   "execution_count": 14,
   "id": "d5cafc49",
   "metadata": {},
   "outputs": [
    {
     "name": "stdout",
     "output_type": "stream",
     "text": [
      "Model layers (x values): [ 0.   0.5  1.   1.5  2.   2.5  3.   3.5  4.   4.5  5.   5.5  6.   6.5\n",
      "  7.   7.5  8.   8.5  9.   9.5 10.  10.5 11.  11.5 12. ]\n",
      "Logit differences (y values): [-0.00043612  0.00040156  0.00036878  0.00084074  0.00061268  0.00255602\n",
      "  0.00117801  0.00256532  0.00267829 -0.00029886  0.00306021  0.00597805\n",
      "  0.00067935 -0.00122963  0.00075706  0.01887021  0.01560044  0.0410631\n",
      "  0.05046535  0.2078262   0.20520501  0.19907951  0.22312     0.17324272\n",
      "  0.18531337]\n"
     ]
    },
    {
     "data": {
      "application/vnd.plotly.v1+json": {
       "config": {
        "plotlyServerURL": "https://plot.ly"
       },
       "data": [
        {
         "hovertemplate": "<b>%{hovertext}</b><br><br>Layer=%{x}<br>Logit difference=%{y}<extra></extra>",
         "hovertext": [
          "Stream component: \"0_pre\"",
          "Stream component: \"0_mid\"",
          "Stream component: \"1_pre\"",
          "Stream component: \"1_mid\"",
          "Stream component: \"2_pre\"",
          "Stream component: \"2_mid\"",
          "Stream component: \"3_pre\"",
          "Stream component: \"3_mid\"",
          "Stream component: \"4_pre\"",
          "Stream component: \"4_mid\"",
          "Stream component: \"5_pre\"",
          "Stream component: \"5_mid\"",
          "Stream component: \"6_pre\"",
          "Stream component: \"6_mid\"",
          "Stream component: \"7_pre\"",
          "Stream component: \"7_mid\"",
          "Stream component: \"8_pre\"",
          "Stream component: \"8_mid\"",
          "Stream component: \"9_pre\"",
          "Stream component: \"9_mid\"",
          "Stream component: \"10_pre\"",
          "Stream component: \"10_mid\"",
          "Stream component: \"11_pre\"",
          "Stream component: \"11_mid\"",
          "Stream component: \"final_post\""
         ],
         "legendgroup": "",
         "line": {
          "color": "#636efa",
          "dash": "solid"
         },
         "marker": {
          "symbol": "circle"
         },
         "mode": "lines",
         "name": "",
         "orientation": "v",
         "showlegend": false,
         "type": "scatter",
         "x": {
          "bdata": "AAAAAAAAAAAAAAAAAADgPwAAAAAAAPA/AAAAAAAA+D8AAAAAAAAAQAAAAAAAAARAAAAAAAAACEAAAAAAAAAMQAAAAAAAABBAAAAAAAAAEkAAAAAAAAAUQAAAAAAAABZAAAAAAAAAGEAAAAAAAAAaQAAAAAAAABxAAAAAAAAAHkAAAAAAAAAgQAAAAAAAACFAAAAAAAAAIkAAAAAAAAAjQAAAAAAAACRAAAAAAAAAJUAAAAAAAAAmQAAAAAAAACdAAAAAAAAAKEA=",
          "dtype": "f8"
         },
         "xaxis": "x",
         "y": {
          "bdata": "tqbkufaI0jl7WME5GmVcOoWcIDrugic7emeaOuEeKDtFhi87YbCcudyNSDuG48M7mhYyOmErobqPdUY6s5WaPPiYfzzJMSg9wLROPWTQVD5DIVI+gNtLPpJ5ZD6KZjE+ysI9Pg==",
          "dtype": "f4"
         },
         "yaxis": "y"
        }
       ],
       "layout": {
        "legend": {
         "tracegroupgap": 0
        },
        "template": {
         "data": {
          "bar": [
           {
            "error_x": {
             "color": "#2a3f5f"
            },
            "error_y": {
             "color": "#2a3f5f"
            },
            "marker": {
             "line": {
              "color": "#E5ECF6",
              "width": 0.5
             },
             "pattern": {
              "fillmode": "overlay",
              "size": 10,
              "solidity": 0.2
             }
            },
            "type": "bar"
           }
          ],
          "barpolar": [
           {
            "marker": {
             "line": {
              "color": "#E5ECF6",
              "width": 0.5
             },
             "pattern": {
              "fillmode": "overlay",
              "size": 10,
              "solidity": 0.2
             }
            },
            "type": "barpolar"
           }
          ],
          "carpet": [
           {
            "aaxis": {
             "endlinecolor": "#2a3f5f",
             "gridcolor": "white",
             "linecolor": "white",
             "minorgridcolor": "white",
             "startlinecolor": "#2a3f5f"
            },
            "baxis": {
             "endlinecolor": "#2a3f5f",
             "gridcolor": "white",
             "linecolor": "white",
             "minorgridcolor": "white",
             "startlinecolor": "#2a3f5f"
            },
            "type": "carpet"
           }
          ],
          "choropleth": [
           {
            "colorbar": {
             "outlinewidth": 0,
             "ticks": ""
            },
            "type": "choropleth"
           }
          ],
          "contour": [
           {
            "colorbar": {
             "outlinewidth": 0,
             "ticks": ""
            },
            "colorscale": [
             [
              0,
              "#0d0887"
             ],
             [
              0.1111111111111111,
              "#46039f"
             ],
             [
              0.2222222222222222,
              "#7201a8"
             ],
             [
              0.3333333333333333,
              "#9c179e"
             ],
             [
              0.4444444444444444,
              "#bd3786"
             ],
             [
              0.5555555555555556,
              "#d8576b"
             ],
             [
              0.6666666666666666,
              "#ed7953"
             ],
             [
              0.7777777777777778,
              "#fb9f3a"
             ],
             [
              0.8888888888888888,
              "#fdca26"
             ],
             [
              1,
              "#f0f921"
             ]
            ],
            "type": "contour"
           }
          ],
          "contourcarpet": [
           {
            "colorbar": {
             "outlinewidth": 0,
             "ticks": ""
            },
            "type": "contourcarpet"
           }
          ],
          "heatmap": [
           {
            "colorbar": {
             "outlinewidth": 0,
             "ticks": ""
            },
            "colorscale": [
             [
              0,
              "#0d0887"
             ],
             [
              0.1111111111111111,
              "#46039f"
             ],
             [
              0.2222222222222222,
              "#7201a8"
             ],
             [
              0.3333333333333333,
              "#9c179e"
             ],
             [
              0.4444444444444444,
              "#bd3786"
             ],
             [
              0.5555555555555556,
              "#d8576b"
             ],
             [
              0.6666666666666666,
              "#ed7953"
             ],
             [
              0.7777777777777778,
              "#fb9f3a"
             ],
             [
              0.8888888888888888,
              "#fdca26"
             ],
             [
              1,
              "#f0f921"
             ]
            ],
            "type": "heatmap"
           }
          ],
          "histogram": [
           {
            "marker": {
             "pattern": {
              "fillmode": "overlay",
              "size": 10,
              "solidity": 0.2
             }
            },
            "type": "histogram"
           }
          ],
          "histogram2d": [
           {
            "colorbar": {
             "outlinewidth": 0,
             "ticks": ""
            },
            "colorscale": [
             [
              0,
              "#0d0887"
             ],
             [
              0.1111111111111111,
              "#46039f"
             ],
             [
              0.2222222222222222,
              "#7201a8"
             ],
             [
              0.3333333333333333,
              "#9c179e"
             ],
             [
              0.4444444444444444,
              "#bd3786"
             ],
             [
              0.5555555555555556,
              "#d8576b"
             ],
             [
              0.6666666666666666,
              "#ed7953"
             ],
             [
              0.7777777777777778,
              "#fb9f3a"
             ],
             [
              0.8888888888888888,
              "#fdca26"
             ],
             [
              1,
              "#f0f921"
             ]
            ],
            "type": "histogram2d"
           }
          ],
          "histogram2dcontour": [
           {
            "colorbar": {
             "outlinewidth": 0,
             "ticks": ""
            },
            "colorscale": [
             [
              0,
              "#0d0887"
             ],
             [
              0.1111111111111111,
              "#46039f"
             ],
             [
              0.2222222222222222,
              "#7201a8"
             ],
             [
              0.3333333333333333,
              "#9c179e"
             ],
             [
              0.4444444444444444,
              "#bd3786"
             ],
             [
              0.5555555555555556,
              "#d8576b"
             ],
             [
              0.6666666666666666,
              "#ed7953"
             ],
             [
              0.7777777777777778,
              "#fb9f3a"
             ],
             [
              0.8888888888888888,
              "#fdca26"
             ],
             [
              1,
              "#f0f921"
             ]
            ],
            "type": "histogram2dcontour"
           }
          ],
          "mesh3d": [
           {
            "colorbar": {
             "outlinewidth": 0,
             "ticks": ""
            },
            "type": "mesh3d"
           }
          ],
          "parcoords": [
           {
            "line": {
             "colorbar": {
              "outlinewidth": 0,
              "ticks": ""
             }
            },
            "type": "parcoords"
           }
          ],
          "pie": [
           {
            "automargin": true,
            "type": "pie"
           }
          ],
          "scatter": [
           {
            "fillpattern": {
             "fillmode": "overlay",
             "size": 10,
             "solidity": 0.2
            },
            "type": "scatter"
           }
          ],
          "scatter3d": [
           {
            "line": {
             "colorbar": {
              "outlinewidth": 0,
              "ticks": ""
             }
            },
            "marker": {
             "colorbar": {
              "outlinewidth": 0,
              "ticks": ""
             }
            },
            "type": "scatter3d"
           }
          ],
          "scattercarpet": [
           {
            "marker": {
             "colorbar": {
              "outlinewidth": 0,
              "ticks": ""
             }
            },
            "type": "scattercarpet"
           }
          ],
          "scattergeo": [
           {
            "marker": {
             "colorbar": {
              "outlinewidth": 0,
              "ticks": ""
             }
            },
            "type": "scattergeo"
           }
          ],
          "scattergl": [
           {
            "marker": {
             "colorbar": {
              "outlinewidth": 0,
              "ticks": ""
             }
            },
            "type": "scattergl"
           }
          ],
          "scattermap": [
           {
            "marker": {
             "colorbar": {
              "outlinewidth": 0,
              "ticks": ""
             }
            },
            "type": "scattermap"
           }
          ],
          "scattermapbox": [
           {
            "marker": {
             "colorbar": {
              "outlinewidth": 0,
              "ticks": ""
             }
            },
            "type": "scattermapbox"
           }
          ],
          "scatterpolar": [
           {
            "marker": {
             "colorbar": {
              "outlinewidth": 0,
              "ticks": ""
             }
            },
            "type": "scatterpolar"
           }
          ],
          "scatterpolargl": [
           {
            "marker": {
             "colorbar": {
              "outlinewidth": 0,
              "ticks": ""
             }
            },
            "type": "scatterpolargl"
           }
          ],
          "scatterternary": [
           {
            "marker": {
             "colorbar": {
              "outlinewidth": 0,
              "ticks": ""
             }
            },
            "type": "scatterternary"
           }
          ],
          "surface": [
           {
            "colorbar": {
             "outlinewidth": 0,
             "ticks": ""
            },
            "colorscale": [
             [
              0,
              "#0d0887"
             ],
             [
              0.1111111111111111,
              "#46039f"
             ],
             [
              0.2222222222222222,
              "#7201a8"
             ],
             [
              0.3333333333333333,
              "#9c179e"
             ],
             [
              0.4444444444444444,
              "#bd3786"
             ],
             [
              0.5555555555555556,
              "#d8576b"
             ],
             [
              0.6666666666666666,
              "#ed7953"
             ],
             [
              0.7777777777777778,
              "#fb9f3a"
             ],
             [
              0.8888888888888888,
              "#fdca26"
             ],
             [
              1,
              "#f0f921"
             ]
            ],
            "type": "surface"
           }
          ],
          "table": [
           {
            "cells": {
             "fill": {
              "color": "#EBF0F8"
             },
             "line": {
              "color": "white"
             }
            },
            "header": {
             "fill": {
              "color": "#C8D4E3"
             },
             "line": {
              "color": "white"
             }
            },
            "type": "table"
           }
          ]
         },
         "layout": {
          "annotationdefaults": {
           "arrowcolor": "#2a3f5f",
           "arrowhead": 0,
           "arrowwidth": 1
          },
          "autotypenumbers": "strict",
          "coloraxis": {
           "colorbar": {
            "outlinewidth": 0,
            "ticks": ""
           }
          },
          "colorscale": {
           "diverging": [
            [
             0,
             "#8e0152"
            ],
            [
             0.1,
             "#c51b7d"
            ],
            [
             0.2,
             "#de77ae"
            ],
            [
             0.3,
             "#f1b6da"
            ],
            [
             0.4,
             "#fde0ef"
            ],
            [
             0.5,
             "#f7f7f7"
            ],
            [
             0.6,
             "#e6f5d0"
            ],
            [
             0.7,
             "#b8e186"
            ],
            [
             0.8,
             "#7fbc41"
            ],
            [
             0.9,
             "#4d9221"
            ],
            [
             1,
             "#276419"
            ]
           ],
           "sequential": [
            [
             0,
             "#0d0887"
            ],
            [
             0.1111111111111111,
             "#46039f"
            ],
            [
             0.2222222222222222,
             "#7201a8"
            ],
            [
             0.3333333333333333,
             "#9c179e"
            ],
            [
             0.4444444444444444,
             "#bd3786"
            ],
            [
             0.5555555555555556,
             "#d8576b"
            ],
            [
             0.6666666666666666,
             "#ed7953"
            ],
            [
             0.7777777777777778,
             "#fb9f3a"
            ],
            [
             0.8888888888888888,
             "#fdca26"
            ],
            [
             1,
             "#f0f921"
            ]
           ],
           "sequentialminus": [
            [
             0,
             "#0d0887"
            ],
            [
             0.1111111111111111,
             "#46039f"
            ],
            [
             0.2222222222222222,
             "#7201a8"
            ],
            [
             0.3333333333333333,
             "#9c179e"
            ],
            [
             0.4444444444444444,
             "#bd3786"
            ],
            [
             0.5555555555555556,
             "#d8576b"
            ],
            [
             0.6666666666666666,
             "#ed7953"
            ],
            [
             0.7777777777777778,
             "#fb9f3a"
            ],
            [
             0.8888888888888888,
             "#fdca26"
            ],
            [
             1,
             "#f0f921"
            ]
           ]
          },
          "colorway": [
           "#636efa",
           "#EF553B",
           "#00cc96",
           "#ab63fa",
           "#FFA15A",
           "#19d3f3",
           "#FF6692",
           "#B6E880",
           "#FF97FF",
           "#FECB52"
          ],
          "font": {
           "color": "#2a3f5f"
          },
          "geo": {
           "bgcolor": "white",
           "lakecolor": "white",
           "landcolor": "#E5ECF6",
           "showlakes": true,
           "showland": true,
           "subunitcolor": "white"
          },
          "hoverlabel": {
           "align": "left"
          },
          "hovermode": "closest",
          "mapbox": {
           "style": "light"
          },
          "paper_bgcolor": "white",
          "plot_bgcolor": "#E5ECF6",
          "polar": {
           "angularaxis": {
            "gridcolor": "white",
            "linecolor": "white",
            "ticks": ""
           },
           "bgcolor": "#E5ECF6",
           "radialaxis": {
            "gridcolor": "white",
            "linecolor": "white",
            "ticks": ""
           }
          },
          "scene": {
           "xaxis": {
            "backgroundcolor": "#E5ECF6",
            "gridcolor": "white",
            "gridwidth": 2,
            "linecolor": "white",
            "showbackground": true,
            "ticks": "",
            "zerolinecolor": "white"
           },
           "yaxis": {
            "backgroundcolor": "#E5ECF6",
            "gridcolor": "white",
            "gridwidth": 2,
            "linecolor": "white",
            "showbackground": true,
            "ticks": "",
            "zerolinecolor": "white"
           },
           "zaxis": {
            "backgroundcolor": "#E5ECF6",
            "gridcolor": "white",
            "gridwidth": 2,
            "linecolor": "white",
            "showbackground": true,
            "ticks": "",
            "zerolinecolor": "white"
           }
          },
          "shapedefaults": {
           "line": {
            "color": "#2a3f5f"
           }
          },
          "ternary": {
           "aaxis": {
            "gridcolor": "white",
            "linecolor": "white",
            "ticks": ""
           },
           "baxis": {
            "gridcolor": "white",
            "linecolor": "white",
            "ticks": ""
           },
           "bgcolor": "#E5ECF6",
           "caxis": {
            "gridcolor": "white",
            "linecolor": "white",
            "ticks": ""
           }
          },
          "title": {
           "x": 0.05
          },
          "xaxis": {
           "automargin": true,
           "gridcolor": "white",
           "linecolor": "white",
           "ticks": "",
           "title": {
            "standoff": 15
           },
           "zerolinecolor": "white",
           "zerolinewidth": 2
          },
          "yaxis": {
           "automargin": true,
           "gridcolor": "white",
           "linecolor": "white",
           "ticks": "",
           "title": {
            "standoff": 15
           },
           "zerolinecolor": "white",
           "zerolinewidth": 2
          }
         }
        },
        "title": {
         "text": "Logit difference of layer components from residual stream"
        },
        "xaxis": {
         "anchor": "y",
         "domain": [
          0,
          1
         ],
         "title": {
          "text": "Layer"
         }
        },
        "yaxis": {
         "anchor": "x",
         "domain": [
          0,
          1
         ],
         "title": {
          "text": "Logit difference"
         }
        }
       }
      }
     },
     "metadata": {},
     "output_type": "display_data"
    }
   ],
   "source": [
    "accumulated_residual_stream, component_labels = activation_cache.accumulated_resid(\n",
    "    layer=-1,       # layer from which we gather the residual stream\n",
    "    pos_slice=-1,   # subset of the positions we use (here the final token)\n",
    "    incl_mid=True,  # use the residual stream in the middle of a layer (i.e. after attention & before MLP)\n",
    "    return_labels=True,\n",
    ")\n",
    "\n",
    "logit_differences = residual_stream_to_logit_diff(\n",
    "    accumulated_residual_stream,\n",
    "    activation_cache,\n",
    "    logit_difference_directions\n",
    ")\n",
    "\n",
    "logit_differences = utils.to_numpy(logit_differences)\n",
    "x_axis_range = np.arange(model.cfg.n_layers * 2 + 1) / 2\n",
    "node_labels = [f'Stream component: \"{l}\"' for l in component_labels]\n",
    "\n",
    "print(f\"Model layers (x values): {x_axis_range}\")\n",
    "print(f\"Logit differences (y values): {logit_differences}\")\n",
    "\n",
    "px.line(\n",
    "    y=logit_differences,\n",
    "    x=x_axis_range,\n",
    "    hover_name=node_labels,\n",
    "    title=\"Logit difference of layer components from residual stream\",\n",
    "    labels=dict(x=\"Layer\", y=\"Logit difference\"),\n",
    ").show()"
   ]
  },
  {
   "cell_type": "markdown",
   "id": "4b29c29c",
   "metadata": {},
   "source": [
    "Result:\n",
    "\n",
    "* Logit differences are much greater in later layers of the network.\n",
    "\n",
    "Explanation:\n",
    "\n",
    "* The model is unable to complete the task in earlier layers, so layer logits have a mostly uniform and low value.\n",
    "* The peak logit difference at layer 9 means that most of the model's generation performance on this task comes from (the logits of) layer 9.\n",
    "* Additionally, the performance jump comes from residual component \"9_mid\". Here \"mid\" means we have applied the attention layer but not its subsequent MLP layer. This means the performance comes mostly from the attention layer.\n",
    "\n",
    "#### Layer attribution\n",
    "\n",
    "Attribution of layers throughout the model on a per-layer basis, including all attention head layers and MLP layers within the 'attention block'."
   ]
  },
  {
   "cell_type": "code",
   "execution_count": 15,
   "id": "c36ca7b2",
   "metadata": {},
   "outputs": [
    {
     "name": "stdout",
     "output_type": "stream",
     "text": [
      "Model layers (x values): [ 0.   0.5  1.   1.5  2.   2.5  3.   3.5  4.   4.5  5.   5.5  6.   6.5\n",
      "  7.   7.5  8.   8.5  9.   9.5 10.  10.5 11.  11.5 12. ]\n",
      "Logit differences (y values): [-0.00043612  0.00040156  0.00036878  0.00084074  0.00061268  0.00255602\n",
      "  0.00117801  0.00256532  0.00267829 -0.00029886  0.00306021  0.00597805\n",
      "  0.00067935 -0.00122963  0.00075706  0.01887021  0.01560044  0.0410631\n",
      "  0.05046535  0.2078262   0.20520501  0.19907951  0.22312     0.17324272\n",
      "  0.18531337]\n"
     ]
    },
    {
     "data": {
      "application/vnd.plotly.v1+json": {
       "config": {
        "plotlyServerURL": "https://plot.ly"
       },
       "data": [
        {
         "hovertemplate": "Layer=%{x}<br>Logit difference=%{y}<extra></extra>",
         "legendgroup": "",
         "line": {
          "color": "#636efa",
          "dash": "solid"
         },
         "marker": {
          "symbol": "circle"
         },
         "mode": "lines",
         "name": "",
         "orientation": "v",
         "showlegend": false,
         "type": "scatter",
         "x": {
          "bdata": "AAECAwQFBgcICQoLDA0ODxAREhMUFRYXGA==",
          "dtype": "i1"
         },
         "xaxis": "x",
         "y": {
          "bdata": "tqbkufaI0jl7WME5GmVcOoWcIDrugic7emeaOuEeKDtFhi87YbCcudyNSDuG48M7mhYyOmErobqPdUY6s5WaPPiYfzzJMSg9wLROPWTQVD5DIVI+gNtLPpJ5ZD6KZjE+ysI9Pg==",
          "dtype": "f4"
         },
         "yaxis": "y"
        }
       ],
       "layout": {
        "legend": {
         "tracegroupgap": 0
        },
        "template": {
         "data": {
          "bar": [
           {
            "error_x": {
             "color": "#2a3f5f"
            },
            "error_y": {
             "color": "#2a3f5f"
            },
            "marker": {
             "line": {
              "color": "#E5ECF6",
              "width": 0.5
             },
             "pattern": {
              "fillmode": "overlay",
              "size": 10,
              "solidity": 0.2
             }
            },
            "type": "bar"
           }
          ],
          "barpolar": [
           {
            "marker": {
             "line": {
              "color": "#E5ECF6",
              "width": 0.5
             },
             "pattern": {
              "fillmode": "overlay",
              "size": 10,
              "solidity": 0.2
             }
            },
            "type": "barpolar"
           }
          ],
          "carpet": [
           {
            "aaxis": {
             "endlinecolor": "#2a3f5f",
             "gridcolor": "white",
             "linecolor": "white",
             "minorgridcolor": "white",
             "startlinecolor": "#2a3f5f"
            },
            "baxis": {
             "endlinecolor": "#2a3f5f",
             "gridcolor": "white",
             "linecolor": "white",
             "minorgridcolor": "white",
             "startlinecolor": "#2a3f5f"
            },
            "type": "carpet"
           }
          ],
          "choropleth": [
           {
            "colorbar": {
             "outlinewidth": 0,
             "ticks": ""
            },
            "type": "choropleth"
           }
          ],
          "contour": [
           {
            "colorbar": {
             "outlinewidth": 0,
             "ticks": ""
            },
            "colorscale": [
             [
              0,
              "#0d0887"
             ],
             [
              0.1111111111111111,
              "#46039f"
             ],
             [
              0.2222222222222222,
              "#7201a8"
             ],
             [
              0.3333333333333333,
              "#9c179e"
             ],
             [
              0.4444444444444444,
              "#bd3786"
             ],
             [
              0.5555555555555556,
              "#d8576b"
             ],
             [
              0.6666666666666666,
              "#ed7953"
             ],
             [
              0.7777777777777778,
              "#fb9f3a"
             ],
             [
              0.8888888888888888,
              "#fdca26"
             ],
             [
              1,
              "#f0f921"
             ]
            ],
            "type": "contour"
           }
          ],
          "contourcarpet": [
           {
            "colorbar": {
             "outlinewidth": 0,
             "ticks": ""
            },
            "type": "contourcarpet"
           }
          ],
          "heatmap": [
           {
            "colorbar": {
             "outlinewidth": 0,
             "ticks": ""
            },
            "colorscale": [
             [
              0,
              "#0d0887"
             ],
             [
              0.1111111111111111,
              "#46039f"
             ],
             [
              0.2222222222222222,
              "#7201a8"
             ],
             [
              0.3333333333333333,
              "#9c179e"
             ],
             [
              0.4444444444444444,
              "#bd3786"
             ],
             [
              0.5555555555555556,
              "#d8576b"
             ],
             [
              0.6666666666666666,
              "#ed7953"
             ],
             [
              0.7777777777777778,
              "#fb9f3a"
             ],
             [
              0.8888888888888888,
              "#fdca26"
             ],
             [
              1,
              "#f0f921"
             ]
            ],
            "type": "heatmap"
           }
          ],
          "histogram": [
           {
            "marker": {
             "pattern": {
              "fillmode": "overlay",
              "size": 10,
              "solidity": 0.2
             }
            },
            "type": "histogram"
           }
          ],
          "histogram2d": [
           {
            "colorbar": {
             "outlinewidth": 0,
             "ticks": ""
            },
            "colorscale": [
             [
              0,
              "#0d0887"
             ],
             [
              0.1111111111111111,
              "#46039f"
             ],
             [
              0.2222222222222222,
              "#7201a8"
             ],
             [
              0.3333333333333333,
              "#9c179e"
             ],
             [
              0.4444444444444444,
              "#bd3786"
             ],
             [
              0.5555555555555556,
              "#d8576b"
             ],
             [
              0.6666666666666666,
              "#ed7953"
             ],
             [
              0.7777777777777778,
              "#fb9f3a"
             ],
             [
              0.8888888888888888,
              "#fdca26"
             ],
             [
              1,
              "#f0f921"
             ]
            ],
            "type": "histogram2d"
           }
          ],
          "histogram2dcontour": [
           {
            "colorbar": {
             "outlinewidth": 0,
             "ticks": ""
            },
            "colorscale": [
             [
              0,
              "#0d0887"
             ],
             [
              0.1111111111111111,
              "#46039f"
             ],
             [
              0.2222222222222222,
              "#7201a8"
             ],
             [
              0.3333333333333333,
              "#9c179e"
             ],
             [
              0.4444444444444444,
              "#bd3786"
             ],
             [
              0.5555555555555556,
              "#d8576b"
             ],
             [
              0.6666666666666666,
              "#ed7953"
             ],
             [
              0.7777777777777778,
              "#fb9f3a"
             ],
             [
              0.8888888888888888,
              "#fdca26"
             ],
             [
              1,
              "#f0f921"
             ]
            ],
            "type": "histogram2dcontour"
           }
          ],
          "mesh3d": [
           {
            "colorbar": {
             "outlinewidth": 0,
             "ticks": ""
            },
            "type": "mesh3d"
           }
          ],
          "parcoords": [
           {
            "line": {
             "colorbar": {
              "outlinewidth": 0,
              "ticks": ""
             }
            },
            "type": "parcoords"
           }
          ],
          "pie": [
           {
            "automargin": true,
            "type": "pie"
           }
          ],
          "scatter": [
           {
            "fillpattern": {
             "fillmode": "overlay",
             "size": 10,
             "solidity": 0.2
            },
            "type": "scatter"
           }
          ],
          "scatter3d": [
           {
            "line": {
             "colorbar": {
              "outlinewidth": 0,
              "ticks": ""
             }
            },
            "marker": {
             "colorbar": {
              "outlinewidth": 0,
              "ticks": ""
             }
            },
            "type": "scatter3d"
           }
          ],
          "scattercarpet": [
           {
            "marker": {
             "colorbar": {
              "outlinewidth": 0,
              "ticks": ""
             }
            },
            "type": "scattercarpet"
           }
          ],
          "scattergeo": [
           {
            "marker": {
             "colorbar": {
              "outlinewidth": 0,
              "ticks": ""
             }
            },
            "type": "scattergeo"
           }
          ],
          "scattergl": [
           {
            "marker": {
             "colorbar": {
              "outlinewidth": 0,
              "ticks": ""
             }
            },
            "type": "scattergl"
           }
          ],
          "scattermap": [
           {
            "marker": {
             "colorbar": {
              "outlinewidth": 0,
              "ticks": ""
             }
            },
            "type": "scattermap"
           }
          ],
          "scattermapbox": [
           {
            "marker": {
             "colorbar": {
              "outlinewidth": 0,
              "ticks": ""
             }
            },
            "type": "scattermapbox"
           }
          ],
          "scatterpolar": [
           {
            "marker": {
             "colorbar": {
              "outlinewidth": 0,
              "ticks": ""
             }
            },
            "type": "scatterpolar"
           }
          ],
          "scatterpolargl": [
           {
            "marker": {
             "colorbar": {
              "outlinewidth": 0,
              "ticks": ""
             }
            },
            "type": "scatterpolargl"
           }
          ],
          "scatterternary": [
           {
            "marker": {
             "colorbar": {
              "outlinewidth": 0,
              "ticks": ""
             }
            },
            "type": "scatterternary"
           }
          ],
          "surface": [
           {
            "colorbar": {
             "outlinewidth": 0,
             "ticks": ""
            },
            "colorscale": [
             [
              0,
              "#0d0887"
             ],
             [
              0.1111111111111111,
              "#46039f"
             ],
             [
              0.2222222222222222,
              "#7201a8"
             ],
             [
              0.3333333333333333,
              "#9c179e"
             ],
             [
              0.4444444444444444,
              "#bd3786"
             ],
             [
              0.5555555555555556,
              "#d8576b"
             ],
             [
              0.6666666666666666,
              "#ed7953"
             ],
             [
              0.7777777777777778,
              "#fb9f3a"
             ],
             [
              0.8888888888888888,
              "#fdca26"
             ],
             [
              1,
              "#f0f921"
             ]
            ],
            "type": "surface"
           }
          ],
          "table": [
           {
            "cells": {
             "fill": {
              "color": "#EBF0F8"
             },
             "line": {
              "color": "white"
             }
            },
            "header": {
             "fill": {
              "color": "#C8D4E3"
             },
             "line": {
              "color": "white"
             }
            },
            "type": "table"
           }
          ]
         },
         "layout": {
          "annotationdefaults": {
           "arrowcolor": "#2a3f5f",
           "arrowhead": 0,
           "arrowwidth": 1
          },
          "autotypenumbers": "strict",
          "coloraxis": {
           "colorbar": {
            "outlinewidth": 0,
            "ticks": ""
           }
          },
          "colorscale": {
           "diverging": [
            [
             0,
             "#8e0152"
            ],
            [
             0.1,
             "#c51b7d"
            ],
            [
             0.2,
             "#de77ae"
            ],
            [
             0.3,
             "#f1b6da"
            ],
            [
             0.4,
             "#fde0ef"
            ],
            [
             0.5,
             "#f7f7f7"
            ],
            [
             0.6,
             "#e6f5d0"
            ],
            [
             0.7,
             "#b8e186"
            ],
            [
             0.8,
             "#7fbc41"
            ],
            [
             0.9,
             "#4d9221"
            ],
            [
             1,
             "#276419"
            ]
           ],
           "sequential": [
            [
             0,
             "#0d0887"
            ],
            [
             0.1111111111111111,
             "#46039f"
            ],
            [
             0.2222222222222222,
             "#7201a8"
            ],
            [
             0.3333333333333333,
             "#9c179e"
            ],
            [
             0.4444444444444444,
             "#bd3786"
            ],
            [
             0.5555555555555556,
             "#d8576b"
            ],
            [
             0.6666666666666666,
             "#ed7953"
            ],
            [
             0.7777777777777778,
             "#fb9f3a"
            ],
            [
             0.8888888888888888,
             "#fdca26"
            ],
            [
             1,
             "#f0f921"
            ]
           ],
           "sequentialminus": [
            [
             0,
             "#0d0887"
            ],
            [
             0.1111111111111111,
             "#46039f"
            ],
            [
             0.2222222222222222,
             "#7201a8"
            ],
            [
             0.3333333333333333,
             "#9c179e"
            ],
            [
             0.4444444444444444,
             "#bd3786"
            ],
            [
             0.5555555555555556,
             "#d8576b"
            ],
            [
             0.6666666666666666,
             "#ed7953"
            ],
            [
             0.7777777777777778,
             "#fb9f3a"
            ],
            [
             0.8888888888888888,
             "#fdca26"
            ],
            [
             1,
             "#f0f921"
            ]
           ]
          },
          "colorway": [
           "#636efa",
           "#EF553B",
           "#00cc96",
           "#ab63fa",
           "#FFA15A",
           "#19d3f3",
           "#FF6692",
           "#B6E880",
           "#FF97FF",
           "#FECB52"
          ],
          "font": {
           "color": "#2a3f5f"
          },
          "geo": {
           "bgcolor": "white",
           "lakecolor": "white",
           "landcolor": "#E5ECF6",
           "showlakes": true,
           "showland": true,
           "subunitcolor": "white"
          },
          "hoverlabel": {
           "align": "left"
          },
          "hovermode": "closest",
          "mapbox": {
           "style": "light"
          },
          "paper_bgcolor": "white",
          "plot_bgcolor": "#E5ECF6",
          "polar": {
           "angularaxis": {
            "gridcolor": "white",
            "linecolor": "white",
            "ticks": ""
           },
           "bgcolor": "#E5ECF6",
           "radialaxis": {
            "gridcolor": "white",
            "linecolor": "white",
            "ticks": ""
           }
          },
          "scene": {
           "xaxis": {
            "backgroundcolor": "#E5ECF6",
            "gridcolor": "white",
            "gridwidth": 2,
            "linecolor": "white",
            "showbackground": true,
            "ticks": "",
            "zerolinecolor": "white"
           },
           "yaxis": {
            "backgroundcolor": "#E5ECF6",
            "gridcolor": "white",
            "gridwidth": 2,
            "linecolor": "white",
            "showbackground": true,
            "ticks": "",
            "zerolinecolor": "white"
           },
           "zaxis": {
            "backgroundcolor": "#E5ECF6",
            "gridcolor": "white",
            "gridwidth": 2,
            "linecolor": "white",
            "showbackground": true,
            "ticks": "",
            "zerolinecolor": "white"
           }
          },
          "shapedefaults": {
           "line": {
            "color": "#2a3f5f"
           }
          },
          "ternary": {
           "aaxis": {
            "gridcolor": "white",
            "linecolor": "white",
            "ticks": ""
           },
           "baxis": {
            "gridcolor": "white",
            "linecolor": "white",
            "ticks": ""
           },
           "bgcolor": "#E5ECF6",
           "caxis": {
            "gridcolor": "white",
            "linecolor": "white",
            "ticks": ""
           }
          },
          "title": {
           "x": 0.05
          },
          "xaxis": {
           "automargin": true,
           "gridcolor": "white",
           "linecolor": "white",
           "ticks": "",
           "title": {
            "standoff": 15
           },
           "zerolinecolor": "white",
           "zerolinewidth": 2
          },
          "yaxis": {
           "automargin": true,
           "gridcolor": "white",
           "linecolor": "white",
           "ticks": "",
           "title": {
            "standoff": 15
           },
           "zerolinecolor": "white",
           "zerolinewidth": 2
          }
         }
        },
        "title": {
         "text": "Logit difference for all model layers (attention and MLP)"
        },
        "xaxis": {
         "anchor": "y",
         "domain": [
          0,
          1
         ],
         "title": {
          "text": "Layer"
         }
        },
        "yaxis": {
         "anchor": "x",
         "domain": [
          0,
          1
         ],
         "title": {
          "text": "Logit difference"
         }
        }
       }
      }
     },
     "metadata": {},
     "output_type": "display_data"
    }
   ],
   "source": [
    "residual_stream, component_labels = activation_cache.accumulated_resid(\n",
    "    layer=-1,\n",
    "    pos_slice=-1,\n",
    "    return_labels=True,\n",
    ")\n",
    "\n",
    "logit_differences = residual_stream_to_logit_diff(\n",
    "    accumulated_residual_stream,\n",
    "    activation_cache,\n",
    "    logit_difference_directions\n",
    ")\n",
    "\n",
    "logit_differences = utils.to_numpy(logit_differences)\n",
    "node_labels = [f'Stream component: \"{l}\"' for l in component_labels]\n",
    "\n",
    "print(f\"Model layers (x values): {x_axis_range}\")\n",
    "print(f\"Logit differences (y values): {logit_differences}\")\n",
    "\n",
    "px.line(\n",
    "    y=logit_differences,\n",
    "    title=\"Logit difference for all model layers (attention and MLP)\",\n",
    "    labels=dict(x=\"Layer\", y=\"Logit difference\"),\n",
    ").show()"
   ]
  },
  {
   "cell_type": "markdown",
   "id": "76532407",
   "metadata": {},
   "source": [
    "#### Layer attribution\n",
    "\n",
    "The contribution of each attention layer (within the attention block) can be decomposed into the outputs of each attention head.\n",
    "\n",
    "Decomposition of an attention layer:\n",
    "* Each attention layer consists of 12 independent heads.\n",
    "* In GPT2, this gives a total of 144 attention heads.\n",
    "* The attention layer output is calculated by concatenating the values of each head, and multiplying by a weight matrix.\n",
    "* This is equivalent to splitting the weight matrix and computing weighted values on a per-head basis, then summing (plus a bias). "
   ]
  },
  {
   "cell_type": "code",
   "execution_count": 16,
   "id": "7bb50c97",
   "metadata": {},
   "outputs": [
    {
     "name": "stdout",
     "output_type": "stream",
     "text": [
      "Tried to stack head results when they weren't cached. Computing head results now\n"
     ]
    },
    {
     "data": {
      "application/vnd.plotly.v1+json": {
       "config": {
        "plotlyServerURL": "https://plot.ly"
       },
       "data": [
        {
         "coloraxis": "coloraxis",
         "hovertemplate": "Model attention layer: %{x}<br>Attention head in layer: %{y}<br>color: %{z}<extra></extra>",
         "name": "0",
         "type": "heatmap",
         "xaxis": "x",
         "yaxis": "y",
         "z": {
          "bdata": "KalBOKvEgrh3voS54skCOOLaA7kJKO252bumuVuMlzgrx5458nd+OWTykDs5FyC3vJGkuRBgQzifE185N5WGuND3PDiIAzm5ia2POMzrjzctbYW5MnlEuaUgbjrFd8+7IC33uJ6y2jm8rey4nEAmOYJ4iTjO+Y65FDYEuY5RZzbnaJ45h1iaOo756jleAaU6wtmFud4kMrlCEFA5slIBuZTjQbo2SMQ4oJl9ONb6UDoiUfe6tG4gOhxdcDrLfvw6S9JctydkkjnZp624jEM5ua4VLrnMeek5gqFTOhIOLbjS/DY5UW6WukDEmjmUaYA6vgt5OfR7B7qDxq24ts7euFz9NLjg5Oc52q8FORlhvzk+b9Q4BCrLuZmbArmhXZ65crLiN5fOwTmJlzu58u4vOAfxGbdm06c4ZXJwuneeZDnZ+Wm5Ez45PIJPMbvuwCs3Cz2lOJ3xQrkuexE5fis/uUeJwDjU/hw4GZ9xOHuMSzgr5IK2JCpOOFhTIryS6Wq6cA4+OWYHXLlk5KQ4JAvbOLcFnDlp4Rg59+6wubPRkbmVW0E4sPUSOzLFvLiwDfm5xxGmNVBCgrh5jI05cl01OetAvjjEPF251aL3tkJVFzvjRtk5adBePJckLjq3OF45gOflNyBJ/riA7GQ3ZODsOPn0+bg1uNE5sB2OOVlDUrh8DkI7VSWvtzXhTTuVv827EPjXOR4qfzhNeTg5b025OXZNTzlw+i+5J/+fOJlLtjcP9So7fA/AN1RHpzkY6QA6",
          "dtype": "f4",
          "shape": "12, 12"
         }
        }
       ],
       "layout": {
        "coloraxis": {
         "cmid": 0,
         "colorscale": [
          [
           0,
           "rgb(103,0,31)"
          ],
          [
           0.1,
           "rgb(178,24,43)"
          ],
          [
           0.2,
           "rgb(214,96,77)"
          ],
          [
           0.3,
           "rgb(244,165,130)"
          ],
          [
           0.4,
           "rgb(253,219,199)"
          ],
          [
           0.5,
           "rgb(247,247,247)"
          ],
          [
           0.6,
           "rgb(209,229,240)"
          ],
          [
           0.7,
           "rgb(146,197,222)"
          ],
          [
           0.8,
           "rgb(67,147,195)"
          ],
          [
           0.9,
           "rgb(33,102,172)"
          ],
          [
           1,
           "rgb(5,48,97)"
          ]
         ]
        },
        "template": {
         "data": {
          "bar": [
           {
            "error_x": {
             "color": "#2a3f5f"
            },
            "error_y": {
             "color": "#2a3f5f"
            },
            "marker": {
             "line": {
              "color": "#E5ECF6",
              "width": 0.5
             },
             "pattern": {
              "fillmode": "overlay",
              "size": 10,
              "solidity": 0.2
             }
            },
            "type": "bar"
           }
          ],
          "barpolar": [
           {
            "marker": {
             "line": {
              "color": "#E5ECF6",
              "width": 0.5
             },
             "pattern": {
              "fillmode": "overlay",
              "size": 10,
              "solidity": 0.2
             }
            },
            "type": "barpolar"
           }
          ],
          "carpet": [
           {
            "aaxis": {
             "endlinecolor": "#2a3f5f",
             "gridcolor": "white",
             "linecolor": "white",
             "minorgridcolor": "white",
             "startlinecolor": "#2a3f5f"
            },
            "baxis": {
             "endlinecolor": "#2a3f5f",
             "gridcolor": "white",
             "linecolor": "white",
             "minorgridcolor": "white",
             "startlinecolor": "#2a3f5f"
            },
            "type": "carpet"
           }
          ],
          "choropleth": [
           {
            "colorbar": {
             "outlinewidth": 0,
             "ticks": ""
            },
            "type": "choropleth"
           }
          ],
          "contour": [
           {
            "colorbar": {
             "outlinewidth": 0,
             "ticks": ""
            },
            "colorscale": [
             [
              0,
              "#0d0887"
             ],
             [
              0.1111111111111111,
              "#46039f"
             ],
             [
              0.2222222222222222,
              "#7201a8"
             ],
             [
              0.3333333333333333,
              "#9c179e"
             ],
             [
              0.4444444444444444,
              "#bd3786"
             ],
             [
              0.5555555555555556,
              "#d8576b"
             ],
             [
              0.6666666666666666,
              "#ed7953"
             ],
             [
              0.7777777777777778,
              "#fb9f3a"
             ],
             [
              0.8888888888888888,
              "#fdca26"
             ],
             [
              1,
              "#f0f921"
             ]
            ],
            "type": "contour"
           }
          ],
          "contourcarpet": [
           {
            "colorbar": {
             "outlinewidth": 0,
             "ticks": ""
            },
            "type": "contourcarpet"
           }
          ],
          "heatmap": [
           {
            "colorbar": {
             "outlinewidth": 0,
             "ticks": ""
            },
            "colorscale": [
             [
              0,
              "#0d0887"
             ],
             [
              0.1111111111111111,
              "#46039f"
             ],
             [
              0.2222222222222222,
              "#7201a8"
             ],
             [
              0.3333333333333333,
              "#9c179e"
             ],
             [
              0.4444444444444444,
              "#bd3786"
             ],
             [
              0.5555555555555556,
              "#d8576b"
             ],
             [
              0.6666666666666666,
              "#ed7953"
             ],
             [
              0.7777777777777778,
              "#fb9f3a"
             ],
             [
              0.8888888888888888,
              "#fdca26"
             ],
             [
              1,
              "#f0f921"
             ]
            ],
            "type": "heatmap"
           }
          ],
          "histogram": [
           {
            "marker": {
             "pattern": {
              "fillmode": "overlay",
              "size": 10,
              "solidity": 0.2
             }
            },
            "type": "histogram"
           }
          ],
          "histogram2d": [
           {
            "colorbar": {
             "outlinewidth": 0,
             "ticks": ""
            },
            "colorscale": [
             [
              0,
              "#0d0887"
             ],
             [
              0.1111111111111111,
              "#46039f"
             ],
             [
              0.2222222222222222,
              "#7201a8"
             ],
             [
              0.3333333333333333,
              "#9c179e"
             ],
             [
              0.4444444444444444,
              "#bd3786"
             ],
             [
              0.5555555555555556,
              "#d8576b"
             ],
             [
              0.6666666666666666,
              "#ed7953"
             ],
             [
              0.7777777777777778,
              "#fb9f3a"
             ],
             [
              0.8888888888888888,
              "#fdca26"
             ],
             [
              1,
              "#f0f921"
             ]
            ],
            "type": "histogram2d"
           }
          ],
          "histogram2dcontour": [
           {
            "colorbar": {
             "outlinewidth": 0,
             "ticks": ""
            },
            "colorscale": [
             [
              0,
              "#0d0887"
             ],
             [
              0.1111111111111111,
              "#46039f"
             ],
             [
              0.2222222222222222,
              "#7201a8"
             ],
             [
              0.3333333333333333,
              "#9c179e"
             ],
             [
              0.4444444444444444,
              "#bd3786"
             ],
             [
              0.5555555555555556,
              "#d8576b"
             ],
             [
              0.6666666666666666,
              "#ed7953"
             ],
             [
              0.7777777777777778,
              "#fb9f3a"
             ],
             [
              0.8888888888888888,
              "#fdca26"
             ],
             [
              1,
              "#f0f921"
             ]
            ],
            "type": "histogram2dcontour"
           }
          ],
          "mesh3d": [
           {
            "colorbar": {
             "outlinewidth": 0,
             "ticks": ""
            },
            "type": "mesh3d"
           }
          ],
          "parcoords": [
           {
            "line": {
             "colorbar": {
              "outlinewidth": 0,
              "ticks": ""
             }
            },
            "type": "parcoords"
           }
          ],
          "pie": [
           {
            "automargin": true,
            "type": "pie"
           }
          ],
          "scatter": [
           {
            "fillpattern": {
             "fillmode": "overlay",
             "size": 10,
             "solidity": 0.2
            },
            "type": "scatter"
           }
          ],
          "scatter3d": [
           {
            "line": {
             "colorbar": {
              "outlinewidth": 0,
              "ticks": ""
             }
            },
            "marker": {
             "colorbar": {
              "outlinewidth": 0,
              "ticks": ""
             }
            },
            "type": "scatter3d"
           }
          ],
          "scattercarpet": [
           {
            "marker": {
             "colorbar": {
              "outlinewidth": 0,
              "ticks": ""
             }
            },
            "type": "scattercarpet"
           }
          ],
          "scattergeo": [
           {
            "marker": {
             "colorbar": {
              "outlinewidth": 0,
              "ticks": ""
             }
            },
            "type": "scattergeo"
           }
          ],
          "scattergl": [
           {
            "marker": {
             "colorbar": {
              "outlinewidth": 0,
              "ticks": ""
             }
            },
            "type": "scattergl"
           }
          ],
          "scattermap": [
           {
            "marker": {
             "colorbar": {
              "outlinewidth": 0,
              "ticks": ""
             }
            },
            "type": "scattermap"
           }
          ],
          "scattermapbox": [
           {
            "marker": {
             "colorbar": {
              "outlinewidth": 0,
              "ticks": ""
             }
            },
            "type": "scattermapbox"
           }
          ],
          "scatterpolar": [
           {
            "marker": {
             "colorbar": {
              "outlinewidth": 0,
              "ticks": ""
             }
            },
            "type": "scatterpolar"
           }
          ],
          "scatterpolargl": [
           {
            "marker": {
             "colorbar": {
              "outlinewidth": 0,
              "ticks": ""
             }
            },
            "type": "scatterpolargl"
           }
          ],
          "scatterternary": [
           {
            "marker": {
             "colorbar": {
              "outlinewidth": 0,
              "ticks": ""
             }
            },
            "type": "scatterternary"
           }
          ],
          "surface": [
           {
            "colorbar": {
             "outlinewidth": 0,
             "ticks": ""
            },
            "colorscale": [
             [
              0,
              "#0d0887"
             ],
             [
              0.1111111111111111,
              "#46039f"
             ],
             [
              0.2222222222222222,
              "#7201a8"
             ],
             [
              0.3333333333333333,
              "#9c179e"
             ],
             [
              0.4444444444444444,
              "#bd3786"
             ],
             [
              0.5555555555555556,
              "#d8576b"
             ],
             [
              0.6666666666666666,
              "#ed7953"
             ],
             [
              0.7777777777777778,
              "#fb9f3a"
             ],
             [
              0.8888888888888888,
              "#fdca26"
             ],
             [
              1,
              "#f0f921"
             ]
            ],
            "type": "surface"
           }
          ],
          "table": [
           {
            "cells": {
             "fill": {
              "color": "#EBF0F8"
             },
             "line": {
              "color": "white"
             }
            },
            "header": {
             "fill": {
              "color": "#C8D4E3"
             },
             "line": {
              "color": "white"
             }
            },
            "type": "table"
           }
          ]
         },
         "layout": {
          "annotationdefaults": {
           "arrowcolor": "#2a3f5f",
           "arrowhead": 0,
           "arrowwidth": 1
          },
          "autotypenumbers": "strict",
          "coloraxis": {
           "colorbar": {
            "outlinewidth": 0,
            "ticks": ""
           }
          },
          "colorscale": {
           "diverging": [
            [
             0,
             "#8e0152"
            ],
            [
             0.1,
             "#c51b7d"
            ],
            [
             0.2,
             "#de77ae"
            ],
            [
             0.3,
             "#f1b6da"
            ],
            [
             0.4,
             "#fde0ef"
            ],
            [
             0.5,
             "#f7f7f7"
            ],
            [
             0.6,
             "#e6f5d0"
            ],
            [
             0.7,
             "#b8e186"
            ],
            [
             0.8,
             "#7fbc41"
            ],
            [
             0.9,
             "#4d9221"
            ],
            [
             1,
             "#276419"
            ]
           ],
           "sequential": [
            [
             0,
             "#0d0887"
            ],
            [
             0.1111111111111111,
             "#46039f"
            ],
            [
             0.2222222222222222,
             "#7201a8"
            ],
            [
             0.3333333333333333,
             "#9c179e"
            ],
            [
             0.4444444444444444,
             "#bd3786"
            ],
            [
             0.5555555555555556,
             "#d8576b"
            ],
            [
             0.6666666666666666,
             "#ed7953"
            ],
            [
             0.7777777777777778,
             "#fb9f3a"
            ],
            [
             0.8888888888888888,
             "#fdca26"
            ],
            [
             1,
             "#f0f921"
            ]
           ],
           "sequentialminus": [
            [
             0,
             "#0d0887"
            ],
            [
             0.1111111111111111,
             "#46039f"
            ],
            [
             0.2222222222222222,
             "#7201a8"
            ],
            [
             0.3333333333333333,
             "#9c179e"
            ],
            [
             0.4444444444444444,
             "#bd3786"
            ],
            [
             0.5555555555555556,
             "#d8576b"
            ],
            [
             0.6666666666666666,
             "#ed7953"
            ],
            [
             0.7777777777777778,
             "#fb9f3a"
            ],
            [
             0.8888888888888888,
             "#fdca26"
            ],
            [
             1,
             "#f0f921"
            ]
           ]
          },
          "colorway": [
           "#636efa",
           "#EF553B",
           "#00cc96",
           "#ab63fa",
           "#FFA15A",
           "#19d3f3",
           "#FF6692",
           "#B6E880",
           "#FF97FF",
           "#FECB52"
          ],
          "font": {
           "color": "#2a3f5f"
          },
          "geo": {
           "bgcolor": "white",
           "lakecolor": "white",
           "landcolor": "#E5ECF6",
           "showlakes": true,
           "showland": true,
           "subunitcolor": "white"
          },
          "hoverlabel": {
           "align": "left"
          },
          "hovermode": "closest",
          "mapbox": {
           "style": "light"
          },
          "paper_bgcolor": "white",
          "plot_bgcolor": "#E5ECF6",
          "polar": {
           "angularaxis": {
            "gridcolor": "white",
            "linecolor": "white",
            "ticks": ""
           },
           "bgcolor": "#E5ECF6",
           "radialaxis": {
            "gridcolor": "white",
            "linecolor": "white",
            "ticks": ""
           }
          },
          "scene": {
           "xaxis": {
            "backgroundcolor": "#E5ECF6",
            "gridcolor": "white",
            "gridwidth": 2,
            "linecolor": "white",
            "showbackground": true,
            "ticks": "",
            "zerolinecolor": "white"
           },
           "yaxis": {
            "backgroundcolor": "#E5ECF6",
            "gridcolor": "white",
            "gridwidth": 2,
            "linecolor": "white",
            "showbackground": true,
            "ticks": "",
            "zerolinecolor": "white"
           },
           "zaxis": {
            "backgroundcolor": "#E5ECF6",
            "gridcolor": "white",
            "gridwidth": 2,
            "linecolor": "white",
            "showbackground": true,
            "ticks": "",
            "zerolinecolor": "white"
           }
          },
          "shapedefaults": {
           "line": {
            "color": "#2a3f5f"
           }
          },
          "ternary": {
           "aaxis": {
            "gridcolor": "white",
            "linecolor": "white",
            "ticks": ""
           },
           "baxis": {
            "gridcolor": "white",
            "linecolor": "white",
            "ticks": ""
           },
           "bgcolor": "#E5ECF6",
           "caxis": {
            "gridcolor": "white",
            "linecolor": "white",
            "ticks": ""
           }
          },
          "title": {
           "x": 0.05
          },
          "xaxis": {
           "automargin": true,
           "gridcolor": "white",
           "linecolor": "white",
           "ticks": "",
           "title": {
            "standoff": 15
           },
           "zerolinecolor": "white",
           "zerolinewidth": 2
          },
          "yaxis": {
           "automargin": true,
           "gridcolor": "white",
           "linecolor": "white",
           "ticks": "",
           "title": {
            "standoff": 15
           },
           "zerolinecolor": "white",
           "zerolinewidth": 2
          }
         }
        },
        "title": {
         "text": "Logit difference from each attention head"
        },
        "xaxis": {
         "anchor": "y",
         "constrain": "domain",
         "domain": [
          0,
          1
         ],
         "scaleanchor": "y",
         "title": {
          "text": "Model attention layer"
         }
        },
        "yaxis": {
         "anchor": "x",
         "autorange": true,
         "constrain": "domain",
         "domain": [
          0,
          1
         ],
         "title": {
          "text": "Attention head in layer"
         }
        }
       }
      }
     },
     "metadata": {},
     "output_type": "display_data"
    }
   ],
   "source": [
    "per_head_residual_stream, component_labels = activation_cache.stack_head_results(\n",
    "    layer=-1,\n",
    "    pos_slice=-1,\n",
    "    return_labels=True,\n",
    ")\n",
    "\n",
    "per_head_logit_differences = residual_stream_to_logit_diff(\n",
    "    per_head_residual_stream,\n",
    "    activation_cache,\n",
    "    logit_difference_directions\n",
    ")\n",
    "\n",
    "per_head_logit_differences = einops.rearrange(\n",
    "    per_head_logit_differences,\n",
    "    \"(layer head_index) -> layer head_index\",\n",
    "    layer=model.cfg.n_layers,\n",
    "    head_index=model.cfg.n_heads,\n",
    ")\n",
    "\n",
    "per_head_logit_differences = utils.to_numpy(per_head_logit_differences)\n",
    "transposed_per_head_logit_differences = per_head_logit_differences.T\n",
    "\n",
    "px.imshow(\n",
    "    transposed_per_head_logit_differences,\n",
    "    color_continuous_midpoint=0.0,\n",
    "    color_continuous_scale=\"RdBu\",\n",
    "    title=\"Logit difference from each attention head\",\n",
    "    labels={\"x\": \"Model attention layer\", \"y\": \"Attention head in layer\"},\n",
    "    origin=\"lower\",\n",
    ").show()"
   ]
  },
  {
   "cell_type": "markdown",
   "id": "6d8e0825",
   "metadata": {},
   "source": [
    "### Attention analysis\n",
    "\n",
    "* For each attention head, we can observe its attention pattern to identify what positions they move information from and to.\n",
    "* Here we're looking at the direct effect on the logits so we need only look at the attention patterns from the final token.\n",
    "* Note: attention patterns don't directly give the information about what token a head looked at; instead, all we can confidently say is that the head moves information from the residual stream position corresponding to that input token to its output (there may be components in the residual stream that aren't to do with the input token)."
   ]
  },
  {
   "cell_type": "code",
   "execution_count": 17,
   "id": "c0b4ea42",
   "metadata": {},
   "outputs": [],
   "source": [
    "# Use CircuitsVis library to visualise attention patterns of attention heads in the network\n",
    "def visualize_attention_patterns(\n",
    "    attention_heads: Union[List[int], int, torch.Tensor],\n",
    "    activation_cache: ActivationCache,\n",
    "    input_token_strings: List[str],\n",
    "    plot_title: Optional[str] = \"\",\n",
    ") -> str:\n",
    "    \"\"\"\n",
    "    Visualizes the attention patterns of specified attention heads using the CircuitsVis library.\n",
    "\n",
    "    Args:\n",
    "        attention_heads (Union[List[int], int, torch.Tensor]): Indices of attention heads to visualize. Can be a single int, list of ints, or tensor.\n",
    "        activation_cache (ActivationCache): Activation cache containing attention patterns.\n",
    "        input_token_strings (List[str]): List of token strings corresponding to the input sequence.\n",
    "        plot_title (Optional[str]): Title for the plot.\n",
    "\n",
    "    Returns:\n",
    "        str: HTML string containing the rendered attention pattern visualization.\n",
    "    \"\"\"\n",
    "\n",
    "    # If a single head is given, convert to a list\n",
    "    if isinstance(attention_heads, int):\n",
    "        attention_heads = [attention_heads]\n",
    "\n",
    "    # Setup plotting information\n",
    "    component_labels = []\n",
    "    attention_patterns = []\n",
    "\n",
    "    # Iterate through each head in all the attention layers in the network\n",
    "    batch_index = 0\n",
    "\n",
    "    for head in attention_heads:\n",
    "        # Set the label for each attention head\n",
    "        layer_idx = head // model.cfg.n_heads\n",
    "        head_idx = head % model.cfg.n_heads\n",
    "        component_labels.append(f\"L{layer_idx}H{head_idx}\")\n",
    "\n",
    "        # Get the attention patterns for each attention head\n",
    "        # Attention patterns have shape [batch, head_index, query_pos, key_pos]\n",
    "        attn_pattern = activation_cache[\"attn\", layer_idx][batch_index, head_idx]\n",
    "        attention_patterns.append(attn_pattern)\n",
    "\n",
    "    # Concatenate all attention patterns\n",
    "    attention_patterns = torch.stack(\n",
    "        attention_patterns,\n",
    "        dim=0\n",
    "    )\n",
    "\n",
    "    # Generate the plot\n",
    "    plot = plot_attention_heads(\n",
    "        attention=attention_patterns,\n",
    "        tokens=input_token_strings,\n",
    "        attention_head_names=component_labels\n",
    "    ).show_code()\n",
    "\n",
    "    # Format the plot as a HTML page\n",
    "    title_html = f\"<h2>{plot_title}</h2><br/>\"\n",
    "    page_html = f\"<div style='max-width: 700px;'>{title_html + plot}</div>\"\n",
    "\n",
    "    return page_html"
   ]
  },
  {
   "cell_type": "code",
   "execution_count": 32,
   "id": "b1e7610f",
   "metadata": {},
   "outputs": [
    {
     "data": {
      "text/html": [
       "<div style='max-width: 700px;'><h2>Top 10 Positive Logit Attribution Heads</h2><br/><div id=\"circuits-vis-0a9ba5ed-d685\" style=\"margin: 15px 0;\"/>\n",
       "    <script crossorigin type=\"module\">\n",
       "    import { render, AttentionHeads } from \"https://unpkg.com/circuitsvis@1.43.3/dist/cdn/esm.js\";\n",
       "    render(\n",
       "      \"circuits-vis-0a9ba5ed-d685\",\n",
       "      AttentionHeads,\n",
       "      {\"attention\": [[[1.0, 0.0, 0.0, 0.0, 0.0, 0.0, 0.0, 0.0, 0.0, 0.0, 0.0, 0.0, 0.0, 0.0, 0.0], [0.9979304075241089, 0.0020696474239230156, 0.0, 0.0, 0.0, 0.0, 0.0, 0.0, 0.0, 0.0, 0.0, 0.0, 0.0, 0.0, 0.0], [0.9971864819526672, 0.0010516704060137272, 0.001761840539984405, 0.0, 0.0, 0.0, 0.0, 0.0, 0.0, 0.0, 0.0, 0.0, 0.0, 0.0, 0.0], [0.9594855904579163, 0.0013107364065945148, 0.03694324567914009, 0.002260480308905244, 0.0, 0.0, 0.0, 0.0, 0.0, 0.0, 0.0, 0.0, 0.0, 0.0, 0.0], [0.9891610741615295, 0.0010526410769671202, 0.004854260012507439, 0.0011043715057894588, 0.0038276193663477898, 0.0, 0.0, 0.0, 0.0, 0.0, 0.0, 0.0, 0.0, 0.0, 0.0], [0.9963597655296326, 0.0007981906528584659, 0.0007764353067614138, 0.00019262581190560013, 0.00024161981127690524, 0.0016313582891598344, 0.0, 0.0, 0.0, 0.0, 0.0, 0.0, 0.0, 0.0, 0.0], [0.9812861680984497, 0.0018637996399775147, 0.006344232242554426, 0.0002960949786938727, 0.004605010151863098, 0.0013967098202556372, 0.004207989666610956, 0.0, 0.0, 0.0, 0.0, 0.0, 0.0, 0.0, 0.0], [0.9950010180473328, 0.0013230693293735385, 0.0007920943317003548, 0.00024644832592457533, 0.00034052220871672034, 0.0001682636357145384, 0.00028377986745908856, 0.0018447823822498322, 0.0, 0.0, 0.0, 0.0, 0.0, 0.0, 0.0], [0.9920291304588318, 0.001354007050395012, 0.0007168464362621307, 9.214304736815393e-05, 0.000134195652208291, 0.00019706586317624897, 0.0003527876397129148, 0.00024261162616312504, 0.004881161265075207, 0.0, 0.0, 0.0, 0.0, 0.0, 0.0], [0.5483199954032898, 0.007583831902593374, 0.28266003727912903, 0.002968562999740243, 0.1481560319662094, 0.0008172985981218517, 0.0006479943986050785, 0.001707850955426693, 0.004129327833652496, 0.0030090557411313057, 0.0, 0.0, 0.0, 0.0, 0.0], [0.8642565608024597, 0.0036493015941232443, 0.004925812594592571, 0.06957423686981201, 0.03868257999420166, 0.009609843604266644, 0.0008548639016225934, 0.0005643005715683103, 0.003707130206748843, 0.0013952774461358786, 0.002780060051009059, 0.0, 0.0, 0.0, 0.0], [0.30252936482429504, 0.0065845041535794735, 0.14017534255981445, 0.03006586991250515, 0.4806700646877289, 0.0005923626595176756, 0.000530978839378804, 0.0024134826380759478, 0.008505770936608315, 0.0013766337651759386, 0.023764774203300476, 0.0027908224146813154, 0.0, 0.0, 0.0], [0.7773905396461487, 0.003722923342138529, 0.0223782230168581, 0.015139516443014145, 0.017408426851034164, 0.002416664967313409, 0.0007095677428878844, 0.0007399649475701153, 0.13850051164627075, 0.0023606636095792055, 0.005776865407824516, 0.0028014453127980232, 0.010654651559889317, 0.0, 0.0], [0.9735958576202393, 0.001281276228837669, 0.002617970574647188, 9.892011439660564e-05, 0.000509863079059869, 0.00012000880087725818, 0.00045230527757667005, 0.00010779804870253429, 0.0029545442666858435, 0.0016444132197648287, 0.0012141417246311903, 0.00018637595348991454, 0.0008510917541570961, 0.014365420676767826, 0.0], [0.09902894496917725, 0.0009710905142128468, 0.06413227319717407, 0.005247008055448532, 0.8110412955284119, 8.2503174780868e-05, 6.596812454517931e-05, 0.0011991378851234913, 0.0008852772880345583, 0.0002489121980033815, 0.010336283594369888, 7.952327723614872e-05, 0.004943328909575939, 0.000289187824819237, 0.0014492421178147197]], [[1.0, 0.0, 0.0, 0.0, 0.0, 0.0, 0.0, 0.0, 0.0, 0.0, 0.0, 0.0, 0.0, 0.0, 0.0], [0.9985041618347168, 0.0014959081308916211, 0.0, 0.0, 0.0, 0.0, 0.0, 0.0, 0.0, 0.0, 0.0, 0.0, 0.0, 0.0, 0.0], [0.9966639876365662, 0.00046957930317148566, 0.002866449998691678, 0.0, 0.0, 0.0, 0.0, 0.0, 0.0, 0.0, 0.0, 0.0, 0.0, 0.0, 0.0], [0.9208282232284546, 0.0007845037034712732, 0.07676997035741806, 0.00161734560970217, 0.0, 0.0, 0.0, 0.0, 0.0, 0.0, 0.0, 0.0, 0.0, 0.0, 0.0], [0.9835837483406067, 0.0006018365966156125, 0.0030123169999569654, 0.00618808064609766, 0.006614005658775568, 0.0, 0.0, 0.0, 0.0, 0.0, 0.0, 0.0, 0.0, 0.0, 0.0], [0.9950478076934814, 0.0007798037840984762, 0.0007059480994939804, 0.00038248178316280246, 0.0007798789883963764, 0.0023041395470499992, 0.0, 0.0, 0.0, 0.0, 0.0, 0.0, 0.0, 0.0, 0.0], [0.983881950378418, 0.0015907534398138523, 0.006336239632219076, 0.00045845581917092204, 0.0048298961482942104, 0.000996665912680328, 0.0019060925114899874, 0.0, 0.0, 0.0, 0.0, 0.0, 0.0, 0.0, 0.0], [0.995481014251709, 0.0010436356533318758, 0.0005037521477788687, 0.0005756164318881929, 0.00046195037430152297, 0.00042672015842981637, 0.0006751745822839439, 0.0008320874185301363, 0.0, 0.0, 0.0, 0.0, 0.0, 0.0, 0.0], [0.9798214435577393, 0.008518247865140438, 0.0010190331377089024, 0.0002993261441588402, 0.00030979918665252626, 0.0003330523322802037, 0.0015419898554682732, 0.0008126455941237509, 0.007344498299062252, 0.0, 0.0, 0.0, 0.0, 0.0, 0.0], [0.6489219665527344, 0.008722439408302307, 0.10266052931547165, 0.003890560008585453, 0.22695043683052063, 0.0011350997956469655, 0.00045882194535806775, 0.0004216681409161538, 0.0053738802671432495, 0.0014645786723122, 0.0, 0.0, 0.0, 0.0, 0.0], [0.9156035780906677, 0.0013435587752610445, 0.0011674031848087907, 0.0453205369412899, 0.020157765597105026, 0.007576522883027792, 0.0011305767111480236, 0.0002488075115252286, 0.004846339579671621, 0.0007249587797559798, 0.0018800548277795315, 0.0, 0.0, 0.0, 0.0], [0.4962085485458374, 0.001978291431441903, 0.058441560715436935, 0.007836926728487015, 0.40375959873199463, 0.0005728162941522896, 0.0002964005107060075, 0.0009752826299518347, 0.0046508037485182285, 0.00032523422851227224, 0.02318546548485756, 0.001769005786627531, 0.0, 0.0, 0.0], [0.8397699594497681, 0.0018636800814419985, 0.005577548407018185, 0.020380685105919838, 0.029273366555571556, 0.0044487775303423405, 0.0011503250570967793, 0.00024191424017772079, 0.08715134114027023, 0.001358854933641851, 0.0026416063774377108, 0.0019266586750745773, 0.004215238615870476, 0.0, 0.0], [0.9744169116020203, 0.0024021214339882135, 0.004550567828118801, 0.00020547704480122775, 0.0026625420432537794, 0.00021827241289429367, 0.0008242572075687349, 0.0004054969467688352, 0.0026430441066622734, 0.0015235634054988623, 0.003108870703727007, 7.676535460632294e-05, 0.0018502672901377082, 0.00511183449998498, 0.0], [0.1847020834684372, 0.00038850470446050167, 0.06518031656742096, 0.001453464268706739, 0.731878399848938, 0.00010888368706218898, 2.7485717509989627e-05, 0.00011231088865315542, 0.0013672085478901863, 4.0162180084735155e-05, 0.01254354976117611, 5.9586007409961894e-05, 0.0007756430422887206, 0.0010575378546491265, 0.0003048646613024175]], [[1.0, 0.0, 0.0, 0.0, 0.0, 0.0, 0.0, 0.0, 0.0, 0.0, 0.0, 0.0, 0.0, 0.0, 0.0], [0.9776753783226013, 0.022324664518237114, 0.0, 0.0, 0.0, 0.0, 0.0, 0.0, 0.0, 0.0, 0.0, 0.0, 0.0, 0.0, 0.0], [0.94307541847229, 0.018822992220520973, 0.03810146078467369, 0.0, 0.0, 0.0, 0.0, 0.0, 0.0, 0.0, 0.0, 0.0, 0.0, 0.0, 0.0], [0.8963217735290527, 0.006171665154397488, 0.07676256448030472, 0.020743992179632187, 0.0, 0.0, 0.0, 0.0, 0.0, 0.0, 0.0, 0.0, 0.0, 0.0, 0.0], [0.8522233366966248, 0.01784438081085682, 0.05478667840361595, 0.012976146303117275, 0.06216944754123688, 0.0, 0.0, 0.0, 0.0, 0.0, 0.0, 0.0, 0.0, 0.0, 0.0], [0.966902494430542, 0.00404953770339489, 0.0020623086020350456, 0.007766348775476217, 0.007081757299602032, 0.01213755365461111, 0.0, 0.0, 0.0, 0.0, 0.0, 0.0, 0.0, 0.0, 0.0], [0.7676395773887634, 0.018502192571759224, 0.04501299560070038, 0.01247165072709322, 0.10591329634189606, 0.018323471769690514, 0.03213682770729065, 0.0, 0.0, 0.0, 0.0, 0.0, 0.0, 0.0, 0.0], [0.8918293118476868, 0.010069537907838821, 0.013089925050735474, 0.010685091838240623, 0.031169237568974495, 0.006502212956547737, 0.0210382342338562, 0.01561648491770029, 0.0, 0.0, 0.0, 0.0, 0.0, 0.0, 0.0], [0.9457211494445801, 0.004500505980104208, 0.01390587817877531, 0.0013248869217932224, 0.015576576814055443, 0.0011156905675306916, 0.0007837398443371058, 0.000724452082067728, 0.016347162425518036, 0.0, 0.0, 0.0, 0.0, 0.0, 0.0], [0.5131943821907043, 0.006032098084688187, 0.11406747251749039, 0.009519141167402267, 0.3061329424381256, 0.0034422411117702723, 0.002601641695946455, 0.0026653665117919445, 0.034123264253139496, 0.00822146050632, 0.0, 0.0, 0.0, 0.0, 0.0], [0.8395137786865234, 0.008326230570673943, 0.012920761480927467, 0.012827719561755657, 0.029934139922261238, 0.013884047046303749, 0.003483896143734455, 0.001869157305918634, 0.03946565091609955, 0.011844020336866379, 0.02593047544360161, 0.0, 0.0, 0.0, 0.0], [0.3585030436515808, 0.004236201755702496, 0.10680282860994339, 0.015598580241203308, 0.4160782992839813, 0.002491921652108431, 0.003585681552067399, 0.003899881849065423, 0.015854893252253532, 0.005938112270087004, 0.062027283012866974, 0.004983258433640003, 0.0, 0.0, 0.0], [0.6125437021255493, 0.004679429344832897, 0.029155222699046135, 0.0282403863966465, 0.08258939534425735, 0.007909833453595638, 0.011129273101687431, 0.0034775796812027693, 0.17027665674686432, 0.01053888350725174, 0.0157734677195549, 0.01329499389976263, 0.010391099378466606, 0.0, 0.0], [0.8758108019828796, 0.007089284714311361, 0.012082730419933796, 0.0025995804462581873, 0.021269356831908226, 0.001653556595556438, 0.001903653028421104, 0.0016309903003275394, 0.028230221942067146, 0.008473522961139679, 0.011080284602940083, 0.0027609453536570072, 0.0025940961204469204, 0.02282089740037918, 0.0], [0.5415257811546326, 0.003397510154172778, 0.03888256847858429, 0.007577100768685341, 0.3613910675048828, 0.0013810689561069012, 0.0010475103044882417, 0.0012340121902525425, 0.006947679445147514, 0.0037570034619420767, 0.017671700567007065, 0.0011743939248844981, 0.003623252036049962, 0.0021924639586359262, 0.008196918293833733]], [[1.0, 0.0, 0.0, 0.0, 0.0, 0.0, 0.0, 0.0, 0.0, 0.0, 0.0, 0.0, 0.0, 0.0, 0.0], [0.9949348568916321, 0.005065178964287043, 0.0, 0.0, 0.0, 0.0, 0.0, 0.0, 0.0, 0.0, 0.0, 0.0, 0.0, 0.0, 0.0], [0.9873601794242859, 0.007833348587155342, 0.004806465934962034, 0.0, 0.0, 0.0, 0.0, 0.0, 0.0, 0.0, 0.0, 0.0, 0.0, 0.0, 0.0], [0.9571304321289062, 0.0051061431877315044, 0.016736779361963272, 0.021026581525802612, 0.0, 0.0, 0.0, 0.0, 0.0, 0.0, 0.0, 0.0, 0.0, 0.0, 0.0], [0.9599394202232361, 0.005861986428499222, 0.007911878637969494, 0.012979334220290184, 0.013307478278875351, 0.0, 0.0, 0.0, 0.0, 0.0, 0.0, 0.0, 0.0, 0.0, 0.0], [0.981083333492279, 0.006664970889687538, 0.0007103649550117552, 0.003524932311847806, 0.002982684411108494, 0.005033647175878286, 0.0, 0.0, 0.0, 0.0, 0.0, 0.0, 0.0, 0.0, 0.0], [0.9461246728897095, 0.003014635993167758, 0.012376873753964901, 0.002508836332708597, 0.03038713149726391, 0.0013623912818729877, 0.004225414711982012, 0.0, 0.0, 0.0, 0.0, 0.0, 0.0, 0.0, 0.0], [0.9734772443771362, 0.003455135505646467, 0.003068883204832673, 0.0021323238033801317, 0.005841004196554422, 0.001169098075479269, 0.004450478591024876, 0.006405740976333618, 0.0, 0.0, 0.0, 0.0, 0.0, 0.0, 0.0], [0.9789228439331055, 0.004629382397979498, 0.006456753704696894, 0.0006872332887724042, 0.0025176876224577427, 0.0010360226733610034, 0.0011970739578828216, 0.0013373186811804771, 0.003215738572180271, 0.0, 0.0, 0.0, 0.0, 0.0, 0.0], [0.7379957437515259, 0.006036520004272461, 0.09147019684314728, 0.006188384722918272, 0.1461467742919922, 0.0011502827983349562, 0.0011678824666887522, 0.0014959854306653142, 0.005140555091202259, 0.003207696136087179, 0.0, 0.0, 0.0, 0.0, 0.0], [0.9349362254142761, 0.002165920799598098, 0.005416886415332556, 0.01681007631123066, 0.025579655542969704, 0.002747694030404091, 0.000955249066464603, 0.00042463873978704214, 0.003901692572981119, 0.001445417176000774, 0.005616516340523958, 0.0, 0.0, 0.0, 0.0], [0.3560773730278015, 0.007648912724107504, 0.04190593957901001, 0.025322293862700462, 0.5343577265739441, 0.0013684324221685529, 0.0015791237819939852, 0.0018853755900636315, 0.0021042879670858383, 0.004209259524941444, 0.01999656669795513, 0.0035446977708488703, 0.0, 0.0, 0.0], [0.8010973930358887, 0.0038919236976653337, 0.014412203803658485, 0.01136789284646511, 0.0895550400018692, 0.0027122735045850277, 0.0034253010526299477, 0.0016940373461693525, 0.04136442393064499, 0.005563132930546999, 0.0048821717500686646, 0.0038794022984802723, 0.01615484245121479, 0.0, 0.0], [0.9028205871582031, 0.008205133490264416, 0.012415634468197823, 0.00269045471213758, 0.02187446318566799, 0.001160196028649807, 0.0026987127494066954, 0.0019535236060619354, 0.003965714480727911, 0.007849830202758312, 0.010451906360685825, 0.0014728499809280038, 0.007873796857893467, 0.014567122794687748, 0.0], [0.6221529245376587, 0.010161539539694786, 0.013222645036876202, 0.05091802403330803, 0.2544070780277252, 0.0026579268742352724, 0.002192012034356594, 0.0029332363046705723, 0.001312152249738574, 0.00637259753420949, 0.005495232995599508, 0.00246061896905303, 0.013068178668618202, 0.0019743710290640593, 0.010671481490135193]], [[1.0, 0.0, 0.0, 0.0, 0.0, 0.0, 0.0, 0.0, 0.0, 0.0, 0.0, 0.0, 0.0, 0.0, 0.0], [0.9562385082244873, 0.043761491775512695, 0.0, 0.0, 0.0, 0.0, 0.0, 0.0, 0.0, 0.0, 0.0, 0.0, 0.0, 0.0, 0.0], [0.964306116104126, 0.007428055163472891, 0.028265822678804398, 0.0, 0.0, 0.0, 0.0, 0.0, 0.0, 0.0, 0.0, 0.0, 0.0, 0.0, 0.0], [0.6456222534179688, 0.029121654108166695, 0.20926015079021454, 0.11599592119455338, 0.0, 0.0, 0.0, 0.0, 0.0, 0.0, 0.0, 0.0, 0.0, 0.0, 0.0], [0.7634052038192749, 0.01714017055928707, 0.026512276381254196, 0.08158639073371887, 0.11135588586330414, 0.0, 0.0, 0.0, 0.0, 0.0, 0.0, 0.0, 0.0, 0.0, 0.0], [0.8267461061477661, 0.02990998513996601, 0.01523600984364748, 0.03457237035036087, 0.027030689641833305, 0.06650478392839432, 0.0, 0.0, 0.0, 0.0, 0.0, 0.0, 0.0, 0.0, 0.0], [0.7882242202758789, 0.028333397582173347, 0.04124196618795395, 0.024983365088701248, 0.05788353085517883, 0.0202901903539896, 0.03904327377676964, 0.0, 0.0, 0.0, 0.0, 0.0, 0.0, 0.0, 0.0], [0.7217300534248352, 0.027771739289164543, 0.02081981673836708, 0.024504195898771286, 0.018139617517590523, 0.014079085551202297, 0.04442381486296654, 0.12853172421455383, 0.0, 0.0, 0.0, 0.0, 0.0, 0.0, 0.0], [0.7728042602539062, 0.0413363017141819, 0.00650453008711338, 0.00794903002679348, 0.006013194564729929, 0.015620380640029907, 0.03980172425508499, 0.055454742163419724, 0.05451575666666031, 0.0, 0.0, 0.0, 0.0, 0.0, 0.0], [0.47073501348495483, 0.030822312459349632, 0.07406111061573029, 0.05525258928537369, 0.14865674078464508, 0.062336575239896774, 0.034053217619657516, 0.02612673118710518, 0.042438995093107224, 0.05551668629050255, 0.0, 0.0, 0.0, 0.0, 0.0], [0.6962037682533264, 0.005297195632010698, 0.004229586571455002, 0.051907896995544434, 0.007751059252768755, 0.03517880290746689, 0.030573418363928795, 0.02149862051010132, 0.015660056844353676, 0.05138453096151352, 0.08031506091356277, 0.0, 0.0, 0.0, 0.0], [0.3781778812408447, 0.006224608514457941, 0.023588556796312332, 0.04411545768380165, 0.05945118889212608, 0.00953904539346695, 0.012997743673622608, 0.014348995871841908, 0.02039368450641632, 0.017854837700724602, 0.33459538221359253, 0.07871255278587341, 0.0, 0.0, 0.0], [0.4760042726993561, 0.011026084423065186, 0.018324507400393486, 0.045656826347112656, 0.02679138071835041, 0.011260143481194973, 0.018724188208580017, 0.01844882220029831, 0.04068950563669205, 0.02309596538543701, 0.12447664886713028, 0.08994419127702713, 0.09555741399526596, 0.0, 0.0], [0.7641538977622986, 0.008243830874562263, 0.003217883873730898, 0.0049489219672977924, 0.004036621656268835, 0.007506784051656723, 0.011691173538565636, 0.013843915425240993, 0.011436451226472855, 0.022236155346035957, 0.013085386715829372, 0.03330923244357109, 0.03673024848103523, 0.0655594989657402, 0.0], [0.13033625483512878, 0.002237475011497736, 0.03736334294080734, 0.06385032832622528, 0.11956286430358887, 0.011286763474345207, 0.006565176881849766, 0.008514974266290665, 0.005633306223899126, 0.0076337349601089954, 0.5373673439025879, 0.030115298926830292, 0.020915890112519264, 0.005129633937031031, 0.013487604446709156]], [[1.0, 0.0, 0.0, 0.0, 0.0, 0.0, 0.0, 0.0, 0.0, 0.0, 0.0, 0.0, 0.0, 0.0, 0.0], [0.9876870512962341, 0.012312928214669228, 0.0, 0.0, 0.0, 0.0, 0.0, 0.0, 0.0, 0.0, 0.0, 0.0, 0.0, 0.0, 0.0], [0.9379996657371521, 0.01236507948487997, 0.04963519796729088, 0.0, 0.0, 0.0, 0.0, 0.0, 0.0, 0.0, 0.0, 0.0, 0.0, 0.0, 0.0], [0.7804039120674133, 0.018120110034942627, 0.13940221071243286, 0.0620737299323082, 0.0, 0.0, 0.0, 0.0, 0.0, 0.0, 0.0, 0.0, 0.0, 0.0, 0.0], [0.8456724286079407, 0.015713760629296303, 0.06486950814723969, 0.036010995507240295, 0.03773331642150879, 0.0, 0.0, 0.0, 0.0, 0.0, 0.0, 0.0, 0.0, 0.0, 0.0], [0.9451389312744141, 0.014631672762334347, 0.012643863447010517, 0.01392810046672821, 0.008741330355405807, 0.004916135687381029, 0.0, 0.0, 0.0, 0.0, 0.0, 0.0, 0.0, 0.0, 0.0], [0.8454469442367554, 0.03599518910050392, 0.03320152685046196, 0.024849915876984596, 0.03399524837732315, 0.01234735082834959, 0.014163870364427567, 0.0, 0.0, 0.0, 0.0, 0.0, 0.0, 0.0, 0.0], [0.7761451005935669, 0.023296667262911797, 0.05871568247675896, 0.03913828730583191, 0.050488971173763275, 0.01593332178890705, 0.01943475566804409, 0.01684722490608692, 0.0, 0.0, 0.0, 0.0, 0.0, 0.0, 0.0], [0.8963751196861267, 0.011804682202637196, 0.0075328154489398, 0.0061226640827953815, 0.012917022220790386, 0.00785255990922451, 0.010959351435303688, 0.016539445146918297, 0.029896387830376625, 0.0, 0.0, 0.0, 0.0, 0.0, 0.0], [0.5152304768562317, 0.017384950071573257, 0.06274755299091339, 0.055811889469623566, 0.14242272078990936, 0.06555215269327164, 0.01735556125640869, 0.021627729758620262, 0.06480169296264648, 0.03706521913409233, 0.0, 0.0, 0.0, 0.0, 0.0], [0.843451201915741, 0.008021791465580463, 0.003871798049658537, 0.024575410410761833, 0.006862177047878504, 0.03459303826093674, 0.014453180134296417, 0.0074002924375236034, 0.0315997488796711, 0.02347421832382679, 0.0016972313169389963, 0.0, 0.0, 0.0, 0.0], [0.5837461352348328, 0.012266932055354118, 0.0352502167224884, 0.026564862579107285, 0.08520779758691788, 0.02234119363129139, 0.012725028209388256, 0.018520537763834, 0.14926333725452423, 0.03634192422032356, 0.01223598700016737, 0.005536077544093132, 0.0, 0.0, 0.0], [0.3910139799118042, 0.006664209067821503, 0.04193789139389992, 0.03571724519133568, 0.10457620769739151, 0.043075013905763626, 0.01963135227560997, 0.018449215218424797, 0.2835405468940735, 0.03850181773304939, 0.005759496707469225, 0.0056345160119235516, 0.00549844978377223, 0.0, 0.0], [0.8665665984153748, 0.007779201027005911, 0.01161191426217556, 0.012133750133216381, 0.011791806668043137, 0.010435768403112888, 0.006331488490104675, 0.006472493521869183, 0.021493151783943176, 0.010478546842932701, 0.0024217492900788784, 0.00478645833209157, 0.004759513773024082, 0.022937672212719917, 0.0], [0.27411484718322754, 0.010334116406738758, 0.046294089406728745, 0.0778411403298378, 0.22296665608882904, 0.03274853527545929, 0.02135356143116951, 0.02712063491344452, 0.17367306351661682, 0.061730384826660156, 0.007615833077579737, 0.0012497578281909227, 0.00624396838247776, 0.024915143847465515, 0.011798279359936714]], [[1.0, 0.0, 0.0, 0.0, 0.0, 0.0, 0.0, 0.0, 0.0, 0.0, 0.0, 0.0, 0.0, 0.0, 0.0], [0.9725961685180664, 0.02740376442670822, 0.0, 0.0, 0.0, 0.0, 0.0, 0.0, 0.0, 0.0, 0.0, 0.0, 0.0, 0.0, 0.0], [0.9560401439666748, 0.037303004413843155, 0.006656829733401537, 0.0, 0.0, 0.0, 0.0, 0.0, 0.0, 0.0, 0.0, 0.0, 0.0, 0.0, 0.0], [0.500939130783081, 0.08983131498098373, 0.3484286367893219, 0.0608009472489357, 0.0, 0.0, 0.0, 0.0, 0.0, 0.0, 0.0, 0.0, 0.0, 0.0, 0.0], [0.7674188017845154, 0.17525680363178253, 0.021164486184716225, 0.02390020526945591, 0.012259725481271744, 0.0, 0.0, 0.0, 0.0, 0.0, 0.0, 0.0, 0.0, 0.0, 0.0], [0.7222567200660706, 0.18388287723064423, 0.02373567223548889, 0.007100588642060757, 0.007225415203720331, 0.0557987317442894, 0.0, 0.0, 0.0, 0.0, 0.0, 0.0, 0.0, 0.0, 0.0], [0.6940765380859375, 0.13069553673267365, 0.028726685792207718, 0.009216496720910072, 0.01152750663459301, 0.089332714676857, 0.036424584686756134, 0.0, 0.0, 0.0, 0.0, 0.0, 0.0, 0.0, 0.0], [0.6924386024475098, 0.12459467351436615, 0.015318917110562325, 0.007925174199044704, 0.006713626440614462, 0.07965390384197235, 0.04910419508814812, 0.02425093948841095, 0.0, 0.0, 0.0, 0.0, 0.0, 0.0, 0.0], [0.6969715356826782, 0.10134100168943405, 0.011634145863354206, 0.007826692424714565, 0.003278033109381795, 0.04264753311872482, 0.05841977149248123, 0.04291310906410217, 0.03496808558702469, 0.0, 0.0, 0.0, 0.0, 0.0, 0.0], [0.6869077682495117, 0.023936999961733818, 0.1065015122294426, 0.020470257848501205, 0.02552220970392227, 0.04722621291875839, 0.02219090610742569, 0.007245921995490789, 0.01975426636636257, 0.04024383798241615, 0.0, 0.0, 0.0, 0.0, 0.0], [0.5810385942459106, 0.011352460831403732, 0.003397583495825529, 0.03656444326043129, 0.020549222826957703, 0.051691971719264984, 0.024651670828461647, 0.01546828355640173, 0.04950905591249466, 0.1576736718416214, 0.048103008419275284, 0.0, 0.0, 0.0, 0.0], [0.4348866045475006, 0.0068972306326031685, 0.012041856534779072, 0.00381473102606833, 0.010545298457145691, 0.007663524243980646, 0.007842828519642353, 0.006417425349354744, 0.044213902205228806, 0.10390924662351608, 0.33320561051368713, 0.028561780229210854, 0.0, 0.0, 0.0], [0.47478362917900085, 0.024993306025862694, 0.009554844349622726, 0.003750365460291505, 0.008160736411809921, 0.02339785359799862, 0.010678943246603012, 0.0014934976352378726, 0.03086327575147152, 0.194987490773201, 0.15084634721279144, 0.05415084958076477, 0.012338859029114246, 0.0, 0.0], [0.7144891619682312, 0.009456243366003036, 0.0035061086528003216, 0.0029858334455639124, 0.001229092013090849, 0.011996107175946236, 0.00869658775627613, 0.007586640305817127, 0.009631175547838211, 0.0621037594974041, 0.01441414188593626, 0.0792829617857933, 0.043837688863277435, 0.03078441135585308, 0.0], [0.10133873671293259, 0.003883722238242626, 0.017923707142472267, 0.0038827776443213224, 0.009177410043776035, 0.013169478625059128, 0.003479745937511325, 0.0019711011555045843, 0.004929668270051479, 0.12965910136699677, 0.6630280613899231, 0.03302440792322159, 0.008983862586319447, 0.0017172275111079216, 0.0038309963420033455]], [[1.0, 0.0, 0.0, 0.0, 0.0, 0.0, 0.0, 0.0, 0.0, 0.0, 0.0, 0.0, 0.0, 0.0, 0.0], [0.9807831645011902, 0.019216865301132202, 0.0, 0.0, 0.0, 0.0, 0.0, 0.0, 0.0, 0.0, 0.0, 0.0, 0.0, 0.0, 0.0], [0.9272447228431702, 0.04127851501107216, 0.03147674724459648, 0.0, 0.0, 0.0, 0.0, 0.0, 0.0, 0.0, 0.0, 0.0, 0.0, 0.0, 0.0], [0.7453387379646301, 0.02566833421587944, 0.19979195296764374, 0.029201027005910873, 0.0, 0.0, 0.0, 0.0, 0.0, 0.0, 0.0, 0.0, 0.0, 0.0, 0.0], [0.8924291133880615, 0.005840637255460024, 0.03836477920413017, 0.00597812095656991, 0.057387396693229675, 0.0, 0.0, 0.0, 0.0, 0.0, 0.0, 0.0, 0.0, 0.0, 0.0], [0.9482280015945435, 0.003953182604163885, 0.015603411942720413, 0.006680408492684364, 0.021078363060951233, 0.004456745460629463, 0.0, 0.0, 0.0, 0.0, 0.0, 0.0, 0.0, 0.0, 0.0], [0.7036250829696655, 0.008815840817987919, 0.0515926256775856, 0.008263826370239258, 0.21358194947242737, 0.00581539049744606, 0.008305186405777931, 0.0, 0.0, 0.0, 0.0, 0.0, 0.0, 0.0, 0.0], [0.5894663333892822, 0.01990891434252262, 0.0953027606010437, 0.03777523338794708, 0.2335209846496582, 0.00942966528236866, 0.00890881847590208, 0.005687306635081768, 0.0, 0.0, 0.0, 0.0, 0.0, 0.0, 0.0], [0.9467618465423584, 0.005915610119700432, 0.005990252364426851, 0.001966136274859309, 0.009949722327291965, 0.0016806431813165545, 0.0030600177124142647, 0.004432628396898508, 0.02024318464100361, 0.0, 0.0, 0.0, 0.0, 0.0, 0.0], [0.6752992868423462, 0.009751048870384693, 0.06103542819619179, 0.008132122457027435, 0.16870169341564178, 0.005396085791289806, 0.007135332562029362, 0.006203421391546726, 0.042803242802619934, 0.015542414970695972, 0.0, 0.0, 0.0, 0.0, 0.0], [0.8890808820724487, 0.0017037773504853249, 0.019700046628713608, 0.0023385598324239254, 0.0458374060690403, 0.0007614957867190242, 0.0009976294822990894, 0.001069841906428337, 0.007918030954897404, 0.007196120452135801, 0.02339622750878334, 0.0, 0.0, 0.0, 0.0], [0.624985933303833, 0.002306984970346093, 0.10738322138786316, 0.0022003918420523405, 0.20439639687538147, 0.0015657864278182387, 0.0011846226407215, 0.0022580227814614773, 0.013415060937404633, 0.0034203315153717995, 0.03549985960125923, 0.0013833681587129831, 0.0, 0.0, 0.0], [0.5137144327163696, 0.003007009392604232, 0.11384350061416626, 0.01107130665332079, 0.19740545749664307, 0.011347593739628792, 0.0028093266300857067, 0.004098053555935621, 0.060863833874464035, 0.009189075790345669, 0.06102761998772621, 0.006160128861665726, 0.005462737288326025, 0.0, 0.0], [0.8438517451286316, 0.0033063641749322414, 0.024105578660964966, 0.0021116752177476883, 0.021883295848965645, 0.00442323787137866, 0.0029573654755949974, 0.005183645058423281, 0.02504030056297779, 0.008506841957569122, 0.013087778352200985, 0.004337876569479704, 0.00944321695715189, 0.031761109828948975, 0.0], [0.2436799257993698, 0.001667441800236702, 0.09150821715593338, 0.003817598568275571, 0.5371976494789124, 0.002322459127753973, 0.0013410882093012333, 0.0016120977234095335, 0.007694255094975233, 0.003313219640403986, 0.092849962413311, 0.000813070684671402, 0.0006524190539494157, 0.010645423084497452, 0.0008851743768900633]], [[1.0, 0.0, 0.0, 0.0, 0.0, 0.0, 0.0, 0.0, 0.0, 0.0, 0.0, 0.0, 0.0, 0.0, 0.0], [0.7929220199584961, 0.2070780247449875, 0.0, 0.0, 0.0, 0.0, 0.0, 0.0, 0.0, 0.0, 0.0, 0.0, 0.0, 0.0, 0.0], [0.8829814195632935, 0.08352679759263992, 0.03349180892109871, 0.0, 0.0, 0.0, 0.0, 0.0, 0.0, 0.0, 0.0, 0.0, 0.0, 0.0, 0.0], [0.8077517747879028, 0.05578842759132385, 0.03836961090564728, 0.09809023141860962, 0.0, 0.0, 0.0, 0.0, 0.0, 0.0, 0.0, 0.0, 0.0, 0.0, 0.0], [0.4324796199798584, 0.14508020877838135, 0.24582770466804504, 0.05451502650976181, 0.12209741026163101, 0.0, 0.0, 0.0, 0.0, 0.0, 0.0, 0.0, 0.0, 0.0, 0.0], [0.6328120231628418, 0.10436361283063889, 0.016734741628170013, 0.04835890606045723, 0.09006055444478989, 0.10767020285129547, 0.0, 0.0, 0.0, 0.0, 0.0, 0.0, 0.0, 0.0, 0.0], [0.436332106590271, 0.09474276751279831, 0.015773992985486984, 0.046602822840213776, 0.17917081713676453, 0.14590802788734436, 0.08146942406892776, 0.0, 0.0, 0.0, 0.0, 0.0, 0.0, 0.0, 0.0], [0.44065937399864197, 0.05287861451506615, 0.009234822355210781, 0.023387812077999115, 0.08335539698600769, 0.06298074871301651, 0.28356021642684937, 0.04394303634762764, 0.0, 0.0, 0.0, 0.0, 0.0, 0.0, 0.0], [0.5187693238258362, 0.06730344891548157, 0.010521037504076958, 0.05645737797021866, 0.06967609375715256, 0.07086198776960373, 0.06432437151670456, 0.04811379313468933, 0.0939725711941719, 0.0, 0.0, 0.0, 0.0, 0.0, 0.0], [0.44050276279449463, 0.028837578371167183, 0.013633370399475098, 0.040331773459911346, 0.03653159365057945, 0.010389956645667553, 0.020911304280161858, 0.012871840968728065, 0.22414065897464752, 0.17184914648532867, 0.0, 0.0, 0.0, 0.0, 0.0], [0.2131921648979187, 0.02860959805548191, 0.007234605029225349, 0.013839608989655972, 0.006376542150974274, 0.010839487425982952, 0.0033164219930768013, 0.0030312645249068737, 0.45734015107154846, 0.18852989375591278, 0.06769018620252609, 0.0, 0.0, 0.0, 0.0], [0.46789249777793884, 0.056690145283937454, 0.009285205975174904, 0.040021516382694244, 0.00932386890053749, 0.004576209466904402, 0.005481527652591467, 0.004001485649496317, 0.17135466635227203, 0.2065255045890808, 0.004260174464434385, 0.020587168633937836, 0.0, 0.0, 0.0], [0.2796787619590759, 0.05410289391875267, 0.006136038340628147, 0.02325708232820034, 0.012206124141812325, 0.011635895818471909, 0.012847750447690487, 0.010661031119525433, 0.2746092975139618, 0.17745009064674377, 0.026983048766851425, 0.058332234621047974, 0.05209972709417343, 0.0, 0.0], [0.6836899518966675, 0.019741160795092583, 0.0018363466951996088, 0.015280770137906075, 0.003677984233945608, 0.00923103280365467, 0.008459923788905144, 0.02321464568376541, 0.050801679491996765, 0.09216593205928802, 0.004340334329754114, 0.041956137865781784, 0.026208197697997093, 0.019395824521780014, 0.0], [0.45257675647735596, 0.036766182631254196, 0.00896004680544138, 0.03889457508921623, 0.01210834737867117, 0.0025884192436933517, 0.0061566513031721115, 0.003844435326755047, 0.10633489489555359, 0.245710089802742, 0.0024173196870833635, 0.019777892157435417, 0.005788251291960478, 0.03559018298983574, 0.02248603105545044]], [[1.0, 0.0, 0.0, 0.0, 0.0, 0.0, 0.0, 0.0, 0.0, 0.0, 0.0, 0.0, 0.0, 0.0, 0.0], [0.9691730737686157, 0.030826956033706665, 0.0, 0.0, 0.0, 0.0, 0.0, 0.0, 0.0, 0.0, 0.0, 0.0, 0.0, 0.0, 0.0], [0.9864584803581238, 0.00765988789498806, 0.005881584249436855, 0.0, 0.0, 0.0, 0.0, 0.0, 0.0, 0.0, 0.0, 0.0, 0.0, 0.0, 0.0], [0.9318374991416931, 0.01191562507301569, 0.020531777292490005, 0.0357150174677372, 0.0, 0.0, 0.0, 0.0, 0.0, 0.0, 0.0, 0.0, 0.0, 0.0, 0.0], [0.8786701560020447, 0.034276194870471954, 0.013157928362488747, 0.02705126628279686, 0.046844448894262314, 0.0, 0.0, 0.0, 0.0, 0.0, 0.0, 0.0, 0.0, 0.0, 0.0], [0.9850096106529236, 0.005019503645598888, 0.001392014091834426, 0.001876056776382029, 0.004171142354607582, 0.0025315864477306604, 0.0, 0.0, 0.0, 0.0, 0.0, 0.0, 0.0, 0.0, 0.0], [0.890708327293396, 0.020262662321329117, 0.020904628559947014, 0.00913467351347208, 0.04057832807302475, 0.003215138567611575, 0.015196280553936958, 0.0, 0.0, 0.0, 0.0, 0.0, 0.0, 0.0, 0.0], [0.9318528175354004, 0.012423867359757423, 0.007052915170788765, 0.006267658434808254, 0.009715741500258446, 0.001388284843415022, 0.01269749365746975, 0.018601134419441223, 0.0, 0.0, 0.0, 0.0, 0.0, 0.0, 0.0], [0.7722927331924438, 0.038295406848192215, 0.03943653777241707, 0.009729270823299885, 0.11019463837146759, 0.009773528203368187, 0.008868128061294556, 0.0039777597412467, 0.007431982550770044, 0.0, 0.0, 0.0, 0.0, 0.0, 0.0], [0.6659265160560608, 0.0198938250541687, 0.05748233571648598, 0.026046620681881905, 0.18978717923164368, 0.0017340403283014894, 0.004116132855415344, 0.004545129835605621, 0.007496031932532787, 0.02297217957675457, 0.0, 0.0, 0.0, 0.0, 0.0], [0.858833372592926, 0.018521687015891075, 0.010080311447381973, 0.016174625605344772, 0.04480091854929924, 0.018235687166452408, 0.0026932922191917896, 0.0009044671314768493, 0.004338267259299755, 0.01020042970776558, 0.01521693542599678, 0.0, 0.0, 0.0, 0.0], [0.7452800273895264, 0.020592330023646355, 0.03344875946640968, 0.04560325667262077, 0.09397675096988678, 0.0019108143169432878, 0.003916207235306501, 0.004672225099056959, 0.0032161043491214514, 0.018068095669150352, 0.01630055531859398, 0.013014948926866055, 0.0, 0.0, 0.0], [0.7450793981552124, 0.01600303314626217, 0.02564335986971855, 0.030005304142832756, 0.06691126525402069, 0.003224333981052041, 0.00653074262663722, 0.006865642033517361, 0.043553467839956284, 0.012663024477660656, 0.010547284036874771, 0.010315664112567902, 0.022657623514533043, 0.0, 0.0], [0.8363577723503113, 0.013512643985450268, 0.016558822244405746, 0.008880374021828175, 0.05630732700228691, 0.0022557773627340794, 0.002398422220721841, 0.0012933607213199139, 0.0031502351630479097, 0.013541030697524548, 0.02165035344660282, 0.005392808001488447, 0.004322796128690243, 0.014378256164491177, 0.0], [0.78885418176651, 0.014087697491049767, 0.022161029279232025, 0.04220641776919365, 0.06532426178455353, 0.0011145033640787005, 0.0019568149000406265, 0.002514257561415434, 0.0014487075386568904, 0.012026213109493256, 0.00960757490247488, 0.006895514205098152, 0.00455710431560874, 0.003263325896114111, 0.023982394486665726]]], \"attentionHeadNames\": [\"L9H9\", \"L9H6\", \"L10H0\", \"L10H10\", \"L8H10\", \"L8H11\", \"L7H9\", \"L9H8\", \"L11H3\", \"L11H2\"], \"tokens\": [\"<|endoftext|>\", \"When\", \" John\", \" and\", \" Mary\", \" went\", \" to\", \" the\", \" shops\", \",\", \" John\", \" gave\", \" the\", \" bag\", \" to\"]}\n",
       "    )\n",
       "    </script></div><div style='max-width: 700px;'><h2>Top 10 Negative Logit Attribution Heads</h2><br/><div id=\"circuits-vis-b8b7ab7d-1ce2\" style=\"margin: 15px 0;\"/>\n",
       "    <script crossorigin type=\"module\">\n",
       "    import { render, AttentionHeads } from \"https://unpkg.com/circuitsvis@1.43.3/dist/cdn/esm.js\";\n",
       "    render(\n",
       "      \"circuits-vis-b8b7ab7d-1ce2\",\n",
       "      AttentionHeads,\n",
       "      {\"attention\": [[[1.0, 0.0, 0.0, 0.0, 0.0, 0.0, 0.0, 0.0, 0.0, 0.0, 0.0, 0.0, 0.0, 0.0, 0.0], [0.9628915190696716, 0.037108417600393295, 0.0, 0.0, 0.0, 0.0, 0.0, 0.0, 0.0, 0.0, 0.0, 0.0, 0.0, 0.0, 0.0], [0.9778335094451904, 0.003486402565613389, 0.018680084496736526, 0.0, 0.0, 0.0, 0.0, 0.0, 0.0, 0.0, 0.0, 0.0, 0.0, 0.0, 0.0], [0.873769998550415, 0.005964306183159351, 0.08126745373010635, 0.03899820148944855, 0.0, 0.0, 0.0, 0.0, 0.0, 0.0, 0.0, 0.0, 0.0, 0.0, 0.0], [0.8745136857032776, 0.017276199534535408, 0.01887475699186325, 0.05426822975277901, 0.03506709262728691, 0.0, 0.0, 0.0, 0.0, 0.0, 0.0, 0.0, 0.0, 0.0, 0.0], [0.9704693555831909, 0.0035177809186279774, 0.0003239809302613139, 0.004373408854007721, 0.00039529884816147387, 0.02092018537223339, 0.0, 0.0, 0.0, 0.0, 0.0, 0.0, 0.0, 0.0, 0.0], [0.7694660425186157, 0.006685885600745678, 0.011966545134782791, 0.04096607863903046, 0.03344465792179108, 0.04401002451777458, 0.09346073865890503, 0.0, 0.0, 0.0, 0.0, 0.0, 0.0, 0.0, 0.0], [0.817772626876831, 0.009112607687711716, 0.004233694635331631, 0.03900310397148132, 0.012653358280658722, 0.007337816525250673, 0.0740998163819313, 0.03578691929578781, 0.0, 0.0, 0.0, 0.0, 0.0, 0.0, 0.0], [0.830993115901947, 0.0187966488301754, 0.003303276374936104, 0.01983201876282692, 0.004009503871202469, 0.01207831408828497, 0.03246003016829491, 0.010322256945073605, 0.06820474565029144, 0.0, 0.0, 0.0, 0.0, 0.0, 0.0], [0.31403130292892456, 0.015227902680635452, 0.1978929489850998, 0.059379152953624725, 0.32360655069351196, 0.00903770700097084, 0.019917642697691917, 0.012475196272134781, 0.013939518481492996, 0.03449204936623573, 0.0, 0.0, 0.0, 0.0, 0.0], [0.7319567799568176, 0.030870523303747177, 0.005064055789262056, 0.08703768253326416, 0.004982674028724432, 0.0447259284555912, 0.023506293073296547, 0.006397752091288567, 0.003469690214842558, 0.04865323379635811, 0.01333551574498415, 0.0, 0.0, 0.0, 0.0], [0.13710419833660126, 0.012017856352031231, 0.14592313766479492, 0.015683282166719437, 0.44125500321388245, 0.0043424321338534355, 0.011117907240986824, 0.007466575596481562, 0.0012341599212959409, 0.019460123032331467, 0.16842786967754364, 0.03596749156713486, 0.0, 0.0, 0.0], [0.4052453637123108, 0.009720983915030956, 0.03158166632056236, 0.09247079491615295, 0.04880916699767113, 0.00817425362765789, 0.031708329916000366, 0.02787911519408226, 0.14128006994724274, 0.030234050005674362, 0.033929068595170975, 0.03171449527144432, 0.1072525829076767, 0.0, 0.0], [0.8084702491760254, 0.005670262034982443, 0.0067559704184532166, 0.008696503937244415, 0.010473412461578846, 0.0034647220745682716, 0.006760978605598211, 0.0025889049284160137, 0.01509764976799488, 0.016035988926887512, 0.011288034729659557, 0.017277434468269348, 0.007799157872796059, 0.07962071895599365, 0.0], [0.02939068339765072, 0.0016060431953519583, 0.06005527451634407, 0.008175618015229702, 0.8099179863929749, 0.0003979603643529117, 0.0028282434213906527, 0.003363248659297824, 0.00015690996951889247, 0.00364590622484684, 0.054940130561590195, 0.0016660400433465838, 0.015368939377367496, 5.016631621401757e-05, 0.008436757139861584]], [[1.0, 0.0, 0.0, 0.0, 0.0, 0.0, 0.0, 0.0, 0.0, 0.0, 0.0, 0.0, 0.0, 0.0, 0.0], [0.9375097751617432, 0.06249019131064415, 0.0, 0.0, 0.0, 0.0, 0.0, 0.0, 0.0, 0.0, 0.0, 0.0, 0.0, 0.0, 0.0], [0.9520127773284912, 0.013914305716753006, 0.03407294675707817, 0.0, 0.0, 0.0, 0.0, 0.0, 0.0, 0.0, 0.0, 0.0, 0.0, 0.0, 0.0], [0.43301016092300415, 0.03209824487566948, 0.12144477665424347, 0.413446843624115, 0.0, 0.0, 0.0, 0.0, 0.0, 0.0, 0.0, 0.0, 0.0, 0.0, 0.0], [0.8184230327606201, 0.036049988120794296, 0.0754615068435669, 0.03316396474838257, 0.03690150007605553, 0.0, 0.0, 0.0, 0.0, 0.0, 0.0, 0.0, 0.0, 0.0, 0.0], [0.9380477070808411, 0.017864646390080452, 0.01205423753708601, 0.010601545684039593, 0.00475615169852972, 0.01667572371661663, 0.0, 0.0, 0.0, 0.0, 0.0, 0.0, 0.0, 0.0, 0.0], [0.646382212638855, 0.025745755061507225, 0.18036781251430511, 0.042661894112825394, 0.05269942432641983, 0.013762259855866432, 0.03838065639138222, 0.0, 0.0, 0.0, 0.0, 0.0, 0.0, 0.0, 0.0], [0.7603167295455933, 0.02330823987722397, 0.05825475975871086, 0.02507944218814373, 0.02143017202615738, 0.008911983110010624, 0.04610393941402435, 0.05659477412700653, 0.0, 0.0, 0.0, 0.0, 0.0, 0.0, 0.0], [0.7352839708328247, 0.06914059072732925, 0.07242372632026672, 0.02685493603348732, 0.058835290372371674, 0.012525325641036034, 0.011406016536056995, 0.009587682783603668, 0.003942456562072039, 0.0, 0.0, 0.0, 0.0, 0.0, 0.0], [0.3536781072616577, 0.05886290967464447, 0.300370991230011, 0.053000058978796005, 0.11755344271659851, 0.010499319061636925, 0.01418292336165905, 0.030521422624588013, 0.008511231280863285, 0.052819542586803436, 0.0, 0.0, 0.0, 0.0, 0.0], [0.7183154821395874, 0.0443766787648201, 0.06384120881557465, 0.036236539483070374, 0.05698496848344803, 0.01190813910216093, 0.010661665350198746, 0.002742384560406208, 0.004432728048413992, 0.012311438098549843, 0.03818878158926964, 0.0, 0.0, 0.0, 0.0], [0.33447641134262085, 0.044006820768117905, 0.21011175215244293, 0.12300471216440201, 0.08647283166646957, 0.010122711770236492, 0.013078215532004833, 0.00971625093370676, 0.003550083376467228, 0.03109854832291603, 0.10808562487363815, 0.026276063174009323, 0.0, 0.0, 0.0], [0.3295437693595886, 0.0431518629193306, 0.19823801517486572, 0.12639503180980682, 0.08875660598278046, 0.022623049095273018, 0.01320609636604786, 0.009671772830188274, 0.0177946574985981, 0.030103716999292374, 0.0793258547782898, 0.01170291006565094, 0.029486633837223053, 0.0, 0.0], [0.7692680954933167, 0.015591238625347614, 0.06391211599111557, 0.018622959032654762, 0.024677736684679985, 0.0034298012033104897, 0.0017524334834888577, 0.0016517230542376637, 0.0021571898832917213, 0.014010428451001644, 0.0645938441157341, 0.008276067674160004, 0.009119519032537937, 0.0029367757961153984, 0.0], [0.3134622871875763, 0.0346401073038578, 0.2522400915622711, 0.11076918989419937, 0.0712990090250969, 0.0045851138420403, 0.0062044961377978325, 0.00782831571996212, 0.00238785264082253, 0.02407362498342991, 0.09307143837213516, 0.01912529021501541, 0.019613254815340042, 0.001398613560013473, 0.03930137678980827]], [[1.0, 0.0, 0.0, 0.0, 0.0, 0.0, 0.0, 0.0, 0.0, 0.0, 0.0, 0.0, 0.0, 0.0, 0.0], [0.9124026298522949, 0.0875973254442215, 0.0, 0.0, 0.0, 0.0, 0.0, 0.0, 0.0, 0.0, 0.0, 0.0, 0.0, 0.0, 0.0], [0.9740749597549438, 0.014344035647809505, 0.011581039987504482, 0.0, 0.0, 0.0, 0.0, 0.0, 0.0, 0.0, 0.0, 0.0, 0.0, 0.0, 0.0], [0.8240255117416382, 0.03700494393706322, 0.06643928587436676, 0.07253025472164154, 0.0, 0.0, 0.0, 0.0, 0.0, 0.0, 0.0, 0.0, 0.0, 0.0, 0.0], [0.5370802879333496, 0.154833123087883, 0.09031300246715546, 0.12131162732839584, 0.09646189212799072, 0.0, 0.0, 0.0, 0.0, 0.0, 0.0, 0.0, 0.0, 0.0, 0.0], [0.9388006329536438, 0.028733020648360252, 0.0003430961223784834, 0.010481140576303005, 0.0008399144862778485, 0.020802173763513565, 0.0, 0.0, 0.0, 0.0, 0.0, 0.0, 0.0, 0.0, 0.0], [0.6318821310997009, 0.05930284410715103, 0.03517916798591614, 0.03174079954624176, 0.1174682155251503, 0.06869588792324066, 0.0557309128344059, 0.0, 0.0, 0.0, 0.0, 0.0, 0.0, 0.0, 0.0], [0.7625221014022827, 0.044351767748594284, 0.010552962310612202, 0.0342763215303421, 0.014203894883394241, 0.012703507207334042, 0.07259645313024521, 0.048792969435453415, 0.0, 0.0, 0.0, 0.0, 0.0, 0.0, 0.0], [0.5725991725921631, 0.12681810557842255, 0.03727061301469803, 0.0431414432823658, 0.041295699775218964, 0.04644755274057388, 0.029164396226406097, 0.037511929869651794, 0.06575117260217667, 0.0, 0.0, 0.0, 0.0, 0.0, 0.0], [0.12316980212926865, 0.026347175240516663, 0.27960652112960815, 0.041989631950855255, 0.44105619192123413, 0.006138987839221954, 0.007793043740093708, 0.007175304926931858, 0.011286801658570766, 0.055436547845602036, 0.0, 0.0, 0.0, 0.0, 0.0], [0.44856053590774536, 0.14324896037578583, 0.01077413372695446, 0.07855013757944107, 0.014047577045857906, 0.014864659868180752, 0.008633723482489586, 0.0030146620701998472, 0.01279209554195404, 0.1640857309103012, 0.10142781585454941, 0.0, 0.0, 0.0, 0.0], [0.1022818312048912, 0.02388337068259716, 0.05525074526667595, 0.05206820368766785, 0.575984001159668, 0.0011948186438530684, 0.0013662653509527445, 0.002567800460383296, 0.0018699958454817533, 0.0431600846350193, 0.1088717132806778, 0.03150121122598648, 0.0, 0.0, 0.0], [0.3931325078010559, 0.04406275227665901, 0.04009942337870598, 0.07407435774803162, 0.04061660170555115, 0.007346801925450563, 0.009507170878350735, 0.013865136541426182, 0.06405330449342728, 0.04894229769706726, 0.06277553737163544, 0.09996481239795685, 0.10155926644802094, 0.0, 0.0], [0.7573204040527344, 0.01509572472423315, 0.0073501295410096645, 0.013156382367014885, 0.005726377479732037, 0.008556434884667397, 0.008282581344246864, 0.010307037271559238, 0.0029048570431768894, 0.017329055815935135, 0.015188850462436676, 0.07965748012065887, 0.03024435229599476, 0.02888033725321293, 0.0], [0.08579523861408234, 0.023773690685629845, 0.028759479522705078, 0.050303973257541656, 0.6746453046798706, 0.0010763941099867225, 0.0011514937505126, 0.002721983939409256, 0.0005617669667117298, 0.039091575890779495, 0.048619307577610016, 0.01551999244838953, 0.004084520507603884, 0.0004329108924139291, 0.02346240170300007]], [[1.0, 0.0, 0.0, 0.0, 0.0, 0.0, 0.0, 0.0, 0.0, 0.0, 0.0, 0.0, 0.0, 0.0, 0.0], [0.9873972535133362, 0.01260274276137352, 0.0, 0.0, 0.0, 0.0, 0.0, 0.0, 0.0, 0.0, 0.0, 0.0, 0.0, 0.0, 0.0], [0.9547006487846375, 0.009459808468818665, 0.0358395054936409, 0.0, 0.0, 0.0, 0.0, 0.0, 0.0, 0.0, 0.0, 0.0, 0.0, 0.0, 0.0], [0.890434980392456, 0.0018546833889558911, 0.09956176578998566, 0.008148595690727234, 0.0, 0.0, 0.0, 0.0, 0.0, 0.0, 0.0, 0.0, 0.0, 0.0, 0.0], [0.8946648836135864, 0.010171125642955303, 0.06828182935714722, 0.009947751648724079, 0.016934320330619812, 0.0, 0.0, 0.0, 0.0, 0.0, 0.0, 0.0, 0.0, 0.0, 0.0], [0.9856169819831848, 0.002205385360866785, 0.003234332427382469, 0.0036045473534613848, 0.0016891377745196223, 0.0036496634129434824, 0.0, 0.0, 0.0, 0.0, 0.0, 0.0, 0.0, 0.0, 0.0], [0.9113526940345764, 0.0034226246643811464, 0.049620214849710464, 0.003928845748305321, 0.015209046192467213, 0.004731612280011177, 0.011734905652701855, 0.0, 0.0, 0.0, 0.0, 0.0, 0.0, 0.0, 0.0], [0.9493927955627441, 0.0038807783275842667, 0.019994236528873444, 0.002892867662012577, 0.005800134502351284, 0.0029023236129432917, 0.006425811443477869, 0.008711007423698902, 0.0, 0.0, 0.0, 0.0, 0.0, 0.0, 0.0], [0.9585487246513367, 0.0028387317433953285, 0.02259143441915512, 0.00036084451130591333, 0.002101137535646558, 0.0009672313462942839, 0.0019386154599487782, 0.0009373033535666764, 0.009715917520225048, 0.0, 0.0, 0.0, 0.0, 0.0, 0.0], [0.558128297328949, 0.0032426954712718725, 0.2940012514591217, 0.002606538590043783, 0.1025061309337616, 0.0012739043449983, 0.001955124782398343, 0.001920337788760662, 0.030298955738544464, 0.004066809080541134, 0.0, 0.0, 0.0, 0.0, 0.0], [0.8368747234344482, 0.01361446175724268, 0.02278905361890793, 0.012552591972053051, 0.013324612751603127, 0.006147416308522224, 0.00558116752654314, 0.007228614762425423, 0.04534133896231651, 0.010639580897986889, 0.025906458497047424, 0.0, 0.0, 0.0, 0.0], [0.530156672000885, 0.002629899652674794, 0.21658605337142944, 0.0030147996731102467, 0.1400747299194336, 0.0015832692151889205, 0.0009524774504825473, 0.0012875694083049893, 0.01646542176604271, 0.0033297338522970676, 0.08022725582122803, 0.0036921403370797634, 0.0, 0.0, 0.0], [0.5921950340270996, 0.006113901734352112, 0.07710537314414978, 0.01880725845694542, 0.030051779001951218, 0.007395003456622362, 0.013386734761297703, 0.006566056050360203, 0.14116254448890686, 0.01348439883440733, 0.035654522478580475, 0.018273530527949333, 0.03980390354990959, 0.0, 0.0], [0.911963939666748, 0.003455923870205879, 0.010262821801006794, 0.0005684387288056314, 0.0023070790339261293, 0.0008744766819290817, 0.0014468716690316796, 0.00036867879680357873, 0.011655670590698719, 0.00650643790140748, 0.006986789871007204, 0.003605777397751808, 0.0013120748335495591, 0.03868503123521805, 0.0], [0.6859723329544067, 0.0014391887234523892, 0.1695706993341446, 0.0024524901527911425, 0.080847829580307, 0.0012097948929294944, 0.0003846366598736495, 0.000479105714475736, 0.008840701542794704, 0.001091653830371797, 0.039240602403879166, 0.000967450556345284, 0.0010636397637426853, 0.005100321490317583, 0.001339523820206523]], [[1.0, 0.0, 0.0, 0.0, 0.0, 0.0, 0.0, 0.0, 0.0, 0.0, 0.0, 0.0, 0.0, 0.0, 0.0], [0.995781660079956, 0.004218310117721558, 0.0, 0.0, 0.0, 0.0, 0.0, 0.0, 0.0, 0.0, 0.0, 0.0, 0.0, 0.0, 0.0], [0.9967167973518372, 0.0011257603764533997, 0.0021574143320322037, 0.0, 0.0, 0.0, 0.0, 0.0, 0.0, 0.0, 0.0, 0.0, 0.0, 0.0, 0.0], [0.8342363238334656, 0.004330924712121487, 0.03643718734383583, 0.12499552220106125, 0.0, 0.0, 0.0, 0.0, 0.0, 0.0, 0.0, 0.0, 0.0, 0.0, 0.0], [0.9752680063247681, 0.0028743690345436335, 0.006928300019353628, 0.011584470048546791, 0.0033448685426265, 0.0, 0.0, 0.0, 0.0, 0.0, 0.0, 0.0, 0.0, 0.0, 0.0], [0.970170259475708, 0.011422837153077126, 0.005928531754761934, 0.003939879592508078, 0.004765728954225779, 0.003772800089791417, 0.0, 0.0, 0.0, 0.0, 0.0, 0.0, 0.0, 0.0, 0.0], [0.9765968918800354, 0.006628850940614939, 0.006442726589739323, 0.0016770536312833428, 0.004454192239791155, 0.0019994606263935566, 0.0022008628584444523, 0.0, 0.0, 0.0, 0.0, 0.0, 0.0, 0.0, 0.0], [0.9726380109786987, 0.006579684559255838, 0.0037166231777518988, 0.0017193604726344347, 0.003047846956178546, 0.0015519580338150263, 0.0017488356679677963, 0.008997720666229725, 0.0, 0.0, 0.0, 0.0, 0.0, 0.0, 0.0], [0.9374451637268066, 0.006897858344018459, 0.00273179542273283, 0.0024195797741413116, 0.002123531885445118, 0.0018665815005078912, 0.0044580427929759026, 0.009252823889255524, 0.032804690301418304, 0.0, 0.0, 0.0, 0.0, 0.0, 0.0], [0.41591042280197144, 0.02695597894489765, 0.022019993513822556, 0.3394818902015686, 0.04662201926112175, 0.04082018509507179, 0.019442297518253326, 0.018304288387298584, 0.03089679591357708, 0.03954610601067543, 0.0, 0.0, 0.0, 0.0, 0.0], [0.6678409576416016, 0.01330831553786993, 0.0042909919284284115, 0.07455851137638092, 0.011465977877378464, 0.06300929188728333, 0.041313208639621735, 0.029946016147732735, 0.03532879799604416, 0.04994586855173111, 0.008991950191557407, 0.0, 0.0, 0.0, 0.0], [0.16718752682209015, 0.005672149825841188, 0.0327429324388504, 0.1337418109178543, 0.15852367877960205, 0.19345028698444366, 0.1473941057920456, 0.0612972155213356, 0.017703751102089882, 0.03572007641196251, 0.036935463547706604, 0.009631036780774593, 0.0, 0.0, 0.0], [0.2513788640499115, 0.012228729203343391, 0.01850528083741665, 0.07647193223237991, 0.14026811718940735, 0.10352429002523422, 0.08795327693223953, 0.0911938026547432, 0.03934470936655998, 0.13201187551021576, 0.023676350712776184, 0.0051328581757843494, 0.01830989122390747, 0.0, 0.0], [0.8138725757598877, 0.009828533977270126, 0.006044392473995686, 0.002489668084308505, 0.002941539976745844, 0.00906262919306755, 0.011407389305531979, 0.02133597806096077, 0.009869923815131187, 0.05532732978463173, 0.002529039978981018, 0.0053492337465286255, 0.010561591945588589, 0.03938019648194313, 0.0], [0.08092233538627625, 0.002680193865671754, 0.04216599091887474, 0.29237809777259827, 0.23679542541503906, 0.2275077849626541, 0.03777243196964264, 0.017199009656906128, 0.007481159642338753, 0.017287954688072205, 0.03023822419345379, 0.00428984547033906, 0.0020083775743842125, 0.000670271459966898, 0.0006029052892699838]], [[1.0, 0.0, 0.0, 0.0, 0.0, 0.0, 0.0, 0.0, 0.0, 0.0, 0.0, 0.0, 0.0, 0.0, 0.0], [0.9913416504859924, 0.008658371865749359, 0.0, 0.0, 0.0, 0.0, 0.0, 0.0, 0.0, 0.0, 0.0, 0.0, 0.0, 0.0, 0.0], [0.9932977557182312, 0.0017013627802953124, 0.005000962410122156, 0.0, 0.0, 0.0, 0.0, 0.0, 0.0, 0.0, 0.0, 0.0, 0.0, 0.0, 0.0], [0.9107396602630615, 0.0027533257380127907, 0.015573318116366863, 0.0709337592124939, 0.0, 0.0, 0.0, 0.0, 0.0, 0.0, 0.0, 0.0, 0.0, 0.0, 0.0], [0.9412763714790344, 0.005725680384784937, 0.007983621209859848, 0.023388203233480453, 0.021626168861985207, 0.0, 0.0, 0.0, 0.0, 0.0, 0.0, 0.0, 0.0, 0.0, 0.0], [0.9885942935943604, 0.006246182601898909, 0.0008729842957109213, 0.001953765517100692, 0.0006139482720755041, 0.0017187957419082522, 0.0, 0.0, 0.0, 0.0, 0.0, 0.0, 0.0, 0.0, 0.0], [0.9796493649482727, 0.007327978499233723, 0.000807782169431448, 0.008729557506740093, 0.002156194532290101, 0.0005341395735740662, 0.0007950668223202229, 0.0, 0.0, 0.0, 0.0, 0.0, 0.0, 0.0, 0.0], [0.9921634197235107, 0.002902526408433914, 0.00014241415192373097, 0.003772939322516322, 0.00034271867480129004, 9.151662379736081e-05, 0.0002274070866405964, 0.0003569558903109282, 0.0, 0.0, 0.0, 0.0, 0.0, 0.0, 0.0], [0.8799050450325012, 0.015324395149946213, 0.001486211665906012, 0.006520670838654041, 0.0029317843727767467, 0.0067077381536364555, 0.020576458424329758, 0.02273944392800331, 0.043808285146951675, 0.0, 0.0, 0.0, 0.0, 0.0, 0.0], [0.7573197484016418, 0.02638629451394081, 0.012021687813103199, 0.04489976167678833, 0.036434490233659744, 0.023280682042241096, 0.03795267641544342, 0.017415726557374, 0.011001106351613998, 0.0332878902554512, 0.0, 0.0, 0.0, 0.0, 0.0], [0.8738896250724792, 0.013488849624991417, 0.0022834772244095802, 0.044213663786649704, 0.005740874446928501, 0.006155838258564472, 0.016542857512831688, 0.010312141850590706, 0.005034219939261675, 0.018392113968729973, 0.003946264274418354, 0.0, 0.0, 0.0, 0.0], [0.5771791338920593, 0.0072140744887292385, 0.006614844314754009, 0.2166937291622162, 0.05495661497116089, 0.01498364843428135, 0.04145257547497749, 0.0184524767100811, 0.005208349321037531, 0.005786280147731304, 0.03596482798457146, 0.01549343578517437, 0.0, 0.0, 0.0], [0.7315791845321655, 0.003282788209617138, 0.0007015544106252491, 0.12152829021215439, 0.016772175207734108, 0.026281818747520447, 0.06656132638454437, 0.002339292084798217, 0.009400762617588043, 0.011689596809446812, 0.002404209692031145, 0.004316942300647497, 0.003142080269753933, 0.0, 0.0], [0.9004316926002502, 0.002704080892726779, 0.0023079500533640385, 0.008831705898046494, 0.004337710794061422, 0.004778075963258743, 0.012800635769963264, 0.004664112348109484, 0.0016727058682590723, 0.002090577268972993, 0.004119433928281069, 0.005436642095446587, 0.010246018879115582, 0.03557876497507095, 0.0], [0.6317894458770752, 0.001759301987476647, 0.006693481467664242, 0.1966933310031891, 0.1033739298582077, 0.004129186738282442, 0.003914725501090288, 0.003405463183298707, 0.0018844474107027054, 0.0016276153037324548, 0.01810242235660553, 0.007762304972857237, 0.011422772891819477, 0.0011241716565564275, 0.00631746556609869]], [[1.0, 0.0, 0.0, 0.0, 0.0, 0.0, 0.0, 0.0, 0.0, 0.0, 0.0, 0.0, 0.0, 0.0, 0.0], [0.8980470299720764, 0.10195292532444, 0.0, 0.0, 0.0, 0.0, 0.0, 0.0, 0.0, 0.0, 0.0, 0.0, 0.0, 0.0, 0.0], [0.9244678020477295, 0.025875143706798553, 0.049657005816698074, 0.0, 0.0, 0.0, 0.0, 0.0, 0.0, 0.0, 0.0, 0.0, 0.0, 0.0, 0.0], [0.809333086013794, 0.017479941248893738, 0.038408152759075165, 0.13477879762649536, 0.0, 0.0, 0.0, 0.0, 0.0, 0.0, 0.0, 0.0, 0.0, 0.0, 0.0], [0.7643330097198486, 0.009785070084035397, 0.02643050067126751, 0.05132090300321579, 0.14813052117824554, 0.0, 0.0, 0.0, 0.0, 0.0, 0.0, 0.0, 0.0, 0.0, 0.0], [0.8298863172531128, 0.014486508443951607, 0.0062855384312570095, 0.010719439014792442, 0.01090434193611145, 0.12771785259246826, 0.0, 0.0, 0.0, 0.0, 0.0, 0.0, 0.0, 0.0, 0.0], [0.8513835668563843, 0.004143525846302509, 0.006284739822149277, 0.007053004577755928, 0.007707071956247091, 0.029403094202280045, 0.09402495622634888, 0.0, 0.0, 0.0, 0.0, 0.0, 0.0, 0.0, 0.0], [0.8294641375541687, 0.003164656925946474, 0.0027098292484879494, 0.003230170113965869, 0.0028885335195809603, 0.015601487830281258, 0.018034961074590683, 0.12490613758563995, 0.0, 0.0, 0.0, 0.0, 0.0, 0.0, 0.0], [0.887820839881897, 0.008128032088279724, 0.0012372165219858289, 0.0013488439144566655, 0.002573195844888687, 0.010651775635778904, 0.01204435434192419, 0.022947147488594055, 0.05324868485331535, 0.0, 0.0, 0.0, 0.0, 0.0, 0.0], [0.6812642216682434, 0.024700649082660675, 0.009179028682410717, 0.016045672819018364, 0.012540851719677448, 0.05207137018442154, 0.02858017012476921, 0.01589321903884411, 0.021542996168136597, 0.1381818801164627, 0.0, 0.0, 0.0, 0.0, 0.0], [0.3669264018535614, 0.014844759367406368, 0.025594213977456093, 0.10963870584964752, 0.19880039989948273, 0.1328505277633667, 0.008970285765826702, 0.00810523796826601, 0.0017759362235665321, 0.01496795192360878, 0.11752551794052124, 0.0, 0.0, 0.0, 0.0], [0.6640888452529907, 0.009578380733728409, 0.009948376566171646, 0.009877587668597698, 0.016105707734823227, 0.05126524344086647, 0.010852345265448093, 0.013010182417929173, 0.005951717495918274, 0.025992469862103462, 0.04251068830490112, 0.1408185213804245, 0.0, 0.0, 0.0], [0.774928867816925, 0.0036496114917099476, 0.0036569067742675543, 0.005848877597600222, 0.0030854034703224897, 0.01657184772193432, 0.004692219663411379, 0.02374393492937088, 0.012202123180031776, 0.016696888953447342, 0.005915032234042883, 0.030544105917215347, 0.09846414625644684, 0.0, 0.0], [0.8259804844856262, 0.0034756783861666918, 0.0007087790872901678, 0.0015070498920977116, 0.001866591046564281, 0.006263259798288345, 0.0018023467855527997, 0.004073233809322119, 0.006003263406455517, 0.009277718141674995, 0.0007492834120057523, 0.007553481962531805, 0.014470299705862999, 0.1162685677409172, 0.0], [0.6889967918395996, 0.0010321582667529583, 0.0012337706284597516, 0.002772442763671279, 0.006252114195376635, 0.004358211532235146, 0.009518100880086422, 0.011650939472019672, 0.009708106517791748, 0.009337286464869976, 0.004963645711541176, 0.012548225931823254, 0.02250722050666809, 0.016887638717889786, 0.19823333621025085]], [[1.0, 0.0, 0.0, 0.0, 0.0, 0.0, 0.0, 0.0, 0.0, 0.0, 0.0, 0.0, 0.0, 0.0, 0.0], [0.9073157906532288, 0.09268417954444885, 0.0, 0.0, 0.0, 0.0, 0.0, 0.0, 0.0, 0.0, 0.0, 0.0, 0.0, 0.0, 0.0], [0.9916547536849976, 0.003573434194549918, 0.004771818406879902, 0.0, 0.0, 0.0, 0.0, 0.0, 0.0, 0.0, 0.0, 0.0, 0.0, 0.0, 0.0], [0.8235381841659546, 0.04408995062112808, 0.027666904032230377, 0.10470491647720337, 0.0, 0.0, 0.0, 0.0, 0.0, 0.0, 0.0, 0.0, 0.0, 0.0, 0.0], [0.9692566394805908, 0.005744223948568106, 0.005337592680007219, 0.0076212272979319096, 0.012040283530950546, 0.0, 0.0, 0.0, 0.0, 0.0, 0.0, 0.0, 0.0, 0.0, 0.0], [0.9666516780853271, 0.00914531946182251, 0.002663683146238327, 0.002383100101724267, 0.0013862285995855927, 0.017769983038306236, 0.0, 0.0, 0.0, 0.0, 0.0, 0.0, 0.0, 0.0, 0.0], [0.9000202417373657, 0.010710497386753559, 0.0069663734175264835, 0.033240705728530884, 0.015377439558506012, 0.008344144560396671, 0.02534061297774315, 0.0, 0.0, 0.0, 0.0, 0.0, 0.0, 0.0, 0.0], [0.958497166633606, 0.007003841921687126, 0.003992934245616198, 0.0037517996970564127, 0.0021931061055511236, 0.0018588348757475615, 0.0046546985395252705, 0.01804758422076702, 0.0, 0.0, 0.0, 0.0, 0.0, 0.0, 0.0], [0.7000815868377686, 0.0810498297214508, 0.010085813701152802, 0.02201664447784424, 0.015220463275909424, 0.06445755809545517, 0.0770525261759758, 0.01282118633389473, 0.017214326187968254, 0.0, 0.0, 0.0, 0.0, 0.0, 0.0], [0.7667350172996521, 0.042377471923828125, 0.01823555678129196, 0.01944698393344879, 0.02718447893857956, 0.009078513830900192, 0.011409688740968704, 0.017665129154920578, 0.024958882480859756, 0.0629083514213562, 0.0, 0.0, 0.0, 0.0, 0.0], [0.9732164740562439, 0.0021692984737455845, 0.0012813302455469966, 0.005430398974567652, 0.005967266857624054, 0.0003209768619854003, 0.0005061540869064629, 0.0005603681202046573, 0.0039495122618973255, 0.002373333787545562, 0.004224873147904873, 0.0, 0.0, 0.0, 0.0], [0.7253509759902954, 0.03140779212117195, 0.018527554348111153, 0.04491868615150452, 0.04825327917933464, 0.006472091190516949, 0.006752688437700272, 0.011479513719677925, 0.012761348858475685, 0.02927827648818493, 0.02398926578462124, 0.04080849140882492, 0.0, 0.0, 0.0], [0.7765107154846191, 0.0060653528198599815, 0.007796505466103554, 0.005415081512182951, 0.005866202060133219, 0.0019617315847426653, 0.002502703806385398, 0.003977850545197725, 0.15652702748775482, 0.0032608231995254755, 0.004547635093331337, 0.009079246781766415, 0.01648903638124466, 0.0, 0.0], [0.7556923031806946, 0.01656254194676876, 0.016174020245671272, 0.022057589143514633, 0.018827339634299278, 0.033251140266656876, 0.021553730592131615, 0.0036316593177616596, 0.010966814123094082, 0.011328456923365593, 0.013735377229750156, 0.04777504503726959, 0.015521269291639328, 0.012922588735818863, 0.0], [0.6990082859992981, 0.025706453248858452, 0.01761212944984436, 0.05333307757973671, 0.03874005749821663, 0.002820753026753664, 0.005412091966718435, 0.01607494056224823, 0.014571215026080608, 0.02382201887667179, 0.022940296679735184, 0.014529705978929996, 0.04415581002831459, 0.0032237276900559664, 0.0180494487285614]], [[1.0, 0.0, 0.0, 0.0, 0.0, 0.0, 0.0, 0.0, 0.0, 0.0, 0.0, 0.0, 0.0, 0.0, 0.0], [0.9886170029640198, 0.011382953263819218, 0.0, 0.0, 0.0, 0.0, 0.0, 0.0, 0.0, 0.0, 0.0, 0.0, 0.0, 0.0, 0.0], [0.8737978339195251, 0.013239813968539238, 0.11296236515045166, 0.0, 0.0, 0.0, 0.0, 0.0, 0.0, 0.0, 0.0, 0.0, 0.0, 0.0, 0.0], [0.16024205088615417, 0.003950075712054968, 0.7750269174575806, 0.06078094244003296, 0.0, 0.0, 0.0, 0.0, 0.0, 0.0, 0.0, 0.0, 0.0, 0.0, 0.0], [0.6181580424308777, 0.01550799235701561, 0.26407331228256226, 0.08610466122627258, 0.016155991703271866, 0.0, 0.0, 0.0, 0.0, 0.0, 0.0, 0.0, 0.0, 0.0, 0.0], [0.01101486012339592, 0.00179036904592067, 0.10842795670032501, 0.8488304018974304, 0.027981093153357506, 0.001955281477421522, 0.0, 0.0, 0.0, 0.0, 0.0, 0.0, 0.0, 0.0, 0.0], [0.0625152587890625, 0.006616512779146433, 0.16835065186023712, 0.6772554516792297, 0.05135933682322502, 0.01634397730231285, 0.017558744177222252, 0.0, 0.0, 0.0, 0.0, 0.0, 0.0, 0.0, 0.0], [0.28137996792793274, 0.012149957939982414, 0.16468410193920135, 0.3289598226547241, 0.0540565550327301, 0.06527447700500488, 0.07476077228784561, 0.018734386190772057, 0.0, 0.0, 0.0, 0.0, 0.0, 0.0, 0.0], [0.6076207756996155, 0.012750551104545593, 0.07738688588142395, 0.031236764043569565, 0.011317313648760319, 0.03912767395377159, 0.08681599795818329, 0.10598673671483994, 0.02775721065700054, 0.0, 0.0, 0.0, 0.0, 0.0, 0.0], [0.17062050104141235, 0.06830890476703644, 0.1432606279850006, 0.05272729694843292, 0.02674747258424759, 0.05025482922792435, 0.06218944117426872, 0.1378038078546524, 0.2525267004966736, 0.03556041046977043, 0.0, 0.0, 0.0, 0.0, 0.0], [0.7279687523841858, 0.03582891821861267, 0.012694211676716805, 0.004942780360579491, 0.0006449093925766647, 0.006096119526773691, 0.008980443701148033, 0.004709949716925621, 0.014375170692801476, 0.05046293884515762, 0.13329577445983887, 0.0, 0.0, 0.0, 0.0], [0.10210920125246048, 0.001202865270897746, 0.013267094269394875, 0.06648310273885727, 0.013708910904824734, 0.0013923426158726215, 0.0003358586982358247, 7.923162775114179e-05, 0.00029694114346057177, 0.0033531994558870792, 0.7284495830535889, 0.06932172179222107, 0.0, 0.0, 0.0], [0.4306206703186035, 0.01000125426799059, 0.006119042634963989, 0.00891917385160923, 0.0033329313155263662, 0.00380646507255733, 0.002115098061040044, 0.0002792588493321091, 0.005576395429670811, 0.015168090350925922, 0.12319484353065491, 0.36227670311927795, 0.02859005331993103, 0.0, 0.0], [0.6347661018371582, 0.0015770571772009134, 0.0010441142367199063, 0.0015368738677352667, 0.0003702258982229978, 0.0008701134356670082, 0.0013018448371440172, 0.002733158180490136, 0.003535536117851734, 0.0050062998197972775, 0.013168910518288612, 0.04433580860495567, 0.0782095342874527, 0.2115444391965866, 0.0], [0.022780800238251686, 0.00031898843008093536, 0.0004189380561001599, 0.0002544407034292817, 0.00017065323481801897, 0.0003140278859063983, 0.00013720012793783098, 0.00017714053683448583, 0.0017611805815249681, 0.0014839229406788945, 0.003580479184165597, 0.014155197888612747, 0.05169038102030754, 0.8961427807807922, 0.0066137430258095264]], [[1.0, 0.0, 0.0, 0.0, 0.0, 0.0, 0.0, 0.0, 0.0, 0.0, 0.0, 0.0, 0.0, 0.0, 0.0], [0.7972978353500366, 0.202702134847641, 0.0, 0.0, 0.0, 0.0, 0.0, 0.0, 0.0, 0.0, 0.0, 0.0, 0.0, 0.0, 0.0], [0.8465641140937805, 0.03733452409505844, 0.11610136181116104, 0.0, 0.0, 0.0, 0.0, 0.0, 0.0, 0.0, 0.0, 0.0, 0.0, 0.0, 0.0], [0.6186976432800293, 0.03714018687605858, 0.011863199062645435, 0.33229896426200867, 0.0, 0.0, 0.0, 0.0, 0.0, 0.0, 0.0, 0.0, 0.0, 0.0, 0.0], [0.4842233657836914, 0.04105368256568909, 0.35050255060195923, 0.10520817339420319, 0.019012248143553734, 0.0, 0.0, 0.0, 0.0, 0.0, 0.0, 0.0, 0.0, 0.0, 0.0], [0.5563330054283142, 0.2531500458717346, 0.0118216872215271, 0.10012954473495483, 0.009029291570186615, 0.0695364773273468, 0.0, 0.0, 0.0, 0.0, 0.0, 0.0, 0.0, 0.0, 0.0], [0.4582168161869049, 0.025791913270950317, 0.00906599685549736, 0.08245821297168732, 0.003957890439778566, 0.009535720571875572, 0.4109734892845154, 0.0, 0.0, 0.0, 0.0, 0.0, 0.0, 0.0, 0.0], [0.4583349823951721, 0.11136672645807266, 0.036624401807785034, 0.1845446079969406, 0.036631569266319275, 0.031790826469659805, 0.0860784500837326, 0.054628413170576096, 0.0, 0.0, 0.0, 0.0, 0.0, 0.0, 0.0], [0.517439603805542, 0.05233648419380188, 0.007412717677652836, 0.03889846056699753, 0.01038938295096159, 0.055735889822244644, 0.02459133043885231, 0.06700994819402695, 0.22618621587753296, 0.0, 0.0, 0.0, 0.0, 0.0, 0.0], [0.2712121605873108, 0.03817717730998993, 0.011817162856459618, 0.13511691987514496, 0.015805354341864586, 0.019618017598986626, 0.030551964417099953, 0.04989590868353844, 0.00724629033356905, 0.4205591082572937, 0.0, 0.0, 0.0, 0.0, 0.0], [0.17982284724712372, 0.025284497067332268, 0.15850117802619934, 0.08120831102132797, 0.2120874673128128, 0.005274064838886261, 0.06647293269634247, 0.034155845642089844, 0.0065521118231117725, 0.1320911943912506, 0.09854952245950699, 0.0, 0.0, 0.0, 0.0], [0.3241897523403168, 0.16249758005142212, 0.009022033773362637, 0.05081889405846596, 0.008853891864418983, 0.11657971888780594, 0.04820869863033295, 0.05189776420593262, 0.021167006343603134, 0.12209005653858185, 0.003536015981808305, 0.08113857358694077, 0.0, 0.0, 0.0], [0.24829700589179993, 0.08117262274026871, 0.02692386507987976, 0.144034281373024, 0.030253378674387932, 0.030294623225927353, 0.07180844992399216, 0.04710960388183594, 0.00997804943472147, 0.24145126342773438, 0.01089625246822834, 0.014128557406365871, 0.04365197941660881, 0.0, 0.0], [0.27598851919174194, 0.03703984618186951, 0.006852103862911463, 0.03993627056479454, 0.008204760029911995, 0.026685932651162148, 0.03444085642695427, 0.059321898967027664, 0.19091276824474335, 0.08606608211994171, 0.0026806110981851816, 0.0469069629907608, 0.05536883324384689, 0.12959450483322144, 0.0], [0.14610499143600464, 0.012283477000892162, 0.005235141608864069, 0.04301900416612625, 0.0023281830362975597, 0.009718614630401134, 0.2749875783920288, 0.027218220755457878, 0.0032743874471634626, 0.03814515098929405, 0.0025970209389925003, 0.0060859499499201775, 0.031302835792303085, 0.0018130751559510827, 0.3958863317966461]]], \"attentionHeadNames\": [\"L10H7\", \"L11H1\", \"L11H10\", \"L10H6\", \"L8H3\", \"L9H4\", \"L6H6\", \"L11H7\", \"L4H3\", \"L1H5\"], \"tokens\": [\"<|endoftext|>\", \"When\", \" John\", \" and\", \" Mary\", \" went\", \" to\", \" the\", \" shops\", \",\", \" John\", \" gave\", \" the\", \" bag\", \" to\"]}\n",
       "    )\n",
       "    </script></div>"
      ],
      "text/plain": [
       "<IPython.core.display.HTML object>"
      ]
     },
     "execution_count": 32,
     "metadata": {},
     "output_type": "execute_result"
    }
   ],
   "source": [
    "top_k = 10\n",
    "input_tokens = prompts_toks[0]\n",
    "input_token_strings = model.to_str_tokens(input_tokens)\n",
    "\n",
    "# Get the heads that contribute the most positively to the correct prediction of the next token\n",
    "per_head_logit_differences_flat = torch.tensor(per_head_logit_differences).flatten()\n",
    "\n",
    "top_pos_contributing_heads = torch.topk(\n",
    "    per_head_logit_differences_flat,\n",
    "    k=top_k,\n",
    ")\n",
    "\n",
    "top_pos_contributing_heads = top_pos_contributing_heads.indices\n",
    "\n",
    "positive_contributions_plot = visualize_attention_patterns(\n",
    "    top_pos_contributing_heads,\n",
    "    activation_cache,\n",
    "    input_token_strings,  # type: ignore\n",
    "    plot_title=f\"Top {top_k} Positive Logit Attribution Heads\",\n",
    ")\n",
    "\n",
    "# Get the heads that contribute the most negatively to the correct prediction of the next token\n",
    "neg_per_head_logit_differences_flat = -per_head_logit_differences_flat\n",
    "\n",
    "top_neg_contributing_heads = torch.topk(\n",
    "    neg_per_head_logit_differences_flat,\n",
    "    k=top_k,\n",
    ")\n",
    "\n",
    "top_neg_contributing_heads = top_neg_contributing_heads.indices\n",
    "\n",
    "negative_contributions_plot = visualize_attention_patterns(\n",
    "    top_neg_contributing_heads,\n",
    "    activation_cache,\n",
    "    input_token_strings,  # type: ignore\n",
    "    plot_title=f\"Top {top_k} Negative Logit Attribution Heads\",\n",
    ")\n",
    "\n",
    "# Visualise both plots\n",
    "HTML(positive_contributions_plot + negative_contributions_plot)"
   ]
  }
 ],
 "metadata": {
  "kernelspec": {
   "display_name": ".venv",
   "language": "python",
   "name": "python3"
  },
  "language_info": {
   "codemirror_mode": {
    "name": "ipython",
    "version": 3
   },
   "file_extension": ".py",
   "mimetype": "text/x-python",
   "name": "python",
   "nbconvert_exporter": "python",
   "pygments_lexer": "ipython3",
   "version": "3.10.11"
  }
 },
 "nbformat": 4,
 "nbformat_minor": 5
}

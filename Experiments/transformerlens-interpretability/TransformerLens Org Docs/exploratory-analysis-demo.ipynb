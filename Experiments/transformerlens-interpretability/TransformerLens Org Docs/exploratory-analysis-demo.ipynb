{
 "cells": [
  {
   "cell_type": "markdown",
   "id": "98ae625a",
   "metadata": {},
   "source": [
    "# TransformerLens: Exploratory Analysis Demo\n",
    "\n",
    "### Resources\n",
    "\n",
    "* Working through the tutorial: [Exploratory Analysis Demo](https://transformerlensorg.github.io/TransformerLens/generated/demos/Exploratory_Analysis_Demo.html)\n",
    "* Based on the demo notebook: [Exploratory_Analysis_Demo.ipynb](https://github.com/TransformerLensOrg/TransformerLens/blob/main/demos/Exploratory_Analysis_Demo.ipynb)\n",
    "* [Mechanistic interpretability terms glossary](https://dynalist.io/d/n2ZWtnoYHrU1s4vnFSAQ519J#z=_Jzi6YHRHKP1JziwdE02qdYZ)\n",
    "* [TransformerLens supported model list](https://github.com/TransformerLensOrg/TransformerLens/blob/a634e5757cd2ae43add9beb492be7a2dfb443a30/transformer_lens/loading_from_pretrained.py#L49)\n",
    "\n",
    "### Setup steps"
   ]
  },
  {
   "cell_type": "code",
   "execution_count": 63,
   "id": "041a2c9f",
   "metadata": {},
   "outputs": [],
   "source": [
    "IN_COLAB = False\n",
    "\n",
    "from IPython import get_ipython\n",
    "ip = get_ipython()\n",
    "if not ip.extension_manager.loaded:\n",
    "    ip.extension_manager.load('autoreload')\n",
    "    %autoreload 2"
   ]
  },
  {
   "cell_type": "markdown",
   "id": "e6d47f9f",
   "metadata": {},
   "source": [
    "### Imports"
   ]
  },
  {
   "cell_type": "code",
   "execution_count": 64,
   "id": "284e25d0",
   "metadata": {},
   "outputs": [],
   "source": [
    "\n",
    "from plotting_helpers import imshow, plot_line, plot_scatter\n",
    "\n",
    "from functools import partial\n",
    "from typing import List, Optional, Union\n",
    "\n",
    "import einops\n",
    "import random\n",
    "import numpy as np\n",
    "import plotly.express as px\n",
    "import plotly.io as pio\n",
    "import torch\n",
    "from circuitsvis.attention import attention_heads\n",
    "from fancy_einsum import einsum\n",
    "from IPython.display import HTML, IFrame\n",
    "from jaxtyping import Float\n",
    "\n",
    "import transformer_lens.utils as utils\n",
    "from transformer_lens import ActivationCache, HookedTransformer\n",
    "\n",
    "# Configure torch and determinism\n",
    "torch.set_grad_enabled(False)\n",
    "torch.manual_seed(42)\n",
    "np.random.seed(42)\n",
    "random.seed(42)\n",
    "torch.use_deterministic_algorithms(True)"
   ]
  },
  {
   "cell_type": "markdown",
   "id": "4c8c848c",
   "metadata": {},
   "source": [
    "### Task: Indirect Object Identification\n",
    "\n",
    "* **Indirect Object Identification**: identifying the object of a sentence to generate the next token (e.g. generate \"Mary\" given the sentence \"After John and Mary went to the shops, John gave a bottle of milk to\").\n",
    "* *Hypothesis:* to perform this task, a network must circuits that can:\n",
    "    1. Recognise names.\n",
    "    2. Identify which name is already duplicated.\n",
    "    3. Predict the name that has not been duplicated.\n",
    "\n",
    "#### Model setup"
   ]
  },
  {
   "cell_type": "code",
   "execution_count": 65,
   "id": "0aa0fe60",
   "metadata": {},
   "outputs": [
    {
     "name": "stdout",
     "output_type": "stream",
     "text": [
      "Loaded pretrained model gpt2-small into HookedTransformer\n"
     ]
    }
   ],
   "source": [
    "# Input model & hyperparameters\n",
    "model_name = \"gpt2-small\"\n",
    "\n",
    "# Get current device type\n",
    "device = utils.get_device()\n",
    "\n",
    "# Flags that preserve the model's output but simplify its internals.\n",
    "hyperparams = {\n",
    "    \"device\": device,\n",
    "    \"center_unembed\": True,\n",
    "    \"center_writing_weights\": True,\n",
    "    \"fold_ln\": True,\n",
    "    \"refactor_factored_attn_matrices\": True\n",
    "}\n",
    "\n",
    "# Instantiate model\n",
    "model = HookedTransformer.from_pretrained(\n",
    "    model_name,\n",
    "    **hyperparams\n",
    ")"
   ]
  },
  {
   "cell_type": "code",
   "execution_count": 66,
   "id": "eecf51f0",
   "metadata": {},
   "outputs": [
    {
     "name": "stdout",
     "output_type": "stream",
     "text": [
      "Tokenized prompt: ['<|endoftext|>', 'After', ' John', ' and', ' Mary', ' went', ' to', ' the', ' shops', ',', ' John', ' gave', ' a', ' bottle', ' of', ' milk', ' to']\n",
      "Tokenized answer: [' Mary']\n"
     ]
    },
    {
     "data": {
      "text/html": [
       "<pre style=\"white-space:pre;overflow-x:auto;line-height:normal;font-family:Menlo,'DejaVu Sans Mono',consolas,'Courier New',monospace\">Performance on answer token:\n",
       "<span style=\"font-weight: bold\">Rank: </span><span style=\"color: #008080; text-decoration-color: #008080; font-weight: bold\">0</span><span style=\"font-weight: bold\">        Logit: </span><span style=\"color: #008080; text-decoration-color: #008080; font-weight: bold\">18.19</span><span style=\"font-weight: bold\"> Prob: </span><span style=\"color: #008080; text-decoration-color: #008080; font-weight: bold\">72.20</span><span style=\"font-weight: bold\">% Token: | Mary|</span>\n",
       "</pre>\n"
      ],
      "text/plain": [
       "Performance on answer token:\n",
       "\u001b[1mRank: \u001b[0m\u001b[1;36m0\u001b[0m\u001b[1m        Logit: \u001b[0m\u001b[1;36m18.19\u001b[0m\u001b[1m Prob: \u001b[0m\u001b[1;36m72.20\u001b[0m\u001b[1m% Token: | Mary|\u001b[0m\n"
      ]
     },
     "metadata": {},
     "output_type": "display_data"
    },
    {
     "name": "stdout",
     "output_type": "stream",
     "text": [
      "Top 0th token. Logit: 18.19 Prob: 72.20% Token: | Mary|\n",
      "Top 1th token. Logit: 15.43 Prob:  4.57% Token: | John|\n",
      "Top 2th token. Logit: 15.31 Prob:  4.04% Token: | the|\n",
      "Top 3th token. Logit: 15.16 Prob:  3.49% Token: | them|\n",
      "Top 4th token. Logit: 14.89 Prob:  2.65% Token: | his|\n",
      "Top 5th token. Logit: 13.74 Prob:  0.84% Token: | her|\n",
      "Top 6th token. Logit: 13.56 Prob:  0.70% Token: | a|\n",
      "Top 7th token. Logit: 13.52 Prob:  0.67% Token: | their|\n",
      "Top 8th token. Logit: 13.06 Prob:  0.42% Token: | Mrs|\n",
      "Top 9th token. Logit: 13.04 Prob:  0.42% Token: | Jesus|\n"
     ]
    },
    {
     "data": {
      "text/html": [
       "<pre style=\"white-space:pre;overflow-x:auto;line-height:normal;font-family:Menlo,'DejaVu Sans Mono',consolas,'Courier New',monospace\"><span style=\"font-weight: bold\">Ranks of the answer tokens:</span> <span style=\"font-weight: bold\">[(</span><span style=\"color: #008000; text-decoration-color: #008000\">' Mary'</span>, <span style=\"color: #008080; text-decoration-color: #008080; font-weight: bold\">0</span><span style=\"font-weight: bold\">)]</span>\n",
       "</pre>\n"
      ],
      "text/plain": [
       "\u001b[1mRanks of the answer tokens:\u001b[0m \u001b[1m[\u001b[0m\u001b[1m(\u001b[0m\u001b[32m' Mary'\u001b[0m, \u001b[1;36m0\u001b[0m\u001b[1m)\u001b[0m\u001b[1m]\u001b[0m\n"
      ]
     },
     "metadata": {},
     "output_type": "display_data"
    }
   ],
   "source": [
    "# Test model can perform Indirect Object Identification task\n",
    "test_prompt = \"After John and Mary went to the shops, John gave a bottle of milk to\"\n",
    "test_completion = \" Mary\"\n",
    "\n",
    "utils.test_prompt(test_prompt, test_completion, model, prepend_bos=True)"
   ]
  },
  {
   "cell_type": "code",
   "execution_count": 67,
   "id": "74b310b5",
   "metadata": {},
   "outputs": [],
   "source": [
    "def format_prompt_for_analysis(prompt, correct_completion, incorrect_completion):\n",
    "    \"\"\"\n",
    "    Formats a prompt by inserting the incorrect completion choice,\n",
    "    along with the token ids for the correct and incorrect completions.\n",
    "\n",
    "    Args:\n",
    "        prompt (str): The prompt string with a '{}' placeholder for completion.\n",
    "        correct_completion (str): The correct completion string (e.g., \" Mary\").\n",
    "        incorrect_completion (str): The incorrect completion string (e.g., \" John\").\n",
    "\n",
    "    Returns:\n",
    "        formatted_prompt (str): The prompt with the incorrect completion inserted.\n",
    "        completions_tok (tuple): Tuple of token ids for (correct_completion, incorrect_completion).\n",
    "    \"\"\"\n",
    "\n",
    "    # Tokenise given correct and incorrect completions to prompt\n",
    "    correct_completion_tok = model.to_single_token(correct_completion)\n",
    "    incorrect_completion_tok = model.to_single_token(incorrect_completion)\n",
    "\n",
    "    completions_tok = (correct_completion_tok, incorrect_completion_tok)\n",
    "\n",
    "    # Add one of the completions (correct/incorrect) to the prompt\n",
    "    # This allows us to inspect logits over the vocabulary when the completion is generated\n",
    "    formatted_prompt = prompt.format(incorrect_completion)\n",
    "\n",
    "    return formatted_prompt, completions_tok"
   ]
  },
  {
   "cell_type": "code",
   "execution_count": 68,
   "id": "1ed33246",
   "metadata": {},
   "outputs": [],
   "source": [
    "# Define metric \"logit difference\" to score correct vs incorrect completion\n",
    "def compute_logit_difference(generation_logits, completion_choice_tokens, per_prompt=False):\n",
    "    \"\"\"\n",
    "    Logit Difference metric for Indirect Object Identification task.\n",
    "    Scores the difference in logit between the indirect object's name and the subject's name.\n",
    "\n",
    "    Args:\n",
    "        generation_logits (Tensor): Logits output from the model of shape (batch, seq_len, vocab_size).\n",
    "        completion_choice_tokens (Tensor): Tensor of shape (batch, 2) or (2,) with token ids for correct and incorrect completions.\n",
    "        per_prompt (bool): If True, return logit difference per prompt; if False, return mean over batch.\n",
    "\n",
    "    Returns:\n",
    "        logit_differences (Tensor): Logit difference(s) between correct and incorrect completions. Shape is (batch,) if per_prompt is True, else float.\n",
    "    \"\"\"\n",
    "\n",
    "    # Get logits corresponding to the last token (i.e. our completion)\n",
    "    logits_last_token = generation_logits[:, -1, :]\n",
    "\n",
    "    # Get logits corresponding to the correct and incorrect completion tokens\n",
    "    if generation_logits.shape[0] > 1:\n",
    "        # Compute over batch of prompts/completions\n",
    "        logits_completion_choices = logits_last_token.gather(dim=-1, index=completion_choice_tokens)\n",
    "        logit_differences = logits_completion_choices[:, 0] - logits_completion_choices[:, 1]\n",
    "    else:\n",
    "        # Compute on single prompt and completion choice pair\n",
    "        completion_choice_tokens = completion_choice_tokens[0]\n",
    "        logit_differences = logits_last_token[0, completion_choice_tokens[0]] - logits_last_token[0, completion_choice_tokens[1]]\n",
    "\n",
    "    # Average results over batch\n",
    "    if not per_prompt and generation_logits.shape[0] > 1:\n",
    "        logit_differences = logit_differences.mean()\n",
    "\n",
    "    return logit_differences"
   ]
  },
  {
   "cell_type": "code",
   "execution_count": 69,
   "id": "fafdfc00",
   "metadata": {},
   "outputs": [
    {
     "name": "stdout",
     "output_type": "stream",
     "text": [
      "When John and Mary went to the shops, John gave the bag to (5335, 1757)\n"
     ]
    }
   ],
   "source": [
    "# Multiple prompts for fuller analysis\n",
    "# prompts_to_format = [\n",
    "#     \"When John and Mary went to the shops,{} gave the bag to\",\n",
    "#     \"When Tom and James went to the park,{} gave the ball to\",\n",
    "#     \"When Dan and Sid went to the shops,{} gave an apple to\",\n",
    "#     \"After Martin and Amy went to the park,{} gave a drink to\",\n",
    "# ]\n",
    "\n",
    "# completion_choices = [\n",
    "#     (\" Mary\", \" John\"),\n",
    "#     (\" Tom\", \" James\"),\n",
    "#     (\" Dan\", \" Sid\"),\n",
    "#     (\" Martin\", \" Amy\"),\n",
    "# ]\n",
    "\n",
    "prompts_to_format = [\n",
    "    \"When John and Mary went to the shops,{} gave the bag to\",\n",
    "]\n",
    "\n",
    "completion_choices = [\n",
    "    (\" Mary\", \" John\"),\n",
    "]\n",
    "\n",
    "# List of prompts and completions, in the format (correct_token, incorrect_token)\n",
    "prompts_strs = []\n",
    "completions_toks = []\n",
    "\n",
    "# Create list of the token ids corresponding to each answer\n",
    "for prompt, completion in zip(prompts_to_format, completion_choices):\n",
    "    formatted_prompt, completion_toks = format_prompt_for_analysis(\n",
    "        prompt,\n",
    "        completion[0],\n",
    "        completion[1],\n",
    "    )\n",
    "\n",
    "    prompts_strs.append(formatted_prompt)\n",
    "    completions_toks.append(completion_toks)\n",
    "    print(formatted_prompt, completion_toks)\n",
    "\n",
    "    # formatted_prompt, completion_toks = format_prompt_for_analysis(\n",
    "    #     prompt,\n",
    "    #     completion[1],\n",
    "    #     completion[0],\n",
    "    # )\n",
    "\n",
    "    # prompts_strs.append(formatted_prompt)\n",
    "    # completions_toks.append(completion_toks)\n",
    "    # print(formatted_prompt, completion_toks)\n",
    "\n",
    "prompts_toks = model.to_tokens(prompts_strs, prepend_bos=True).to(device)\n",
    "completions_toks = torch.tensor(completions_toks).to(device)"
   ]
  },
  {
   "cell_type": "code",
   "execution_count": 70,
   "id": "96135552",
   "metadata": {},
   "outputs": [
    {
     "name": "stdout",
     "output_type": "stream",
     "text": [
      "torch.Size([1, 15, 50257])\n"
     ]
    }
   ],
   "source": [
    "# Generate completion and cache activation values\n",
    "model_output_logits, activation_cache = model.run_with_cache(prompts_toks)\n",
    "\n",
    "print(model_output_logits.shape)"
   ]
  },
  {
   "cell_type": "code",
   "execution_count": 71,
   "id": "0ce9e766",
   "metadata": {},
   "outputs": [
    {
     "name": "stdout",
     "output_type": "stream",
     "text": [
      "Per prompt logit difference: 3.337\n"
     ]
    }
   ],
   "source": [
    "logit_differences = compute_logit_difference(\n",
    "    model_output_logits,\n",
    "    completions_toks,\n",
    "    per_prompt=True\n",
    ")\n",
    "\n",
    "if len(logit_differences.shape) == 0:\n",
    "    print(f\"Per prompt logit difference: {logit_differences:.3f}\")\n",
    "else:\n",
    "    print(f\"Per prompt logit difference: {logit_differences}\")\n",
    "    mean_logit_difference = logit_differences.mean()\n",
    "    print(f\"Average logit difference: {mean_logit_difference:.3f}\")"
   ]
  },
  {
   "cell_type": "markdown",
   "id": "61ea33f7",
   "metadata": {},
   "source": [
    "Result:\n",
    "* Average logit difference is $3.5$.\n",
    "* This represents putting a $e^{3.5}$ or approx. $33 \\times$ higher probability on the correct answer.\n",
    "  \n",
    "Hypothesis:\n",
    "* We might expect there to be a head which detects duplicate tokens on the second \" John\" token, and then another head which moves that information from the second \" John\" token to the \" to\" token.\n",
    "* The model then needs to learn to predict \" Mary\" and not \" John\". There are potentially two ways to do this:\n",
    "  * Detect all preceding names and move this information to \" to\" point. Then delete any names corresponding to the duplicate token feature, e.g. by an MLP layer that deletes the \" John\" direction of the residual stream.\n",
    "  * Have a head which attends to all previous names, but where the duplicate token features inhibit it from attending to specific names.\n",
    "\n",
    "A test that could distinguish these two is to look at which components of the model add directly to the logits. If it’s mostly attention heads that attend to \" Mary\" and not to \" John\" it’s probably hypothesis 2, if it’s mostly MLPs it’s probably hypothesis 1. We should be able to identify duplicate token heads by finding ones which attend from \" John\" to \" John\", and whose outputs are then moved to the \" to\" token by V-Composition with another head. \n",
    "\n",
    "(Note: the above reasoning is simplistic and could easily break in a larger model)"
   ]
  },
  {
   "cell_type": "code",
   "execution_count": 72,
   "id": "815f193b",
   "metadata": {},
   "outputs": [
    {
     "data": {
      "application/vnd.plotly.v1+json": {
       "config": {
        "plotlyServerURL": "https://plot.ly"
       },
       "data": [
        {
         "coloraxis": "coloraxis",
         "hovertemplate": "Token from vocabulary: %{x}<br>y: %{y}<br>color: %{z}<extra></extra>",
         "name": "0",
         "type": "heatmap",
         "x": [
          " Mary",
          " them",
          " the",
          " his",
          " John",
          " her",
          " their",
          " a",
          " him",
          " Mrs",
          " Jesus",
          " Joseph",
          " me",
          " one",
          " Martha",
          " us",
          " Peter",
          " Sarah",
          " Mr",
          " James",
          " each",
          " some",
          " Luke",
          " my",
          " everyone"
         ],
         "xaxis": "x",
         "y": [
          "Logit value  "
         ],
         "yaxis": "y",
         "z": {
          "bdata": "AAAA4HUxMkAAAADACaIvQAAAAKCt9y5AAAAAwLPZLUAAAABggrYtQAAAAGCAPixAAAAAAGP4K0AAAADAiGQrQAAAAKB+DytAAAAAoFvFKkAAAABAhkIqQAAAACAePSpAAAAAQPWKKUAAAADALUUpQAAAAECVgShAAAAAYN5QKEAAAACgzr4nQAAAAKCKcydAAAAAAG5wJ0AAAADAp1MnQAAAAMBeOCdAAAAAwOgAJ0AAAACAZ/EmQAAAAIBg7CZAAAAA4PXoJkA=",
          "dtype": "f8",
          "shape": "1, 25"
         }
        }
       ],
       "layout": {
        "coloraxis": {
         "cmid": 0,
         "colorscale": [
          [
           0,
           "#30123b"
          ],
          [
           0.07142857142857142,
           "#4145ab"
          ],
          [
           0.14285714285714285,
           "#4675ed"
          ],
          [
           0.21428571428571427,
           "#39a2fc"
          ],
          [
           0.2857142857142857,
           "#1bcfd4"
          ],
          [
           0.35714285714285715,
           "#24eca6"
          ],
          [
           0.42857142857142855,
           "#61fc6c"
          ],
          [
           0.5,
           "#a4fc3b"
          ],
          [
           0.5714285714285714,
           "#d1e834"
          ],
          [
           0.6428571428571429,
           "#f3c63a"
          ],
          [
           0.7142857142857143,
           "#fe9b2d"
          ],
          [
           0.7857142857142857,
           "#f36315"
          ],
          [
           0.8571428571428571,
           "#d93806"
          ],
          [
           0.9285714285714286,
           "#b11901"
          ],
          [
           1,
           "#7a0402"
          ]
         ]
        },
        "template": {
         "data": {
          "bar": [
           {
            "error_x": {
             "color": "#2a3f5f"
            },
            "error_y": {
             "color": "#2a3f5f"
            },
            "marker": {
             "line": {
              "color": "#E5ECF6",
              "width": 0.5
             },
             "pattern": {
              "fillmode": "overlay",
              "size": 10,
              "solidity": 0.2
             }
            },
            "type": "bar"
           }
          ],
          "barpolar": [
           {
            "marker": {
             "line": {
              "color": "#E5ECF6",
              "width": 0.5
             },
             "pattern": {
              "fillmode": "overlay",
              "size": 10,
              "solidity": 0.2
             }
            },
            "type": "barpolar"
           }
          ],
          "carpet": [
           {
            "aaxis": {
             "endlinecolor": "#2a3f5f",
             "gridcolor": "white",
             "linecolor": "white",
             "minorgridcolor": "white",
             "startlinecolor": "#2a3f5f"
            },
            "baxis": {
             "endlinecolor": "#2a3f5f",
             "gridcolor": "white",
             "linecolor": "white",
             "minorgridcolor": "white",
             "startlinecolor": "#2a3f5f"
            },
            "type": "carpet"
           }
          ],
          "choropleth": [
           {
            "colorbar": {
             "outlinewidth": 0,
             "ticks": ""
            },
            "type": "choropleth"
           }
          ],
          "contour": [
           {
            "colorbar": {
             "outlinewidth": 0,
             "ticks": ""
            },
            "colorscale": [
             [
              0,
              "#0d0887"
             ],
             [
              0.1111111111111111,
              "#46039f"
             ],
             [
              0.2222222222222222,
              "#7201a8"
             ],
             [
              0.3333333333333333,
              "#9c179e"
             ],
             [
              0.4444444444444444,
              "#bd3786"
             ],
             [
              0.5555555555555556,
              "#d8576b"
             ],
             [
              0.6666666666666666,
              "#ed7953"
             ],
             [
              0.7777777777777778,
              "#fb9f3a"
             ],
             [
              0.8888888888888888,
              "#fdca26"
             ],
             [
              1,
              "#f0f921"
             ]
            ],
            "type": "contour"
           }
          ],
          "contourcarpet": [
           {
            "colorbar": {
             "outlinewidth": 0,
             "ticks": ""
            },
            "type": "contourcarpet"
           }
          ],
          "heatmap": [
           {
            "colorbar": {
             "outlinewidth": 0,
             "ticks": ""
            },
            "colorscale": [
             [
              0,
              "#0d0887"
             ],
             [
              0.1111111111111111,
              "#46039f"
             ],
             [
              0.2222222222222222,
              "#7201a8"
             ],
             [
              0.3333333333333333,
              "#9c179e"
             ],
             [
              0.4444444444444444,
              "#bd3786"
             ],
             [
              0.5555555555555556,
              "#d8576b"
             ],
             [
              0.6666666666666666,
              "#ed7953"
             ],
             [
              0.7777777777777778,
              "#fb9f3a"
             ],
             [
              0.8888888888888888,
              "#fdca26"
             ],
             [
              1,
              "#f0f921"
             ]
            ],
            "type": "heatmap"
           }
          ],
          "histogram": [
           {
            "marker": {
             "pattern": {
              "fillmode": "overlay",
              "size": 10,
              "solidity": 0.2
             }
            },
            "type": "histogram"
           }
          ],
          "histogram2d": [
           {
            "colorbar": {
             "outlinewidth": 0,
             "ticks": ""
            },
            "colorscale": [
             [
              0,
              "#0d0887"
             ],
             [
              0.1111111111111111,
              "#46039f"
             ],
             [
              0.2222222222222222,
              "#7201a8"
             ],
             [
              0.3333333333333333,
              "#9c179e"
             ],
             [
              0.4444444444444444,
              "#bd3786"
             ],
             [
              0.5555555555555556,
              "#d8576b"
             ],
             [
              0.6666666666666666,
              "#ed7953"
             ],
             [
              0.7777777777777778,
              "#fb9f3a"
             ],
             [
              0.8888888888888888,
              "#fdca26"
             ],
             [
              1,
              "#f0f921"
             ]
            ],
            "type": "histogram2d"
           }
          ],
          "histogram2dcontour": [
           {
            "colorbar": {
             "outlinewidth": 0,
             "ticks": ""
            },
            "colorscale": [
             [
              0,
              "#0d0887"
             ],
             [
              0.1111111111111111,
              "#46039f"
             ],
             [
              0.2222222222222222,
              "#7201a8"
             ],
             [
              0.3333333333333333,
              "#9c179e"
             ],
             [
              0.4444444444444444,
              "#bd3786"
             ],
             [
              0.5555555555555556,
              "#d8576b"
             ],
             [
              0.6666666666666666,
              "#ed7953"
             ],
             [
              0.7777777777777778,
              "#fb9f3a"
             ],
             [
              0.8888888888888888,
              "#fdca26"
             ],
             [
              1,
              "#f0f921"
             ]
            ],
            "type": "histogram2dcontour"
           }
          ],
          "mesh3d": [
           {
            "colorbar": {
             "outlinewidth": 0,
             "ticks": ""
            },
            "type": "mesh3d"
           }
          ],
          "parcoords": [
           {
            "line": {
             "colorbar": {
              "outlinewidth": 0,
              "ticks": ""
             }
            },
            "type": "parcoords"
           }
          ],
          "pie": [
           {
            "automargin": true,
            "type": "pie"
           }
          ],
          "scatter": [
           {
            "fillpattern": {
             "fillmode": "overlay",
             "size": 10,
             "solidity": 0.2
            },
            "type": "scatter"
           }
          ],
          "scatter3d": [
           {
            "line": {
             "colorbar": {
              "outlinewidth": 0,
              "ticks": ""
             }
            },
            "marker": {
             "colorbar": {
              "outlinewidth": 0,
              "ticks": ""
             }
            },
            "type": "scatter3d"
           }
          ],
          "scattercarpet": [
           {
            "marker": {
             "colorbar": {
              "outlinewidth": 0,
              "ticks": ""
             }
            },
            "type": "scattercarpet"
           }
          ],
          "scattergeo": [
           {
            "marker": {
             "colorbar": {
              "outlinewidth": 0,
              "ticks": ""
             }
            },
            "type": "scattergeo"
           }
          ],
          "scattergl": [
           {
            "marker": {
             "colorbar": {
              "outlinewidth": 0,
              "ticks": ""
             }
            },
            "type": "scattergl"
           }
          ],
          "scattermap": [
           {
            "marker": {
             "colorbar": {
              "outlinewidth": 0,
              "ticks": ""
             }
            },
            "type": "scattermap"
           }
          ],
          "scattermapbox": [
           {
            "marker": {
             "colorbar": {
              "outlinewidth": 0,
              "ticks": ""
             }
            },
            "type": "scattermapbox"
           }
          ],
          "scatterpolar": [
           {
            "marker": {
             "colorbar": {
              "outlinewidth": 0,
              "ticks": ""
             }
            },
            "type": "scatterpolar"
           }
          ],
          "scatterpolargl": [
           {
            "marker": {
             "colorbar": {
              "outlinewidth": 0,
              "ticks": ""
             }
            },
            "type": "scatterpolargl"
           }
          ],
          "scatterternary": [
           {
            "marker": {
             "colorbar": {
              "outlinewidth": 0,
              "ticks": ""
             }
            },
            "type": "scatterternary"
           }
          ],
          "surface": [
           {
            "colorbar": {
             "outlinewidth": 0,
             "ticks": ""
            },
            "colorscale": [
             [
              0,
              "#0d0887"
             ],
             [
              0.1111111111111111,
              "#46039f"
             ],
             [
              0.2222222222222222,
              "#7201a8"
             ],
             [
              0.3333333333333333,
              "#9c179e"
             ],
             [
              0.4444444444444444,
              "#bd3786"
             ],
             [
              0.5555555555555556,
              "#d8576b"
             ],
             [
              0.6666666666666666,
              "#ed7953"
             ],
             [
              0.7777777777777778,
              "#fb9f3a"
             ],
             [
              0.8888888888888888,
              "#fdca26"
             ],
             [
              1,
              "#f0f921"
             ]
            ],
            "type": "surface"
           }
          ],
          "table": [
           {
            "cells": {
             "fill": {
              "color": "#EBF0F8"
             },
             "line": {
              "color": "white"
             }
            },
            "header": {
             "fill": {
              "color": "#C8D4E3"
             },
             "line": {
              "color": "white"
             }
            },
            "type": "table"
           }
          ]
         },
         "layout": {
          "annotationdefaults": {
           "arrowcolor": "#2a3f5f",
           "arrowhead": 0,
           "arrowwidth": 1
          },
          "autotypenumbers": "strict",
          "coloraxis": {
           "colorbar": {
            "outlinewidth": 0,
            "ticks": ""
           }
          },
          "colorscale": {
           "diverging": [
            [
             0,
             "#8e0152"
            ],
            [
             0.1,
             "#c51b7d"
            ],
            [
             0.2,
             "#de77ae"
            ],
            [
             0.3,
             "#f1b6da"
            ],
            [
             0.4,
             "#fde0ef"
            ],
            [
             0.5,
             "#f7f7f7"
            ],
            [
             0.6,
             "#e6f5d0"
            ],
            [
             0.7,
             "#b8e186"
            ],
            [
             0.8,
             "#7fbc41"
            ],
            [
             0.9,
             "#4d9221"
            ],
            [
             1,
             "#276419"
            ]
           ],
           "sequential": [
            [
             0,
             "#0d0887"
            ],
            [
             0.1111111111111111,
             "#46039f"
            ],
            [
             0.2222222222222222,
             "#7201a8"
            ],
            [
             0.3333333333333333,
             "#9c179e"
            ],
            [
             0.4444444444444444,
             "#bd3786"
            ],
            [
             0.5555555555555556,
             "#d8576b"
            ],
            [
             0.6666666666666666,
             "#ed7953"
            ],
            [
             0.7777777777777778,
             "#fb9f3a"
            ],
            [
             0.8888888888888888,
             "#fdca26"
            ],
            [
             1,
             "#f0f921"
            ]
           ],
           "sequentialminus": [
            [
             0,
             "#0d0887"
            ],
            [
             0.1111111111111111,
             "#46039f"
            ],
            [
             0.2222222222222222,
             "#7201a8"
            ],
            [
             0.3333333333333333,
             "#9c179e"
            ],
            [
             0.4444444444444444,
             "#bd3786"
            ],
            [
             0.5555555555555556,
             "#d8576b"
            ],
            [
             0.6666666666666666,
             "#ed7953"
            ],
            [
             0.7777777777777778,
             "#fb9f3a"
            ],
            [
             0.8888888888888888,
             "#fdca26"
            ],
            [
             1,
             "#f0f921"
            ]
           ]
          },
          "colorway": [
           "#636efa",
           "#EF553B",
           "#00cc96",
           "#ab63fa",
           "#FFA15A",
           "#19d3f3",
           "#FF6692",
           "#B6E880",
           "#FF97FF",
           "#FECB52"
          ],
          "font": {
           "color": "#2a3f5f"
          },
          "geo": {
           "bgcolor": "white",
           "lakecolor": "white",
           "landcolor": "#E5ECF6",
           "showlakes": true,
           "showland": true,
           "subunitcolor": "white"
          },
          "hoverlabel": {
           "align": "left"
          },
          "hovermode": "closest",
          "mapbox": {
           "style": "light"
          },
          "paper_bgcolor": "white",
          "plot_bgcolor": "#E5ECF6",
          "polar": {
           "angularaxis": {
            "gridcolor": "white",
            "linecolor": "white",
            "ticks": ""
           },
           "bgcolor": "#E5ECF6",
           "radialaxis": {
            "gridcolor": "white",
            "linecolor": "white",
            "ticks": ""
           }
          },
          "scene": {
           "xaxis": {
            "backgroundcolor": "#E5ECF6",
            "gridcolor": "white",
            "gridwidth": 2,
            "linecolor": "white",
            "showbackground": true,
            "ticks": "",
            "zerolinecolor": "white"
           },
           "yaxis": {
            "backgroundcolor": "#E5ECF6",
            "gridcolor": "white",
            "gridwidth": 2,
            "linecolor": "white",
            "showbackground": true,
            "ticks": "",
            "zerolinecolor": "white"
           },
           "zaxis": {
            "backgroundcolor": "#E5ECF6",
            "gridcolor": "white",
            "gridwidth": 2,
            "linecolor": "white",
            "showbackground": true,
            "ticks": "",
            "zerolinecolor": "white"
           }
          },
          "shapedefaults": {
           "line": {
            "color": "#2a3f5f"
           }
          },
          "ternary": {
           "aaxis": {
            "gridcolor": "white",
            "linecolor": "white",
            "ticks": ""
           },
           "baxis": {
            "gridcolor": "white",
            "linecolor": "white",
            "ticks": ""
           },
           "bgcolor": "#E5ECF6",
           "caxis": {
            "gridcolor": "white",
            "linecolor": "white",
            "ticks": ""
           }
          },
          "title": {
           "x": 0.05
          },
          "xaxis": {
           "automargin": true,
           "gridcolor": "white",
           "linecolor": "white",
           "ticks": "",
           "title": {
            "standoff": 15
           },
           "zerolinecolor": "white",
           "zerolinewidth": 2
          },
          "yaxis": {
           "automargin": true,
           "gridcolor": "white",
           "linecolor": "white",
           "ticks": "",
           "title": {
            "standoff": 15
           },
           "zerolinecolor": "white",
           "zerolinewidth": 2
          }
         }
        },
        "title": {
         "text": "Logit values for final token of generated sequence"
        },
        "xaxis": {
         "anchor": "y",
         "constrain": "domain",
         "domain": [
          0,
          1
         ],
         "scaleanchor": "y",
         "title": {
          "text": "Token from vocabulary"
         }
        },
        "yaxis": {
         "anchor": "x",
         "autorange": "reversed",
         "constrain": "domain",
         "domain": [
          0,
          1
         ]
        }
       }
      }
     },
     "metadata": {},
     "output_type": "display_data"
    }
   ],
   "source": [
    "def plot_top_predicted_tokens(generation_logits: torch.Tensor, k: int = 10) -> None:\n",
    "    \"\"\"\n",
    "    Plot the logits of the top k predicted tokens from a model generation.\n",
    "\n",
    "    Args:\n",
    "        generation_logits (Tensor): Logits output from the model of shape (batch, seq_len, vocab_size).\n",
    "        k (int): Number of tokens from vocab to plot.\n",
    "    \"\"\"\n",
    "\n",
    "    # Get logits corresponding to the last token (i.e. our completion)\n",
    "    logits_last_token = generation_logits[0, -1, :]\n",
    "\n",
    "    logits_by_token = list(enumerate(logits_last_token.tolist()))\n",
    "    logits_by_token = sorted(\n",
    "        logits_by_token,\n",
    "        key=lambda x: x[1],\n",
    "        reverse=True\n",
    "    )\n",
    "\n",
    "    logit_values = np.array([logit for tok, logit in logits_by_token])\n",
    "    # logit_values = (logit_values - min(logit_values))\n",
    "    # logit_values = logit_values / max(logit_values)\n",
    "\n",
    "    highest_predictions = logit_values[:k]\n",
    "    highest_predictions = np.expand_dims(highest_predictions, axis=0)\n",
    "\n",
    "    token_labels = [model.to_single_str_token(tok) for tok, logit in logits_by_token[:k]]\n",
    "\n",
    "    px.imshow(\n",
    "        highest_predictions,\n",
    "        x=token_labels,\n",
    "        y=[\"Logit value  \"],\n",
    "        title=\"Logit values for final token of generated sequence\",\n",
    "        labels=dict(x=\"Token from vocabulary\"),\n",
    "        color_continuous_midpoint=0.0,\n",
    "        color_continuous_scale=\"turbo\",\n",
    "    ).show()\n",
    "\n",
    "\n",
    "plot_top_predicted_tokens(model_output_logits, k=25)"
   ]
  },
  {
   "cell_type": "markdown",
   "id": "f1f7c475",
   "metadata": {},
   "source": [
    "### Direct Logit Attribution\n",
    "\n",
    "* **Direct logit attribution**: An approach to reverse engineering a circuit by understanding how a given model produces its answer (i.e. start at the end) and to then working backwards through the network.\n",
    "* **Residual stream**: The 'central object' of the transformer network architecture to which many layers read from and write to. It is the sum of the outputs of each layer and the original token / positional embedding.\n",
    "* As it is composed of a sum, the residual stream can be decomposed back into the contribution of each attention layer in a transformer model. Additionally, the output of each attention layer can be decomposed into the sum of outputs of each attention head, and each MLP layer into the sum of outputs of each neuron (plus bias).\n",
    "* The output logits are given by: end of residual stream $\\to$ normalisation function (LayerNorm) $\\to$ unembedding layer (Unembed).\n",
    "* As these are (approximately) linear maps, we can work back from the logits to find the network components that contribute most to a given output; this is **direct logit attribution**.\n",
    "* As the model is trained to optimise the cross-entropy loss, the exact values of the logits is not important, instead their relative values to each other (hence the use of the 'logit difference' metric).\n",
    "\n",
    "#### The logit lens\n",
    "\n",
    "Attribution of logits throughout layers in the model. \n",
    "The logit lens looks at the residual stream after each layer and calculates the logit difference from that. This simulates what happens if we delete all subsequence layers.\n"
   ]
  },
  {
   "cell_type": "code",
   "execution_count": 73,
   "id": "3f02c2e5",
   "metadata": {},
   "outputs": [],
   "source": [
    "def residual_stream_to_logit_diff(\n",
    "    residual_stream: torch.Tensor,\n",
    "    activation_cache: ActivationCache,\n",
    "    logit_difference_directions: torch.Tensor,\n",
    ") -> float:\n",
    "    \"\"\"\n",
    "    Computes the mean logit difference for a given residual stream and logit difference directions.\n",
    "\n",
    "    Args:\n",
    "        residual_stream (torch.Tensor): The residual stream tensor from the transformer model, typically of shape (batch, seq_len, d_model) or (batch, d_model).\n",
    "        activation_cache (ActivationCache): The activation cache containing model activations and utility functions, used here for applying LayerNorm.\n",
    "        logit_difference_directions (torch.Tensor): The directions in residual space corresponding to the difference between correct and incorrect completion tokens, shape (batch, d_model) or (d_model,).\n",
    "\n",
    "    Returns:\n",
    "        mean_logit_differences (float): The mean logit difference after projecting the normalized residual stream onto the logit difference directions.\n",
    "    \"\"\"\n",
    "\n",
    "    # Apply the \"LayerNorm\" function (as model would)\n",
    "    scaled_residual_stream = activation_cache.apply_ln_to_stack(\n",
    "        residual_stream,\n",
    "        layer=-1,\n",
    "        pos_slice=-1,  # subset of the positions we use (here the final token)\n",
    "    )\n",
    "\n",
    "    # Compute the logit difference\n",
    "    mean_logit_differences = einsum(\n",
    "        \"... batch d_model, batch d_model -> ...\",\n",
    "        scaled_residual_stream,\n",
    "        logit_difference_directions,\n",
    "    )\n",
    "    mean_logit_differences = mean_logit_differences / residual_stream.shape[0]\n",
    "\n",
    "    return mean_logit_differences"
   ]
  },
  {
   "cell_type": "code",
   "execution_count": 74,
   "id": "1b935b12",
   "metadata": {},
   "outputs": [
    {
     "name": "stdout",
     "output_type": "stream",
     "text": [
      "Final layer residual stream shape: torch.Size([1, 15, 768])\n",
      "Logit difference directions shape: torch.Size([1, 768])\n",
      "Logit difference: 4.633\n"
     ]
    }
   ],
   "source": [
    "# Accessing the network's residual stream\n",
    "# \"resid_post\" is the residual stream at the end of the layer, -1 gets the final layer.\n",
    "# The general syntax is [activation_name, layer_index, sub_layer_type].\n",
    "residual_stream_final_layer = activation_cache[\"resid_post\", -1]\n",
    "print(f\"Final layer residual stream shape: {residual_stream_final_layer.shape}\")\n",
    "\n",
    "residual_stream_final_token = residual_stream_final_layer[:, -1, :]\n",
    "\n",
    "# Getting an output logit is equivalent to projecting onto a direction in the residual stream\n",
    "residual_stream_projection = model.tokens_to_residual_directions(completions_toks)\n",
    "logit_difference_directions = residual_stream_projection[:, 0] - residual_stream_projection[:, 1]\n",
    "print(f\"Logit difference directions shape: {logit_difference_directions.shape}\")\n",
    "\n",
    "mean_logit_difference = residual_stream_to_logit_diff(\n",
    "    residual_stream_final_token,\n",
    "    activation_cache,\n",
    "    logit_difference_directions,\n",
    ")\n",
    "\n",
    "print(f\"Logit difference: {mean_logit_difference:.3f}\")"
   ]
  },
  {
   "cell_type": "code",
   "execution_count": 80,
   "id": "d5cafc49",
   "metadata": {},
   "outputs": [
    {
     "name": "stdout",
     "output_type": "stream",
     "text": [
      "Model layers (x values): [ 0.   0.5  1.   1.5  2.   2.5  3.   3.5  4.   4.5  5.   5.5  6.   6.5\n",
      "  7.   7.5  8.   8.5  9.   9.5 10.  10.5 11.  11.5 12. ]\n",
      "Logit differences (y values): [-0.00043612  0.00040156  0.00036878  0.00084074  0.00061268  0.00255602\n",
      "  0.00117801  0.00256532  0.00267829 -0.00029886  0.00306021  0.00597805\n",
      "  0.00067935 -0.00122963  0.00075706  0.01887021  0.01560044  0.0410631\n",
      "  0.05046535  0.2078262   0.20520501  0.19907951  0.22312     0.17324272\n",
      "  0.18531337]\n"
     ]
    },
    {
     "data": {
      "application/vnd.plotly.v1+json": {
       "config": {
        "plotlyServerURL": "https://plot.ly"
       },
       "data": [
        {
         "hovertemplate": "<b>%{hovertext}</b><br><br>Layer=%{x}<br>Logit difference=%{y}<extra></extra>",
         "hovertext": [
          "Stream component: \"0_pre\"",
          "Stream component: \"0_mid\"",
          "Stream component: \"1_pre\"",
          "Stream component: \"1_mid\"",
          "Stream component: \"2_pre\"",
          "Stream component: \"2_mid\"",
          "Stream component: \"3_pre\"",
          "Stream component: \"3_mid\"",
          "Stream component: \"4_pre\"",
          "Stream component: \"4_mid\"",
          "Stream component: \"5_pre\"",
          "Stream component: \"5_mid\"",
          "Stream component: \"6_pre\"",
          "Stream component: \"6_mid\"",
          "Stream component: \"7_pre\"",
          "Stream component: \"7_mid\"",
          "Stream component: \"8_pre\"",
          "Stream component: \"8_mid\"",
          "Stream component: \"9_pre\"",
          "Stream component: \"9_mid\"",
          "Stream component: \"10_pre\"",
          "Stream component: \"10_mid\"",
          "Stream component: \"11_pre\"",
          "Stream component: \"11_mid\"",
          "Stream component: \"final_post\""
         ],
         "legendgroup": "",
         "line": {
          "color": "#636efa",
          "dash": "solid"
         },
         "marker": {
          "symbol": "circle"
         },
         "mode": "lines",
         "name": "",
         "orientation": "v",
         "showlegend": false,
         "type": "scatter",
         "x": {
          "bdata": "AAAAAAAAAAAAAAAAAADgPwAAAAAAAPA/AAAAAAAA+D8AAAAAAAAAQAAAAAAAAARAAAAAAAAACEAAAAAAAAAMQAAAAAAAABBAAAAAAAAAEkAAAAAAAAAUQAAAAAAAABZAAAAAAAAAGEAAAAAAAAAaQAAAAAAAABxAAAAAAAAAHkAAAAAAAAAgQAAAAAAAACFAAAAAAAAAIkAAAAAAAAAjQAAAAAAAACRAAAAAAAAAJUAAAAAAAAAmQAAAAAAAACdAAAAAAAAAKEA=",
          "dtype": "f8"
         },
         "xaxis": "x",
         "y": {
          "bdata": "tqbkufaI0jl7WME5GmVcOoWcIDrugic7emeaOuEeKDtFhi87YbCcudyNSDuG48M7mhYyOmErobqPdUY6s5WaPPiYfzzJMSg9wLROPWTQVD5DIVI+gNtLPpJ5ZD6KZjE+ysI9Pg==",
          "dtype": "f4"
         },
         "yaxis": "y"
        }
       ],
       "layout": {
        "legend": {
         "tracegroupgap": 0
        },
        "template": {
         "data": {
          "bar": [
           {
            "error_x": {
             "color": "#2a3f5f"
            },
            "error_y": {
             "color": "#2a3f5f"
            },
            "marker": {
             "line": {
              "color": "#E5ECF6",
              "width": 0.5
             },
             "pattern": {
              "fillmode": "overlay",
              "size": 10,
              "solidity": 0.2
             }
            },
            "type": "bar"
           }
          ],
          "barpolar": [
           {
            "marker": {
             "line": {
              "color": "#E5ECF6",
              "width": 0.5
             },
             "pattern": {
              "fillmode": "overlay",
              "size": 10,
              "solidity": 0.2
             }
            },
            "type": "barpolar"
           }
          ],
          "carpet": [
           {
            "aaxis": {
             "endlinecolor": "#2a3f5f",
             "gridcolor": "white",
             "linecolor": "white",
             "minorgridcolor": "white",
             "startlinecolor": "#2a3f5f"
            },
            "baxis": {
             "endlinecolor": "#2a3f5f",
             "gridcolor": "white",
             "linecolor": "white",
             "minorgridcolor": "white",
             "startlinecolor": "#2a3f5f"
            },
            "type": "carpet"
           }
          ],
          "choropleth": [
           {
            "colorbar": {
             "outlinewidth": 0,
             "ticks": ""
            },
            "type": "choropleth"
           }
          ],
          "contour": [
           {
            "colorbar": {
             "outlinewidth": 0,
             "ticks": ""
            },
            "colorscale": [
             [
              0,
              "#0d0887"
             ],
             [
              0.1111111111111111,
              "#46039f"
             ],
             [
              0.2222222222222222,
              "#7201a8"
             ],
             [
              0.3333333333333333,
              "#9c179e"
             ],
             [
              0.4444444444444444,
              "#bd3786"
             ],
             [
              0.5555555555555556,
              "#d8576b"
             ],
             [
              0.6666666666666666,
              "#ed7953"
             ],
             [
              0.7777777777777778,
              "#fb9f3a"
             ],
             [
              0.8888888888888888,
              "#fdca26"
             ],
             [
              1,
              "#f0f921"
             ]
            ],
            "type": "contour"
           }
          ],
          "contourcarpet": [
           {
            "colorbar": {
             "outlinewidth": 0,
             "ticks": ""
            },
            "type": "contourcarpet"
           }
          ],
          "heatmap": [
           {
            "colorbar": {
             "outlinewidth": 0,
             "ticks": ""
            },
            "colorscale": [
             [
              0,
              "#0d0887"
             ],
             [
              0.1111111111111111,
              "#46039f"
             ],
             [
              0.2222222222222222,
              "#7201a8"
             ],
             [
              0.3333333333333333,
              "#9c179e"
             ],
             [
              0.4444444444444444,
              "#bd3786"
             ],
             [
              0.5555555555555556,
              "#d8576b"
             ],
             [
              0.6666666666666666,
              "#ed7953"
             ],
             [
              0.7777777777777778,
              "#fb9f3a"
             ],
             [
              0.8888888888888888,
              "#fdca26"
             ],
             [
              1,
              "#f0f921"
             ]
            ],
            "type": "heatmap"
           }
          ],
          "histogram": [
           {
            "marker": {
             "pattern": {
              "fillmode": "overlay",
              "size": 10,
              "solidity": 0.2
             }
            },
            "type": "histogram"
           }
          ],
          "histogram2d": [
           {
            "colorbar": {
             "outlinewidth": 0,
             "ticks": ""
            },
            "colorscale": [
             [
              0,
              "#0d0887"
             ],
             [
              0.1111111111111111,
              "#46039f"
             ],
             [
              0.2222222222222222,
              "#7201a8"
             ],
             [
              0.3333333333333333,
              "#9c179e"
             ],
             [
              0.4444444444444444,
              "#bd3786"
             ],
             [
              0.5555555555555556,
              "#d8576b"
             ],
             [
              0.6666666666666666,
              "#ed7953"
             ],
             [
              0.7777777777777778,
              "#fb9f3a"
             ],
             [
              0.8888888888888888,
              "#fdca26"
             ],
             [
              1,
              "#f0f921"
             ]
            ],
            "type": "histogram2d"
           }
          ],
          "histogram2dcontour": [
           {
            "colorbar": {
             "outlinewidth": 0,
             "ticks": ""
            },
            "colorscale": [
             [
              0,
              "#0d0887"
             ],
             [
              0.1111111111111111,
              "#46039f"
             ],
             [
              0.2222222222222222,
              "#7201a8"
             ],
             [
              0.3333333333333333,
              "#9c179e"
             ],
             [
              0.4444444444444444,
              "#bd3786"
             ],
             [
              0.5555555555555556,
              "#d8576b"
             ],
             [
              0.6666666666666666,
              "#ed7953"
             ],
             [
              0.7777777777777778,
              "#fb9f3a"
             ],
             [
              0.8888888888888888,
              "#fdca26"
             ],
             [
              1,
              "#f0f921"
             ]
            ],
            "type": "histogram2dcontour"
           }
          ],
          "mesh3d": [
           {
            "colorbar": {
             "outlinewidth": 0,
             "ticks": ""
            },
            "type": "mesh3d"
           }
          ],
          "parcoords": [
           {
            "line": {
             "colorbar": {
              "outlinewidth": 0,
              "ticks": ""
             }
            },
            "type": "parcoords"
           }
          ],
          "pie": [
           {
            "automargin": true,
            "type": "pie"
           }
          ],
          "scatter": [
           {
            "fillpattern": {
             "fillmode": "overlay",
             "size": 10,
             "solidity": 0.2
            },
            "type": "scatter"
           }
          ],
          "scatter3d": [
           {
            "line": {
             "colorbar": {
              "outlinewidth": 0,
              "ticks": ""
             }
            },
            "marker": {
             "colorbar": {
              "outlinewidth": 0,
              "ticks": ""
             }
            },
            "type": "scatter3d"
           }
          ],
          "scattercarpet": [
           {
            "marker": {
             "colorbar": {
              "outlinewidth": 0,
              "ticks": ""
             }
            },
            "type": "scattercarpet"
           }
          ],
          "scattergeo": [
           {
            "marker": {
             "colorbar": {
              "outlinewidth": 0,
              "ticks": ""
             }
            },
            "type": "scattergeo"
           }
          ],
          "scattergl": [
           {
            "marker": {
             "colorbar": {
              "outlinewidth": 0,
              "ticks": ""
             }
            },
            "type": "scattergl"
           }
          ],
          "scattermap": [
           {
            "marker": {
             "colorbar": {
              "outlinewidth": 0,
              "ticks": ""
             }
            },
            "type": "scattermap"
           }
          ],
          "scattermapbox": [
           {
            "marker": {
             "colorbar": {
              "outlinewidth": 0,
              "ticks": ""
             }
            },
            "type": "scattermapbox"
           }
          ],
          "scatterpolar": [
           {
            "marker": {
             "colorbar": {
              "outlinewidth": 0,
              "ticks": ""
             }
            },
            "type": "scatterpolar"
           }
          ],
          "scatterpolargl": [
           {
            "marker": {
             "colorbar": {
              "outlinewidth": 0,
              "ticks": ""
             }
            },
            "type": "scatterpolargl"
           }
          ],
          "scatterternary": [
           {
            "marker": {
             "colorbar": {
              "outlinewidth": 0,
              "ticks": ""
             }
            },
            "type": "scatterternary"
           }
          ],
          "surface": [
           {
            "colorbar": {
             "outlinewidth": 0,
             "ticks": ""
            },
            "colorscale": [
             [
              0,
              "#0d0887"
             ],
             [
              0.1111111111111111,
              "#46039f"
             ],
             [
              0.2222222222222222,
              "#7201a8"
             ],
             [
              0.3333333333333333,
              "#9c179e"
             ],
             [
              0.4444444444444444,
              "#bd3786"
             ],
             [
              0.5555555555555556,
              "#d8576b"
             ],
             [
              0.6666666666666666,
              "#ed7953"
             ],
             [
              0.7777777777777778,
              "#fb9f3a"
             ],
             [
              0.8888888888888888,
              "#fdca26"
             ],
             [
              1,
              "#f0f921"
             ]
            ],
            "type": "surface"
           }
          ],
          "table": [
           {
            "cells": {
             "fill": {
              "color": "#EBF0F8"
             },
             "line": {
              "color": "white"
             }
            },
            "header": {
             "fill": {
              "color": "#C8D4E3"
             },
             "line": {
              "color": "white"
             }
            },
            "type": "table"
           }
          ]
         },
         "layout": {
          "annotationdefaults": {
           "arrowcolor": "#2a3f5f",
           "arrowhead": 0,
           "arrowwidth": 1
          },
          "autotypenumbers": "strict",
          "coloraxis": {
           "colorbar": {
            "outlinewidth": 0,
            "ticks": ""
           }
          },
          "colorscale": {
           "diverging": [
            [
             0,
             "#8e0152"
            ],
            [
             0.1,
             "#c51b7d"
            ],
            [
             0.2,
             "#de77ae"
            ],
            [
             0.3,
             "#f1b6da"
            ],
            [
             0.4,
             "#fde0ef"
            ],
            [
             0.5,
             "#f7f7f7"
            ],
            [
             0.6,
             "#e6f5d0"
            ],
            [
             0.7,
             "#b8e186"
            ],
            [
             0.8,
             "#7fbc41"
            ],
            [
             0.9,
             "#4d9221"
            ],
            [
             1,
             "#276419"
            ]
           ],
           "sequential": [
            [
             0,
             "#0d0887"
            ],
            [
             0.1111111111111111,
             "#46039f"
            ],
            [
             0.2222222222222222,
             "#7201a8"
            ],
            [
             0.3333333333333333,
             "#9c179e"
            ],
            [
             0.4444444444444444,
             "#bd3786"
            ],
            [
             0.5555555555555556,
             "#d8576b"
            ],
            [
             0.6666666666666666,
             "#ed7953"
            ],
            [
             0.7777777777777778,
             "#fb9f3a"
            ],
            [
             0.8888888888888888,
             "#fdca26"
            ],
            [
             1,
             "#f0f921"
            ]
           ],
           "sequentialminus": [
            [
             0,
             "#0d0887"
            ],
            [
             0.1111111111111111,
             "#46039f"
            ],
            [
             0.2222222222222222,
             "#7201a8"
            ],
            [
             0.3333333333333333,
             "#9c179e"
            ],
            [
             0.4444444444444444,
             "#bd3786"
            ],
            [
             0.5555555555555556,
             "#d8576b"
            ],
            [
             0.6666666666666666,
             "#ed7953"
            ],
            [
             0.7777777777777778,
             "#fb9f3a"
            ],
            [
             0.8888888888888888,
             "#fdca26"
            ],
            [
             1,
             "#f0f921"
            ]
           ]
          },
          "colorway": [
           "#636efa",
           "#EF553B",
           "#00cc96",
           "#ab63fa",
           "#FFA15A",
           "#19d3f3",
           "#FF6692",
           "#B6E880",
           "#FF97FF",
           "#FECB52"
          ],
          "font": {
           "color": "#2a3f5f"
          },
          "geo": {
           "bgcolor": "white",
           "lakecolor": "white",
           "landcolor": "#E5ECF6",
           "showlakes": true,
           "showland": true,
           "subunitcolor": "white"
          },
          "hoverlabel": {
           "align": "left"
          },
          "hovermode": "closest",
          "mapbox": {
           "style": "light"
          },
          "paper_bgcolor": "white",
          "plot_bgcolor": "#E5ECF6",
          "polar": {
           "angularaxis": {
            "gridcolor": "white",
            "linecolor": "white",
            "ticks": ""
           },
           "bgcolor": "#E5ECF6",
           "radialaxis": {
            "gridcolor": "white",
            "linecolor": "white",
            "ticks": ""
           }
          },
          "scene": {
           "xaxis": {
            "backgroundcolor": "#E5ECF6",
            "gridcolor": "white",
            "gridwidth": 2,
            "linecolor": "white",
            "showbackground": true,
            "ticks": "",
            "zerolinecolor": "white"
           },
           "yaxis": {
            "backgroundcolor": "#E5ECF6",
            "gridcolor": "white",
            "gridwidth": 2,
            "linecolor": "white",
            "showbackground": true,
            "ticks": "",
            "zerolinecolor": "white"
           },
           "zaxis": {
            "backgroundcolor": "#E5ECF6",
            "gridcolor": "white",
            "gridwidth": 2,
            "linecolor": "white",
            "showbackground": true,
            "ticks": "",
            "zerolinecolor": "white"
           }
          },
          "shapedefaults": {
           "line": {
            "color": "#2a3f5f"
           }
          },
          "ternary": {
           "aaxis": {
            "gridcolor": "white",
            "linecolor": "white",
            "ticks": ""
           },
           "baxis": {
            "gridcolor": "white",
            "linecolor": "white",
            "ticks": ""
           },
           "bgcolor": "#E5ECF6",
           "caxis": {
            "gridcolor": "white",
            "linecolor": "white",
            "ticks": ""
           }
          },
          "title": {
           "x": 0.05
          },
          "xaxis": {
           "automargin": true,
           "gridcolor": "white",
           "linecolor": "white",
           "ticks": "",
           "title": {
            "standoff": 15
           },
           "zerolinecolor": "white",
           "zerolinewidth": 2
          },
          "yaxis": {
           "automargin": true,
           "gridcolor": "white",
           "linecolor": "white",
           "ticks": "",
           "title": {
            "standoff": 15
           },
           "zerolinecolor": "white",
           "zerolinewidth": 2
          }
         }
        },
        "title": {
         "text": "Logit difference of layer components from residual stream"
        },
        "xaxis": {
         "anchor": "y",
         "domain": [
          0,
          1
         ],
         "title": {
          "text": "Layer"
         }
        },
        "yaxis": {
         "anchor": "x",
         "domain": [
          0,
          1
         ],
         "title": {
          "text": "Logit difference"
         }
        }
       }
      }
     },
     "metadata": {},
     "output_type": "display_data"
    }
   ],
   "source": [
    "accumulated_residual_stream, component_labels = activation_cache.accumulated_resid(\n",
    "    layer=-1,       # layer from which we gather the residual stream\n",
    "    pos_slice=-1,   # subset of the positions we use (here the final token)\n",
    "    incl_mid=True,  # use the residual stream in the middle of a layer (i.e. after attention & before MLP)\n",
    "    return_labels=True,\n",
    ")\n",
    "\n",
    "logit_differences = residual_stream_to_logit_diff(\n",
    "    accumulated_residual_stream,\n",
    "    activation_cache,\n",
    "    logit_difference_directions\n",
    ")\n",
    "\n",
    "logit_differences = utils.to_numpy(logit_differences)\n",
    "x_axis_range = np.arange(model.cfg.n_layers * 2 + 1) / 2\n",
    "node_labels = [f'Stream component: \"{l}\"' for l in component_labels]\n",
    "\n",
    "print(f\"Model layers (x values): {x_axis_range}\")\n",
    "print(f\"Logit differences (y values): {logit_differences}\")\n",
    "\n",
    "px.line(\n",
    "    y=logit_differences,\n",
    "    x=x_axis_range,\n",
    "    hover_name=node_labels,\n",
    "    title=\"Logit difference of layer components from residual stream\",\n",
    "    labels=dict(x=\"Layer\", y=\"Logit difference\"),\n",
    ").show()"
   ]
  },
  {
   "cell_type": "markdown",
   "id": "4b29c29c",
   "metadata": {},
   "source": [
    "Result:\n",
    "\n",
    "* Logit differences are much greater in later layers of the network.\n",
    "\n",
    "Explanation:\n",
    "\n",
    "* The model is unable to complete the task in earlier layers, so layer logits have a mostly uniform and low value.\n",
    "* The peak logit difference at layer 9 means that most of the model's generation performance on this task comes from (the logits of) layer 9.\n",
    "* Additionally, the performance jump comes from residual component \"9_mid\". Here \"mid\" means we have applied the attention layer but not its subsequent MLP layer. This means the performance comes mostly from the attention layer.\n",
    "\n",
    "#### Layer attribution\n",
    "\n",
    "Attribution of layers throughout the model on a per-layer basis, including all attention head layers and MLP layers within the 'attention block'."
   ]
  },
  {
   "cell_type": "code",
   "execution_count": 83,
   "id": "c36ca7b2",
   "metadata": {},
   "outputs": [
    {
     "name": "stdout",
     "output_type": "stream",
     "text": [
      "Model layers (x values): [ 0.   0.5  1.   1.5  2.   2.5  3.   3.5  4.   4.5  5.   5.5  6.   6.5\n",
      "  7.   7.5  8.   8.5  9.   9.5 10.  10.5 11.  11.5 12. ]\n",
      "Logit differences (y values): [-0.00043612  0.00040156  0.00036878  0.00084074  0.00061268  0.00255602\n",
      "  0.00117801  0.00256532  0.00267829 -0.00029886  0.00306021  0.00597805\n",
      "  0.00067935 -0.00122963  0.00075706  0.01887021  0.01560044  0.0410631\n",
      "  0.05046535  0.2078262   0.20520501  0.19907951  0.22312     0.17324272\n",
      "  0.18531337]\n"
     ]
    },
    {
     "data": {
      "application/vnd.plotly.v1+json": {
       "config": {
        "plotlyServerURL": "https://plot.ly"
       },
       "data": [
        {
         "hovertemplate": "Layer=%{x}<br>Logit difference=%{y}<extra></extra>",
         "legendgroup": "",
         "line": {
          "color": "#636efa",
          "dash": "solid"
         },
         "marker": {
          "symbol": "circle"
         },
         "mode": "lines",
         "name": "",
         "orientation": "v",
         "showlegend": false,
         "type": "scatter",
         "x": {
          "bdata": "AAECAwQFBgcICQoLDA0ODxAREhMUFRYXGA==",
          "dtype": "i1"
         },
         "xaxis": "x",
         "y": {
          "bdata": "tqbkufaI0jl7WME5GmVcOoWcIDrugic7emeaOuEeKDtFhi87YbCcudyNSDuG48M7mhYyOmErobqPdUY6s5WaPPiYfzzJMSg9wLROPWTQVD5DIVI+gNtLPpJ5ZD6KZjE+ysI9Pg==",
          "dtype": "f4"
         },
         "yaxis": "y"
        }
       ],
       "layout": {
        "legend": {
         "tracegroupgap": 0
        },
        "template": {
         "data": {
          "bar": [
           {
            "error_x": {
             "color": "#2a3f5f"
            },
            "error_y": {
             "color": "#2a3f5f"
            },
            "marker": {
             "line": {
              "color": "#E5ECF6",
              "width": 0.5
             },
             "pattern": {
              "fillmode": "overlay",
              "size": 10,
              "solidity": 0.2
             }
            },
            "type": "bar"
           }
          ],
          "barpolar": [
           {
            "marker": {
             "line": {
              "color": "#E5ECF6",
              "width": 0.5
             },
             "pattern": {
              "fillmode": "overlay",
              "size": 10,
              "solidity": 0.2
             }
            },
            "type": "barpolar"
           }
          ],
          "carpet": [
           {
            "aaxis": {
             "endlinecolor": "#2a3f5f",
             "gridcolor": "white",
             "linecolor": "white",
             "minorgridcolor": "white",
             "startlinecolor": "#2a3f5f"
            },
            "baxis": {
             "endlinecolor": "#2a3f5f",
             "gridcolor": "white",
             "linecolor": "white",
             "minorgridcolor": "white",
             "startlinecolor": "#2a3f5f"
            },
            "type": "carpet"
           }
          ],
          "choropleth": [
           {
            "colorbar": {
             "outlinewidth": 0,
             "ticks": ""
            },
            "type": "choropleth"
           }
          ],
          "contour": [
           {
            "colorbar": {
             "outlinewidth": 0,
             "ticks": ""
            },
            "colorscale": [
             [
              0,
              "#0d0887"
             ],
             [
              0.1111111111111111,
              "#46039f"
             ],
             [
              0.2222222222222222,
              "#7201a8"
             ],
             [
              0.3333333333333333,
              "#9c179e"
             ],
             [
              0.4444444444444444,
              "#bd3786"
             ],
             [
              0.5555555555555556,
              "#d8576b"
             ],
             [
              0.6666666666666666,
              "#ed7953"
             ],
             [
              0.7777777777777778,
              "#fb9f3a"
             ],
             [
              0.8888888888888888,
              "#fdca26"
             ],
             [
              1,
              "#f0f921"
             ]
            ],
            "type": "contour"
           }
          ],
          "contourcarpet": [
           {
            "colorbar": {
             "outlinewidth": 0,
             "ticks": ""
            },
            "type": "contourcarpet"
           }
          ],
          "heatmap": [
           {
            "colorbar": {
             "outlinewidth": 0,
             "ticks": ""
            },
            "colorscale": [
             [
              0,
              "#0d0887"
             ],
             [
              0.1111111111111111,
              "#46039f"
             ],
             [
              0.2222222222222222,
              "#7201a8"
             ],
             [
              0.3333333333333333,
              "#9c179e"
             ],
             [
              0.4444444444444444,
              "#bd3786"
             ],
             [
              0.5555555555555556,
              "#d8576b"
             ],
             [
              0.6666666666666666,
              "#ed7953"
             ],
             [
              0.7777777777777778,
              "#fb9f3a"
             ],
             [
              0.8888888888888888,
              "#fdca26"
             ],
             [
              1,
              "#f0f921"
             ]
            ],
            "type": "heatmap"
           }
          ],
          "histogram": [
           {
            "marker": {
             "pattern": {
              "fillmode": "overlay",
              "size": 10,
              "solidity": 0.2
             }
            },
            "type": "histogram"
           }
          ],
          "histogram2d": [
           {
            "colorbar": {
             "outlinewidth": 0,
             "ticks": ""
            },
            "colorscale": [
             [
              0,
              "#0d0887"
             ],
             [
              0.1111111111111111,
              "#46039f"
             ],
             [
              0.2222222222222222,
              "#7201a8"
             ],
             [
              0.3333333333333333,
              "#9c179e"
             ],
             [
              0.4444444444444444,
              "#bd3786"
             ],
             [
              0.5555555555555556,
              "#d8576b"
             ],
             [
              0.6666666666666666,
              "#ed7953"
             ],
             [
              0.7777777777777778,
              "#fb9f3a"
             ],
             [
              0.8888888888888888,
              "#fdca26"
             ],
             [
              1,
              "#f0f921"
             ]
            ],
            "type": "histogram2d"
           }
          ],
          "histogram2dcontour": [
           {
            "colorbar": {
             "outlinewidth": 0,
             "ticks": ""
            },
            "colorscale": [
             [
              0,
              "#0d0887"
             ],
             [
              0.1111111111111111,
              "#46039f"
             ],
             [
              0.2222222222222222,
              "#7201a8"
             ],
             [
              0.3333333333333333,
              "#9c179e"
             ],
             [
              0.4444444444444444,
              "#bd3786"
             ],
             [
              0.5555555555555556,
              "#d8576b"
             ],
             [
              0.6666666666666666,
              "#ed7953"
             ],
             [
              0.7777777777777778,
              "#fb9f3a"
             ],
             [
              0.8888888888888888,
              "#fdca26"
             ],
             [
              1,
              "#f0f921"
             ]
            ],
            "type": "histogram2dcontour"
           }
          ],
          "mesh3d": [
           {
            "colorbar": {
             "outlinewidth": 0,
             "ticks": ""
            },
            "type": "mesh3d"
           }
          ],
          "parcoords": [
           {
            "line": {
             "colorbar": {
              "outlinewidth": 0,
              "ticks": ""
             }
            },
            "type": "parcoords"
           }
          ],
          "pie": [
           {
            "automargin": true,
            "type": "pie"
           }
          ],
          "scatter": [
           {
            "fillpattern": {
             "fillmode": "overlay",
             "size": 10,
             "solidity": 0.2
            },
            "type": "scatter"
           }
          ],
          "scatter3d": [
           {
            "line": {
             "colorbar": {
              "outlinewidth": 0,
              "ticks": ""
             }
            },
            "marker": {
             "colorbar": {
              "outlinewidth": 0,
              "ticks": ""
             }
            },
            "type": "scatter3d"
           }
          ],
          "scattercarpet": [
           {
            "marker": {
             "colorbar": {
              "outlinewidth": 0,
              "ticks": ""
             }
            },
            "type": "scattercarpet"
           }
          ],
          "scattergeo": [
           {
            "marker": {
             "colorbar": {
              "outlinewidth": 0,
              "ticks": ""
             }
            },
            "type": "scattergeo"
           }
          ],
          "scattergl": [
           {
            "marker": {
             "colorbar": {
              "outlinewidth": 0,
              "ticks": ""
             }
            },
            "type": "scattergl"
           }
          ],
          "scattermap": [
           {
            "marker": {
             "colorbar": {
              "outlinewidth": 0,
              "ticks": ""
             }
            },
            "type": "scattermap"
           }
          ],
          "scattermapbox": [
           {
            "marker": {
             "colorbar": {
              "outlinewidth": 0,
              "ticks": ""
             }
            },
            "type": "scattermapbox"
           }
          ],
          "scatterpolar": [
           {
            "marker": {
             "colorbar": {
              "outlinewidth": 0,
              "ticks": ""
             }
            },
            "type": "scatterpolar"
           }
          ],
          "scatterpolargl": [
           {
            "marker": {
             "colorbar": {
              "outlinewidth": 0,
              "ticks": ""
             }
            },
            "type": "scatterpolargl"
           }
          ],
          "scatterternary": [
           {
            "marker": {
             "colorbar": {
              "outlinewidth": 0,
              "ticks": ""
             }
            },
            "type": "scatterternary"
           }
          ],
          "surface": [
           {
            "colorbar": {
             "outlinewidth": 0,
             "ticks": ""
            },
            "colorscale": [
             [
              0,
              "#0d0887"
             ],
             [
              0.1111111111111111,
              "#46039f"
             ],
             [
              0.2222222222222222,
              "#7201a8"
             ],
             [
              0.3333333333333333,
              "#9c179e"
             ],
             [
              0.4444444444444444,
              "#bd3786"
             ],
             [
              0.5555555555555556,
              "#d8576b"
             ],
             [
              0.6666666666666666,
              "#ed7953"
             ],
             [
              0.7777777777777778,
              "#fb9f3a"
             ],
             [
              0.8888888888888888,
              "#fdca26"
             ],
             [
              1,
              "#f0f921"
             ]
            ],
            "type": "surface"
           }
          ],
          "table": [
           {
            "cells": {
             "fill": {
              "color": "#EBF0F8"
             },
             "line": {
              "color": "white"
             }
            },
            "header": {
             "fill": {
              "color": "#C8D4E3"
             },
             "line": {
              "color": "white"
             }
            },
            "type": "table"
           }
          ]
         },
         "layout": {
          "annotationdefaults": {
           "arrowcolor": "#2a3f5f",
           "arrowhead": 0,
           "arrowwidth": 1
          },
          "autotypenumbers": "strict",
          "coloraxis": {
           "colorbar": {
            "outlinewidth": 0,
            "ticks": ""
           }
          },
          "colorscale": {
           "diverging": [
            [
             0,
             "#8e0152"
            ],
            [
             0.1,
             "#c51b7d"
            ],
            [
             0.2,
             "#de77ae"
            ],
            [
             0.3,
             "#f1b6da"
            ],
            [
             0.4,
             "#fde0ef"
            ],
            [
             0.5,
             "#f7f7f7"
            ],
            [
             0.6,
             "#e6f5d0"
            ],
            [
             0.7,
             "#b8e186"
            ],
            [
             0.8,
             "#7fbc41"
            ],
            [
             0.9,
             "#4d9221"
            ],
            [
             1,
             "#276419"
            ]
           ],
           "sequential": [
            [
             0,
             "#0d0887"
            ],
            [
             0.1111111111111111,
             "#46039f"
            ],
            [
             0.2222222222222222,
             "#7201a8"
            ],
            [
             0.3333333333333333,
             "#9c179e"
            ],
            [
             0.4444444444444444,
             "#bd3786"
            ],
            [
             0.5555555555555556,
             "#d8576b"
            ],
            [
             0.6666666666666666,
             "#ed7953"
            ],
            [
             0.7777777777777778,
             "#fb9f3a"
            ],
            [
             0.8888888888888888,
             "#fdca26"
            ],
            [
             1,
             "#f0f921"
            ]
           ],
           "sequentialminus": [
            [
             0,
             "#0d0887"
            ],
            [
             0.1111111111111111,
             "#46039f"
            ],
            [
             0.2222222222222222,
             "#7201a8"
            ],
            [
             0.3333333333333333,
             "#9c179e"
            ],
            [
             0.4444444444444444,
             "#bd3786"
            ],
            [
             0.5555555555555556,
             "#d8576b"
            ],
            [
             0.6666666666666666,
             "#ed7953"
            ],
            [
             0.7777777777777778,
             "#fb9f3a"
            ],
            [
             0.8888888888888888,
             "#fdca26"
            ],
            [
             1,
             "#f0f921"
            ]
           ]
          },
          "colorway": [
           "#636efa",
           "#EF553B",
           "#00cc96",
           "#ab63fa",
           "#FFA15A",
           "#19d3f3",
           "#FF6692",
           "#B6E880",
           "#FF97FF",
           "#FECB52"
          ],
          "font": {
           "color": "#2a3f5f"
          },
          "geo": {
           "bgcolor": "white",
           "lakecolor": "white",
           "landcolor": "#E5ECF6",
           "showlakes": true,
           "showland": true,
           "subunitcolor": "white"
          },
          "hoverlabel": {
           "align": "left"
          },
          "hovermode": "closest",
          "mapbox": {
           "style": "light"
          },
          "paper_bgcolor": "white",
          "plot_bgcolor": "#E5ECF6",
          "polar": {
           "angularaxis": {
            "gridcolor": "white",
            "linecolor": "white",
            "ticks": ""
           },
           "bgcolor": "#E5ECF6",
           "radialaxis": {
            "gridcolor": "white",
            "linecolor": "white",
            "ticks": ""
           }
          },
          "scene": {
           "xaxis": {
            "backgroundcolor": "#E5ECF6",
            "gridcolor": "white",
            "gridwidth": 2,
            "linecolor": "white",
            "showbackground": true,
            "ticks": "",
            "zerolinecolor": "white"
           },
           "yaxis": {
            "backgroundcolor": "#E5ECF6",
            "gridcolor": "white",
            "gridwidth": 2,
            "linecolor": "white",
            "showbackground": true,
            "ticks": "",
            "zerolinecolor": "white"
           },
           "zaxis": {
            "backgroundcolor": "#E5ECF6",
            "gridcolor": "white",
            "gridwidth": 2,
            "linecolor": "white",
            "showbackground": true,
            "ticks": "",
            "zerolinecolor": "white"
           }
          },
          "shapedefaults": {
           "line": {
            "color": "#2a3f5f"
           }
          },
          "ternary": {
           "aaxis": {
            "gridcolor": "white",
            "linecolor": "white",
            "ticks": ""
           },
           "baxis": {
            "gridcolor": "white",
            "linecolor": "white",
            "ticks": ""
           },
           "bgcolor": "#E5ECF6",
           "caxis": {
            "gridcolor": "white",
            "linecolor": "white",
            "ticks": ""
           }
          },
          "title": {
           "x": 0.05
          },
          "xaxis": {
           "automargin": true,
           "gridcolor": "white",
           "linecolor": "white",
           "ticks": "",
           "title": {
            "standoff": 15
           },
           "zerolinecolor": "white",
           "zerolinewidth": 2
          },
          "yaxis": {
           "automargin": true,
           "gridcolor": "white",
           "linecolor": "white",
           "ticks": "",
           "title": {
            "standoff": 15
           },
           "zerolinecolor": "white",
           "zerolinewidth": 2
          }
         }
        },
        "title": {
         "text": "Logit difference for all model layers (attention and MLP)"
        },
        "xaxis": {
         "anchor": "y",
         "domain": [
          0,
          1
         ],
         "title": {
          "text": "Layer"
         }
        },
        "yaxis": {
         "anchor": "x",
         "domain": [
          0,
          1
         ],
         "title": {
          "text": "Logit difference"
         }
        }
       }
      }
     },
     "metadata": {},
     "output_type": "display_data"
    }
   ],
   "source": [
    "residual_stream, component_labels = activation_cache.accumulated_resid(\n",
    "    layer=-1,\n",
    "    pos_slice=-1,\n",
    "    return_labels=True,\n",
    ")\n",
    "\n",
    "logit_differences = residual_stream_to_logit_diff(\n",
    "    accumulated_residual_stream,\n",
    "    activation_cache,\n",
    "    logit_difference_directions\n",
    ")\n",
    "\n",
    "logit_differences = utils.to_numpy(logit_differences)\n",
    "node_labels = [f'Stream component: \"{l}\"' for l in component_labels]\n",
    "\n",
    "print(f\"Model layers (x values): {x_axis_range}\")\n",
    "print(f\"Logit differences (y values): {logit_differences}\")\n",
    "\n",
    "px.line(\n",
    "    y=logit_differences,\n",
    "    title=\"Logit difference for all model layers (attention and MLP)\",\n",
    "    labels=dict(x=\"Layer\", y=\"Logit difference\"),\n",
    ").show()"
   ]
  },
  {
   "cell_type": "markdown",
   "id": "76532407",
   "metadata": {},
   "source": [
    "#### Layer attribution\n",
    "\n",
    "The contribution of each attention layer (within the attention block) can be decomposed into the outputs of each attention head.\n",
    "\n",
    "Decomposition of an attention layer:\n",
    "* Each attention layer consists of 12 independent heads.\n",
    "* In GPT2, this gives a total of 144 attention heads.\n",
    "* The attention layer output is calculated by concatenating the values of each head, and multiplying by a weight matrix.\n",
    "* This is equivalent to splitting the weight matrix and computing weighted values on a per-head basis, then summing (plus a bias). "
   ]
  },
  {
   "cell_type": "code",
   "execution_count": 122,
   "id": "7bb50c97",
   "metadata": {},
   "outputs": [
    {
     "data": {
      "application/vnd.plotly.v1+json": {
       "config": {
        "plotlyServerURL": "https://plot.ly"
       },
       "data": [
        {
         "coloraxis": "coloraxis",
         "hovertemplate": "Model attention layer: %{x}<br>Attention head in layer: %{y}<br>color: %{z}<extra></extra>",
         "name": "0",
         "type": "heatmap",
         "xaxis": "x",
         "yaxis": "y",
         "z": {
          "bdata": "KalBOKvEgrh3voS54skCOOLaA7kJKO252bumuVuMlzgrx5458nd+OWTykDs5FyC3vJGkuRBgQzifE185N5WGuND3PDiIAzm5ia2POMzrjzctbYW5MnlEuaUgbjrFd8+7IC33uJ6y2jm8rey4nEAmOYJ4iTjO+Y65FDYEuY5RZzbnaJ45h1iaOo756jleAaU6wtmFud4kMrlCEFA5slIBuZTjQbo2SMQ4oJl9ONb6UDoiUfe6tG4gOhxdcDrLfvw6S9JctydkkjnZp624jEM5ua4VLrnMeek5gqFTOhIOLbjS/DY5UW6WukDEmjmUaYA6vgt5OfR7B7qDxq24ts7euFz9NLjg5Oc52q8FORlhvzk+b9Q4BCrLuZmbArmhXZ65crLiN5fOwTmJlzu58u4vOAfxGbdm06c4ZXJwuneeZDnZ+Wm5Ez45PIJPMbvuwCs3Cz2lOJ3xQrkuexE5fis/uUeJwDjU/hw4GZ9xOHuMSzgr5IK2JCpOOFhTIryS6Wq6cA4+OWYHXLlk5KQ4JAvbOLcFnDlp4Rg59+6wubPRkbmVW0E4sPUSOzLFvLiwDfm5xxGmNVBCgrh5jI05cl01OetAvjjEPF251aL3tkJVFzvjRtk5adBePJckLjq3OF45gOflNyBJ/riA7GQ3ZODsOPn0+bg1uNE5sB2OOVlDUrh8DkI7VSWvtzXhTTuVv827EPjXOR4qfzhNeTg5b025OXZNTzlw+i+5J/+fOJlLtjcP9So7fA/AN1RHpzkY6QA6",
          "dtype": "f4",
          "shape": "12, 12"
         }
        }
       ],
       "layout": {
        "coloraxis": {
         "cmid": 0,
         "colorscale": [
          [
           0,
           "rgb(103,0,31)"
          ],
          [
           0.1,
           "rgb(178,24,43)"
          ],
          [
           0.2,
           "rgb(214,96,77)"
          ],
          [
           0.3,
           "rgb(244,165,130)"
          ],
          [
           0.4,
           "rgb(253,219,199)"
          ],
          [
           0.5,
           "rgb(247,247,247)"
          ],
          [
           0.6,
           "rgb(209,229,240)"
          ],
          [
           0.7,
           "rgb(146,197,222)"
          ],
          [
           0.8,
           "rgb(67,147,195)"
          ],
          [
           0.9,
           "rgb(33,102,172)"
          ],
          [
           1,
           "rgb(5,48,97)"
          ]
         ]
        },
        "template": {
         "data": {
          "bar": [
           {
            "error_x": {
             "color": "#2a3f5f"
            },
            "error_y": {
             "color": "#2a3f5f"
            },
            "marker": {
             "line": {
              "color": "#E5ECF6",
              "width": 0.5
             },
             "pattern": {
              "fillmode": "overlay",
              "size": 10,
              "solidity": 0.2
             }
            },
            "type": "bar"
           }
          ],
          "barpolar": [
           {
            "marker": {
             "line": {
              "color": "#E5ECF6",
              "width": 0.5
             },
             "pattern": {
              "fillmode": "overlay",
              "size": 10,
              "solidity": 0.2
             }
            },
            "type": "barpolar"
           }
          ],
          "carpet": [
           {
            "aaxis": {
             "endlinecolor": "#2a3f5f",
             "gridcolor": "white",
             "linecolor": "white",
             "minorgridcolor": "white",
             "startlinecolor": "#2a3f5f"
            },
            "baxis": {
             "endlinecolor": "#2a3f5f",
             "gridcolor": "white",
             "linecolor": "white",
             "minorgridcolor": "white",
             "startlinecolor": "#2a3f5f"
            },
            "type": "carpet"
           }
          ],
          "choropleth": [
           {
            "colorbar": {
             "outlinewidth": 0,
             "ticks": ""
            },
            "type": "choropleth"
           }
          ],
          "contour": [
           {
            "colorbar": {
             "outlinewidth": 0,
             "ticks": ""
            },
            "colorscale": [
             [
              0,
              "#0d0887"
             ],
             [
              0.1111111111111111,
              "#46039f"
             ],
             [
              0.2222222222222222,
              "#7201a8"
             ],
             [
              0.3333333333333333,
              "#9c179e"
             ],
             [
              0.4444444444444444,
              "#bd3786"
             ],
             [
              0.5555555555555556,
              "#d8576b"
             ],
             [
              0.6666666666666666,
              "#ed7953"
             ],
             [
              0.7777777777777778,
              "#fb9f3a"
             ],
             [
              0.8888888888888888,
              "#fdca26"
             ],
             [
              1,
              "#f0f921"
             ]
            ],
            "type": "contour"
           }
          ],
          "contourcarpet": [
           {
            "colorbar": {
             "outlinewidth": 0,
             "ticks": ""
            },
            "type": "contourcarpet"
           }
          ],
          "heatmap": [
           {
            "colorbar": {
             "outlinewidth": 0,
             "ticks": ""
            },
            "colorscale": [
             [
              0,
              "#0d0887"
             ],
             [
              0.1111111111111111,
              "#46039f"
             ],
             [
              0.2222222222222222,
              "#7201a8"
             ],
             [
              0.3333333333333333,
              "#9c179e"
             ],
             [
              0.4444444444444444,
              "#bd3786"
             ],
             [
              0.5555555555555556,
              "#d8576b"
             ],
             [
              0.6666666666666666,
              "#ed7953"
             ],
             [
              0.7777777777777778,
              "#fb9f3a"
             ],
             [
              0.8888888888888888,
              "#fdca26"
             ],
             [
              1,
              "#f0f921"
             ]
            ],
            "type": "heatmap"
           }
          ],
          "histogram": [
           {
            "marker": {
             "pattern": {
              "fillmode": "overlay",
              "size": 10,
              "solidity": 0.2
             }
            },
            "type": "histogram"
           }
          ],
          "histogram2d": [
           {
            "colorbar": {
             "outlinewidth": 0,
             "ticks": ""
            },
            "colorscale": [
             [
              0,
              "#0d0887"
             ],
             [
              0.1111111111111111,
              "#46039f"
             ],
             [
              0.2222222222222222,
              "#7201a8"
             ],
             [
              0.3333333333333333,
              "#9c179e"
             ],
             [
              0.4444444444444444,
              "#bd3786"
             ],
             [
              0.5555555555555556,
              "#d8576b"
             ],
             [
              0.6666666666666666,
              "#ed7953"
             ],
             [
              0.7777777777777778,
              "#fb9f3a"
             ],
             [
              0.8888888888888888,
              "#fdca26"
             ],
             [
              1,
              "#f0f921"
             ]
            ],
            "type": "histogram2d"
           }
          ],
          "histogram2dcontour": [
           {
            "colorbar": {
             "outlinewidth": 0,
             "ticks": ""
            },
            "colorscale": [
             [
              0,
              "#0d0887"
             ],
             [
              0.1111111111111111,
              "#46039f"
             ],
             [
              0.2222222222222222,
              "#7201a8"
             ],
             [
              0.3333333333333333,
              "#9c179e"
             ],
             [
              0.4444444444444444,
              "#bd3786"
             ],
             [
              0.5555555555555556,
              "#d8576b"
             ],
             [
              0.6666666666666666,
              "#ed7953"
             ],
             [
              0.7777777777777778,
              "#fb9f3a"
             ],
             [
              0.8888888888888888,
              "#fdca26"
             ],
             [
              1,
              "#f0f921"
             ]
            ],
            "type": "histogram2dcontour"
           }
          ],
          "mesh3d": [
           {
            "colorbar": {
             "outlinewidth": 0,
             "ticks": ""
            },
            "type": "mesh3d"
           }
          ],
          "parcoords": [
           {
            "line": {
             "colorbar": {
              "outlinewidth": 0,
              "ticks": ""
             }
            },
            "type": "parcoords"
           }
          ],
          "pie": [
           {
            "automargin": true,
            "type": "pie"
           }
          ],
          "scatter": [
           {
            "fillpattern": {
             "fillmode": "overlay",
             "size": 10,
             "solidity": 0.2
            },
            "type": "scatter"
           }
          ],
          "scatter3d": [
           {
            "line": {
             "colorbar": {
              "outlinewidth": 0,
              "ticks": ""
             }
            },
            "marker": {
             "colorbar": {
              "outlinewidth": 0,
              "ticks": ""
             }
            },
            "type": "scatter3d"
           }
          ],
          "scattercarpet": [
           {
            "marker": {
             "colorbar": {
              "outlinewidth": 0,
              "ticks": ""
             }
            },
            "type": "scattercarpet"
           }
          ],
          "scattergeo": [
           {
            "marker": {
             "colorbar": {
              "outlinewidth": 0,
              "ticks": ""
             }
            },
            "type": "scattergeo"
           }
          ],
          "scattergl": [
           {
            "marker": {
             "colorbar": {
              "outlinewidth": 0,
              "ticks": ""
             }
            },
            "type": "scattergl"
           }
          ],
          "scattermap": [
           {
            "marker": {
             "colorbar": {
              "outlinewidth": 0,
              "ticks": ""
             }
            },
            "type": "scattermap"
           }
          ],
          "scattermapbox": [
           {
            "marker": {
             "colorbar": {
              "outlinewidth": 0,
              "ticks": ""
             }
            },
            "type": "scattermapbox"
           }
          ],
          "scatterpolar": [
           {
            "marker": {
             "colorbar": {
              "outlinewidth": 0,
              "ticks": ""
             }
            },
            "type": "scatterpolar"
           }
          ],
          "scatterpolargl": [
           {
            "marker": {
             "colorbar": {
              "outlinewidth": 0,
              "ticks": ""
             }
            },
            "type": "scatterpolargl"
           }
          ],
          "scatterternary": [
           {
            "marker": {
             "colorbar": {
              "outlinewidth": 0,
              "ticks": ""
             }
            },
            "type": "scatterternary"
           }
          ],
          "surface": [
           {
            "colorbar": {
             "outlinewidth": 0,
             "ticks": ""
            },
            "colorscale": [
             [
              0,
              "#0d0887"
             ],
             [
              0.1111111111111111,
              "#46039f"
             ],
             [
              0.2222222222222222,
              "#7201a8"
             ],
             [
              0.3333333333333333,
              "#9c179e"
             ],
             [
              0.4444444444444444,
              "#bd3786"
             ],
             [
              0.5555555555555556,
              "#d8576b"
             ],
             [
              0.6666666666666666,
              "#ed7953"
             ],
             [
              0.7777777777777778,
              "#fb9f3a"
             ],
             [
              0.8888888888888888,
              "#fdca26"
             ],
             [
              1,
              "#f0f921"
             ]
            ],
            "type": "surface"
           }
          ],
          "table": [
           {
            "cells": {
             "fill": {
              "color": "#EBF0F8"
             },
             "line": {
              "color": "white"
             }
            },
            "header": {
             "fill": {
              "color": "#C8D4E3"
             },
             "line": {
              "color": "white"
             }
            },
            "type": "table"
           }
          ]
         },
         "layout": {
          "annotationdefaults": {
           "arrowcolor": "#2a3f5f",
           "arrowhead": 0,
           "arrowwidth": 1
          },
          "autotypenumbers": "strict",
          "coloraxis": {
           "colorbar": {
            "outlinewidth": 0,
            "ticks": ""
           }
          },
          "colorscale": {
           "diverging": [
            [
             0,
             "#8e0152"
            ],
            [
             0.1,
             "#c51b7d"
            ],
            [
             0.2,
             "#de77ae"
            ],
            [
             0.3,
             "#f1b6da"
            ],
            [
             0.4,
             "#fde0ef"
            ],
            [
             0.5,
             "#f7f7f7"
            ],
            [
             0.6,
             "#e6f5d0"
            ],
            [
             0.7,
             "#b8e186"
            ],
            [
             0.8,
             "#7fbc41"
            ],
            [
             0.9,
             "#4d9221"
            ],
            [
             1,
             "#276419"
            ]
           ],
           "sequential": [
            [
             0,
             "#0d0887"
            ],
            [
             0.1111111111111111,
             "#46039f"
            ],
            [
             0.2222222222222222,
             "#7201a8"
            ],
            [
             0.3333333333333333,
             "#9c179e"
            ],
            [
             0.4444444444444444,
             "#bd3786"
            ],
            [
             0.5555555555555556,
             "#d8576b"
            ],
            [
             0.6666666666666666,
             "#ed7953"
            ],
            [
             0.7777777777777778,
             "#fb9f3a"
            ],
            [
             0.8888888888888888,
             "#fdca26"
            ],
            [
             1,
             "#f0f921"
            ]
           ],
           "sequentialminus": [
            [
             0,
             "#0d0887"
            ],
            [
             0.1111111111111111,
             "#46039f"
            ],
            [
             0.2222222222222222,
             "#7201a8"
            ],
            [
             0.3333333333333333,
             "#9c179e"
            ],
            [
             0.4444444444444444,
             "#bd3786"
            ],
            [
             0.5555555555555556,
             "#d8576b"
            ],
            [
             0.6666666666666666,
             "#ed7953"
            ],
            [
             0.7777777777777778,
             "#fb9f3a"
            ],
            [
             0.8888888888888888,
             "#fdca26"
            ],
            [
             1,
             "#f0f921"
            ]
           ]
          },
          "colorway": [
           "#636efa",
           "#EF553B",
           "#00cc96",
           "#ab63fa",
           "#FFA15A",
           "#19d3f3",
           "#FF6692",
           "#B6E880",
           "#FF97FF",
           "#FECB52"
          ],
          "font": {
           "color": "#2a3f5f"
          },
          "geo": {
           "bgcolor": "white",
           "lakecolor": "white",
           "landcolor": "#E5ECF6",
           "showlakes": true,
           "showland": true,
           "subunitcolor": "white"
          },
          "hoverlabel": {
           "align": "left"
          },
          "hovermode": "closest",
          "mapbox": {
           "style": "light"
          },
          "paper_bgcolor": "white",
          "plot_bgcolor": "#E5ECF6",
          "polar": {
           "angularaxis": {
            "gridcolor": "white",
            "linecolor": "white",
            "ticks": ""
           },
           "bgcolor": "#E5ECF6",
           "radialaxis": {
            "gridcolor": "white",
            "linecolor": "white",
            "ticks": ""
           }
          },
          "scene": {
           "xaxis": {
            "backgroundcolor": "#E5ECF6",
            "gridcolor": "white",
            "gridwidth": 2,
            "linecolor": "white",
            "showbackground": true,
            "ticks": "",
            "zerolinecolor": "white"
           },
           "yaxis": {
            "backgroundcolor": "#E5ECF6",
            "gridcolor": "white",
            "gridwidth": 2,
            "linecolor": "white",
            "showbackground": true,
            "ticks": "",
            "zerolinecolor": "white"
           },
           "zaxis": {
            "backgroundcolor": "#E5ECF6",
            "gridcolor": "white",
            "gridwidth": 2,
            "linecolor": "white",
            "showbackground": true,
            "ticks": "",
            "zerolinecolor": "white"
           }
          },
          "shapedefaults": {
           "line": {
            "color": "#2a3f5f"
           }
          },
          "ternary": {
           "aaxis": {
            "gridcolor": "white",
            "linecolor": "white",
            "ticks": ""
           },
           "baxis": {
            "gridcolor": "white",
            "linecolor": "white",
            "ticks": ""
           },
           "bgcolor": "#E5ECF6",
           "caxis": {
            "gridcolor": "white",
            "linecolor": "white",
            "ticks": ""
           }
          },
          "title": {
           "x": 0.05
          },
          "xaxis": {
           "automargin": true,
           "gridcolor": "white",
           "linecolor": "white",
           "ticks": "",
           "title": {
            "standoff": 15
           },
           "zerolinecolor": "white",
           "zerolinewidth": 2
          },
          "yaxis": {
           "automargin": true,
           "gridcolor": "white",
           "linecolor": "white",
           "ticks": "",
           "title": {
            "standoff": 15
           },
           "zerolinecolor": "white",
           "zerolinewidth": 2
          }
         }
        },
        "title": {
         "text": "Logit difference from each attention head"
        },
        "xaxis": {
         "anchor": "y",
         "constrain": "domain",
         "domain": [
          0,
          1
         ],
         "scaleanchor": "y",
         "title": {
          "text": "Model attention layer"
         }
        },
        "yaxis": {
         "anchor": "x",
         "autorange": true,
         "constrain": "domain",
         "domain": [
          0,
          1
         ],
         "title": {
          "text": "Attention head in layer"
         }
        }
       }
      }
     },
     "metadata": {},
     "output_type": "display_data"
    }
   ],
   "source": [
    "per_head_residual_stream, component_labels = activation_cache.stack_head_results(\n",
    "    layer=-1,\n",
    "    pos_slice=-1,\n",
    "    return_labels=True,\n",
    ")\n",
    "\n",
    "per_head_logit_differences = residual_stream_to_logit_diff(\n",
    "    per_head_residual_stream,\n",
    "    activation_cache,\n",
    "    logit_difference_directions\n",
    ")\n",
    "\n",
    "per_head_logit_differences = einops.rearrange(\n",
    "    per_head_logit_differences,\n",
    "    \"(layer head_index) -> layer head_index\",\n",
    "    layer=model.cfg.n_layers,\n",
    "    head_index=model.cfg.n_heads,\n",
    ")\n",
    "\n",
    "per_head_logit_differences = utils.to_numpy(per_head_logit_differences)\n",
    "transposed_per_head_logit_differences = per_head_logit_differences.T\n",
    "\n",
    "px.imshow(\n",
    "    transposed_per_head_logit_differences,\n",
    "    color_continuous_midpoint=0.0,\n",
    "    color_continuous_scale=\"RdBu\",\n",
    "    title=\"Logit difference from each attention head\",\n",
    "    labels={\"x\": \"Model attention layer\", \"y\": \"Attention head in layer\"},\n",
    "    origin=\"lower\",\n",
    ").show()"
   ]
  },
  {
   "cell_type": "markdown",
   "id": "6d8e0825",
   "metadata": {},
   "source": [
    "### Attention analysis\n",
    "\n",
    "* For each attention head, we can observe its attention pattern to identify what positions they move information from and to.\n",
    "* Here we're looking at the direct effect on the logits so we need only look at the attention patterns from the final token."
   ]
  }
 ],
 "metadata": {
  "kernelspec": {
   "display_name": ".venv",
   "language": "python",
   "name": "python3"
  },
  "language_info": {
   "codemirror_mode": {
    "name": "ipython",
    "version": 3
   },
   "file_extension": ".py",
   "mimetype": "text/x-python",
   "name": "python",
   "nbconvert_exporter": "python",
   "pygments_lexer": "ipython3",
   "version": "3.10.11"
  }
 },
 "nbformat": 4,
 "nbformat_minor": 5
}
